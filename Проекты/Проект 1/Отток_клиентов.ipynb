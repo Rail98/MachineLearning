{
 "cells": [
  {
   "cell_type": "markdown",
   "metadata": {},
   "source": [
    "### Описание проекта\n",
    "\n",
    "Оператор связи «ТелеДом» хочет научиться прогнозировать отток клиентов. Если выяснится, что пользователь планирует уйти, ему будут предложены промокоды и специальные условия. Команда оператора собрала персональные данные о некоторых клиентах, информацию об их тарифах и договорах. \n",
    "\n",
    "#### Описание услуг\n",
    "\n",
    "Оператор предоставляет два основных типа услуг: \n",
    "- Стационарную телефонную связь. Возможно подключение телефонного аппарата к нескольким линиям одновременно.\n",
    "- Интернет. Подключение может быть двух типов: через телефонную линию DSL (от англ. digital subscriber line — «цифровая абонентская линия») или оптоволоконный кабель (Fiber optic).\n",
    "\n",
    "Также доступны такие услуги:\n",
    "- Интернет-безопасность: антивирус (DeviceProtection) и блокировка небезопасных сайтов (OnlineSecurity);\n",
    "- Выделенная линия технической поддержки (TechSupport);\n",
    "- Облачное хранилище файлов для резервного копирования данных (OnlineBackup);\n",
    "- Стриминговое телевидение (StreamingTV) и каталог фильмов (StreamingMovies).\n",
    "\n",
    "За услуги клиенты могут платить каждый месяц или заключить договор на 1–2 года. Доступны различные способы расчёта и возможность получения электронного чека.\n",
    "\n",
    "#### Описание данных\n",
    "Данные хранятся в таблицах в базе данных PostgreSQL:\n",
    "\n",
    "- contract — информация о договоре,\n",
    "- personal — персональные данные клиента,\n",
    "- internet — информация об интернет-услугах,\n",
    "- phone — информация об услугах телефонии.\n",
    "\n",
    "Таблица `telecom.contract`\n",
    "- customerID — ID пользователя,\n",
    "- BeginDate — дата начала действия,\n",
    "- EndDate — дата окончания действия,\n",
    "- Type — тип оплаты (раз в год или помесячно),\n",
    "- PaperlessBilling — безбумажный расчётный лист,\n",
    "- PaymentMethod — тип платежа,\n",
    "- MonthlyCharges — расход за месяц,\n",
    "- TotalCharges — общие расходы.\n",
    "\n",
    "Таблица `personal`\n",
    "- customerID — ID пользователя,\n",
    "- gender — пол,\n",
    "- SeniorCitizen — является ли абонент пенсионером,\n",
    "- Partner — есть ли у абонента супруг/супруга,\n",
    "- Dependents — есть ли у абонента дети.\n",
    "\n",
    "Таблица `telecom.internet`\n",
    "- customerID — ID пользователя,\n",
    "- InternetService — тип подключения,\n",
    "- OnlineSecurity — блокировка небезопасных сайтов,\n",
    "- OnlineBackup — облачное хранилище файлов для резервного копирования данных,\n",
    "- DeviceProtection — антивирус,\n",
    "- TechSupport — выделенная линия технической поддержки,\n",
    "- StreamingTV — стриминговое телевидение,\n",
    "- StreamingMovies — каталог фильмов.\n",
    "\n",
    "Таблица `telecom.phone`\n",
    "- customerID — ID пользователя,\n",
    "- MultipleLines — подключение телефонного аппарата к нескольким линиям одновременно.\n",
    "\n",
    "Информация о договорах актуальна на 1 февраля 2020."
   ]
  },
  {
   "cell_type": "code",
   "execution_count": 26,
   "metadata": {},
   "outputs": [
    {
     "name": "stdout",
     "output_type": "stream",
     "text": [
      "Requirement already satisfied: phik in /opt/conda/lib/python3.9/site-packages (0.12.3)\n",
      "Requirement already satisfied: pandas>=0.25.1 in /opt/conda/lib/python3.9/site-packages (from phik) (1.2.4)\n",
      "Requirement already satisfied: matplotlib>=2.2.3 in /opt/conda/lib/python3.9/site-packages (from phik) (3.3.4)\n",
      "Requirement already satisfied: joblib>=0.14.1 in /opt/conda/lib/python3.9/site-packages (from phik) (1.1.0)\n",
      "Requirement already satisfied: numpy>=1.18.0 in /opt/conda/lib/python3.9/site-packages (from phik) (1.21.1)\n",
      "Requirement already satisfied: scipy>=1.5.2 in /opt/conda/lib/python3.9/site-packages (from phik) (1.9.1)\n",
      "Requirement already satisfied: pillow>=6.2.0 in /opt/conda/lib/python3.9/site-packages (from matplotlib>=2.2.3->phik) (8.4.0)\n",
      "Requirement already satisfied: python-dateutil>=2.1 in /opt/conda/lib/python3.9/site-packages (from matplotlib>=2.2.3->phik) (2.8.1)\n",
      "Requirement already satisfied: kiwisolver>=1.0.1 in /opt/conda/lib/python3.9/site-packages (from matplotlib>=2.2.3->phik) (1.4.4)\n",
      "Requirement already satisfied: pyparsing!=2.0.4,!=2.1.2,!=2.1.6,>=2.0.3 in /opt/conda/lib/python3.9/site-packages (from matplotlib>=2.2.3->phik) (2.4.7)\n",
      "Requirement already satisfied: cycler>=0.10 in /opt/conda/lib/python3.9/site-packages (from matplotlib>=2.2.3->phik) (0.11.0)\n",
      "Requirement already satisfied: pytz>=2017.3 in /opt/conda/lib/python3.9/site-packages (from pandas>=0.25.1->phik) (2021.1)\n",
      "Requirement already satisfied: six>=1.5 in /opt/conda/lib/python3.9/site-packages (from python-dateutil>=2.1->matplotlib>=2.2.3->phik) (1.16.0)\n"
     ]
    }
   ],
   "source": [
    "# заранее укажем с какими библиотеками будем работать\n",
    "import pandas as pd\n",
    "import numpy as np\n",
    "from sqlalchemy import create_engine\n",
    "\n",
    "import matplotlib.pyplot as plt\n",
    "import seaborn as sns\n",
    "\n",
    "!pip install phik\n",
    "from phik.report import plot_correlation_matrix\n",
    "\n",
    "from sklearn.model_selection import train_test_split, GridSearchCV\n",
    "from sklearn.preprocessing import OneHotEncoder, StandardScaler\n",
    "from sklearn.tree import DecisionTreeClassifier\n",
    "from sklearn.metrics import roc_auc_score, confusion_matrix\n",
    "\n",
    "from catboost import CatBoostClassifier\n",
    "\n",
    "from tensorflow.keras.models import Sequential\n",
    "from tensorflow.keras.layers import Dense, Dropout\n",
    "from tensorflow.keras.optimizers import Adam\n",
    "from tensorflow.keras.wrappers.scikit_learn import KerasClassifier"
   ]
  },
  {
   "cell_type": "markdown",
   "metadata": {},
   "source": [
    "### Подключение к базе данных"
   ]
  },
  {
   "cell_type": "markdown",
   "metadata": {},
   "source": [
    "Подключимся к базе данных, откуда будем выгружать таблицы с нужной информацией."
   ]
  },
  {
   "cell_type": "code",
   "execution_count": 27,
   "metadata": {},
   "outputs": [],
   "source": [
    "# параметры для соединения к БД\n",
    "db_config = {\n",
    "'user': 'praktikum_student', # имя пользователя,\n",
    "'pwd': 'Sdf4$2;d-d30pp', # пароль,\n",
    "'host': 'rc1b-wcoijxj3yxfsf3fs.mdb.yandexcloud.net',\n",
    "'port': 6432, # порт подключения,\n",
    "'db': 'data-science-final' # название базы данных,\n",
    "} "
   ]
  },
  {
   "cell_type": "code",
   "execution_count": 28,
   "metadata": {},
   "outputs": [],
   "source": [
    "# подключение к БД\n",
    "connection_string = 'postgresql://{}:{}@{}:{}/{}'.format(\n",
    "    db_config['user'],\n",
    "    db_config['pwd'],\n",
    "    db_config['host'],\n",
    "    db_config['port'],\n",
    "    db_config['db']\n",
    ")\n",
    "\n",
    "engine = create_engine(connection_string)"
   ]
  },
  {
   "cell_type": "markdown",
   "metadata": {},
   "source": [
    "### Исследовательский анализ данных"
   ]
  },
  {
   "cell_type": "markdown",
   "metadata": {},
   "source": [
    "Проанализируем исходные данные на входе. А именно:\n",
    "- Все ли таблицы имеют набор данных.\n",
    "- Соответствует ли количество таблиц условию задачи.\n",
    "- Имеется ли общий ключ для связи таблиц.\n",
    "- Сравним распределения величин ежемесячных платежей (MonthlyCharges) всех действующих клиентов и тех, кто ушёл. Для каждой группы посчитаем статистические показатели: средние, минимальные и максимальные значения, медиану и величины 25%- и 75%-квартилей. Построим гистограммы распределения.\n",
    "- Сравним поведение клиентов этих двух групп. Для каждой построим два графика, отражающие:\n",
    "    - долю пользователей телефонной связи,\n",
    "    - долю интернет-пользователей.\n",
    "    \n",
    "- Выделим целевую переменную на основе поля EndDate."
   ]
  },
  {
   "cell_type": "code",
   "execution_count": 29,
   "metadata": {},
   "outputs": [
    {
     "name": "stdout",
     "output_type": "stream",
     "text": [
      "Таблица: telecom.contract\n"
     ]
    },
    {
     "data": {
      "text/html": [
       "<div>\n",
       "<style scoped>\n",
       "    .dataframe tbody tr th:only-of-type {\n",
       "        vertical-align: middle;\n",
       "    }\n",
       "\n",
       "    .dataframe tbody tr th {\n",
       "        vertical-align: top;\n",
       "    }\n",
       "\n",
       "    .dataframe thead th {\n",
       "        text-align: right;\n",
       "    }\n",
       "</style>\n",
       "<table border=\"1\" class=\"dataframe\">\n",
       "  <thead>\n",
       "    <tr style=\"text-align: right;\">\n",
       "      <th></th>\n",
       "      <th>customerID</th>\n",
       "      <th>BeginDate</th>\n",
       "      <th>EndDate</th>\n",
       "      <th>Type</th>\n",
       "      <th>PaperlessBilling</th>\n",
       "      <th>PaymentMethod</th>\n",
       "      <th>MonthlyCharges</th>\n",
       "      <th>TotalCharges</th>\n",
       "    </tr>\n",
       "  </thead>\n",
       "  <tbody>\n",
       "    <tr>\n",
       "      <th>0</th>\n",
       "      <td>4472-LVYGI</td>\n",
       "      <td>2020-02-01</td>\n",
       "      <td>None</td>\n",
       "      <td>Two year</td>\n",
       "      <td>Yes</td>\n",
       "      <td>Bank transfer (automatic)</td>\n",
       "      <td>52.55</td>\n",
       "      <td>NaN</td>\n",
       "    </tr>\n",
       "    <tr>\n",
       "      <th>1</th>\n",
       "      <td>3115-CZMZD</td>\n",
       "      <td>2020-02-01</td>\n",
       "      <td>None</td>\n",
       "      <td>Two year</td>\n",
       "      <td>No</td>\n",
       "      <td>Mailed check</td>\n",
       "      <td>20.25</td>\n",
       "      <td>NaN</td>\n",
       "    </tr>\n",
       "    <tr>\n",
       "      <th>2</th>\n",
       "      <td>3668-QPYBK</td>\n",
       "      <td>2018-08-09</td>\n",
       "      <td>2019-12-01</td>\n",
       "      <td>Month-to-month</td>\n",
       "      <td>Yes</td>\n",
       "      <td>Mailed check</td>\n",
       "      <td>53.85</td>\n",
       "      <td>108.15</td>\n",
       "    </tr>\n",
       "    <tr>\n",
       "      <th>3</th>\n",
       "      <td>5709-LVOEQ</td>\n",
       "      <td>2020-02-01</td>\n",
       "      <td>None</td>\n",
       "      <td>Two year</td>\n",
       "      <td>No</td>\n",
       "      <td>Mailed check</td>\n",
       "      <td>80.85</td>\n",
       "      <td>NaN</td>\n",
       "    </tr>\n",
       "    <tr>\n",
       "      <th>4</th>\n",
       "      <td>9237-HQITU</td>\n",
       "      <td>2019-01-26</td>\n",
       "      <td>2019-11-01</td>\n",
       "      <td>Month-to-month</td>\n",
       "      <td>Yes</td>\n",
       "      <td>Electronic check</td>\n",
       "      <td>70.70</td>\n",
       "      <td>151.65</td>\n",
       "    </tr>\n",
       "  </tbody>\n",
       "</table>\n",
       "</div>"
      ],
      "text/plain": [
       "   customerID   BeginDate     EndDate            Type PaperlessBilling  \\\n",
       "0  4472-LVYGI  2020-02-01        None        Two year              Yes   \n",
       "1  3115-CZMZD  2020-02-01        None        Two year               No   \n",
       "2  3668-QPYBK  2018-08-09  2019-12-01  Month-to-month              Yes   \n",
       "3  5709-LVOEQ  2020-02-01        None        Two year               No   \n",
       "4  9237-HQITU  2019-01-26  2019-11-01  Month-to-month              Yes   \n",
       "\n",
       "               PaymentMethod  MonthlyCharges  TotalCharges  \n",
       "0  Bank transfer (automatic)           52.55           NaN  \n",
       "1               Mailed check           20.25           NaN  \n",
       "2               Mailed check           53.85        108.15  \n",
       "3               Mailed check           80.85           NaN  \n",
       "4           Electronic check           70.70        151.65  "
      ]
     },
     "metadata": {},
     "output_type": "display_data"
    },
    {
     "name": "stdout",
     "output_type": "stream",
     "text": [
      "Таблица: telecom.personal\n"
     ]
    },
    {
     "data": {
      "text/html": [
       "<div>\n",
       "<style scoped>\n",
       "    .dataframe tbody tr th:only-of-type {\n",
       "        vertical-align: middle;\n",
       "    }\n",
       "\n",
       "    .dataframe tbody tr th {\n",
       "        vertical-align: top;\n",
       "    }\n",
       "\n",
       "    .dataframe thead th {\n",
       "        text-align: right;\n",
       "    }\n",
       "</style>\n",
       "<table border=\"1\" class=\"dataframe\">\n",
       "  <thead>\n",
       "    <tr style=\"text-align: right;\">\n",
       "      <th></th>\n",
       "      <th>customerID</th>\n",
       "      <th>gender</th>\n",
       "      <th>SeniorCitizen</th>\n",
       "      <th>Partner</th>\n",
       "      <th>Dependents</th>\n",
       "    </tr>\n",
       "  </thead>\n",
       "  <tbody>\n",
       "    <tr>\n",
       "      <th>0</th>\n",
       "      <td>7590-VHVEG</td>\n",
       "      <td>Female</td>\n",
       "      <td>0</td>\n",
       "      <td>Yes</td>\n",
       "      <td>No</td>\n",
       "    </tr>\n",
       "    <tr>\n",
       "      <th>1</th>\n",
       "      <td>5575-GNVDE</td>\n",
       "      <td>Male</td>\n",
       "      <td>0</td>\n",
       "      <td>No</td>\n",
       "      <td>No</td>\n",
       "    </tr>\n",
       "    <tr>\n",
       "      <th>2</th>\n",
       "      <td>3668-QPYBK</td>\n",
       "      <td>Male</td>\n",
       "      <td>0</td>\n",
       "      <td>No</td>\n",
       "      <td>No</td>\n",
       "    </tr>\n",
       "    <tr>\n",
       "      <th>3</th>\n",
       "      <td>7795-CFOCW</td>\n",
       "      <td>Male</td>\n",
       "      <td>0</td>\n",
       "      <td>No</td>\n",
       "      <td>No</td>\n",
       "    </tr>\n",
       "    <tr>\n",
       "      <th>4</th>\n",
       "      <td>9237-HQITU</td>\n",
       "      <td>Female</td>\n",
       "      <td>0</td>\n",
       "      <td>No</td>\n",
       "      <td>No</td>\n",
       "    </tr>\n",
       "  </tbody>\n",
       "</table>\n",
       "</div>"
      ],
      "text/plain": [
       "   customerID  gender  SeniorCitizen Partner Dependents\n",
       "0  7590-VHVEG  Female              0     Yes         No\n",
       "1  5575-GNVDE    Male              0      No         No\n",
       "2  3668-QPYBK    Male              0      No         No\n",
       "3  7795-CFOCW    Male              0      No         No\n",
       "4  9237-HQITU  Female              0      No         No"
      ]
     },
     "metadata": {},
     "output_type": "display_data"
    },
    {
     "name": "stdout",
     "output_type": "stream",
     "text": [
      "Таблица: telecom.internet\n"
     ]
    },
    {
     "data": {
      "text/html": [
       "<div>\n",
       "<style scoped>\n",
       "    .dataframe tbody tr th:only-of-type {\n",
       "        vertical-align: middle;\n",
       "    }\n",
       "\n",
       "    .dataframe tbody tr th {\n",
       "        vertical-align: top;\n",
       "    }\n",
       "\n",
       "    .dataframe thead th {\n",
       "        text-align: right;\n",
       "    }\n",
       "</style>\n",
       "<table border=\"1\" class=\"dataframe\">\n",
       "  <thead>\n",
       "    <tr style=\"text-align: right;\">\n",
       "      <th></th>\n",
       "      <th>c1</th>\n",
       "      <th>c2</th>\n",
       "      <th>c3</th>\n",
       "      <th>c4</th>\n",
       "      <th>c5</th>\n",
       "      <th>c6</th>\n",
       "      <th>c7</th>\n",
       "      <th>c8</th>\n",
       "    </tr>\n",
       "  </thead>\n",
       "  <tbody>\n",
       "    <tr>\n",
       "      <th>0</th>\n",
       "      <td>customerID</td>\n",
       "      <td>InternetService</td>\n",
       "      <td>OnlineSecurity</td>\n",
       "      <td>OnlineBackup</td>\n",
       "      <td>DeviceProtection</td>\n",
       "      <td>TechSupport</td>\n",
       "      <td>StreamingTV</td>\n",
       "      <td>StreamingMovies</td>\n",
       "    </tr>\n",
       "    <tr>\n",
       "      <th>1</th>\n",
       "      <td>7590-VHVEG</td>\n",
       "      <td>DSL</td>\n",
       "      <td>No</td>\n",
       "      <td>Yes</td>\n",
       "      <td>No</td>\n",
       "      <td>No</td>\n",
       "      <td>No</td>\n",
       "      <td>No</td>\n",
       "    </tr>\n",
       "    <tr>\n",
       "      <th>2</th>\n",
       "      <td>5575-GNVDE</td>\n",
       "      <td>DSL</td>\n",
       "      <td>Yes</td>\n",
       "      <td>No</td>\n",
       "      <td>Yes</td>\n",
       "      <td>No</td>\n",
       "      <td>No</td>\n",
       "      <td>No</td>\n",
       "    </tr>\n",
       "    <tr>\n",
       "      <th>3</th>\n",
       "      <td>3668-QPYBK</td>\n",
       "      <td>DSL</td>\n",
       "      <td>Yes</td>\n",
       "      <td>Yes</td>\n",
       "      <td>No</td>\n",
       "      <td>No</td>\n",
       "      <td>No</td>\n",
       "      <td>No</td>\n",
       "    </tr>\n",
       "    <tr>\n",
       "      <th>4</th>\n",
       "      <td>7795-CFOCW</td>\n",
       "      <td>DSL</td>\n",
       "      <td>Yes</td>\n",
       "      <td>No</td>\n",
       "      <td>Yes</td>\n",
       "      <td>Yes</td>\n",
       "      <td>No</td>\n",
       "      <td>No</td>\n",
       "    </tr>\n",
       "  </tbody>\n",
       "</table>\n",
       "</div>"
      ],
      "text/plain": [
       "           c1               c2              c3            c4  \\\n",
       "0  customerID  InternetService  OnlineSecurity  OnlineBackup   \n",
       "1  7590-VHVEG              DSL              No           Yes   \n",
       "2  5575-GNVDE              DSL             Yes            No   \n",
       "3  3668-QPYBK              DSL             Yes           Yes   \n",
       "4  7795-CFOCW              DSL             Yes            No   \n",
       "\n",
       "                 c5           c6           c7               c8  \n",
       "0  DeviceProtection  TechSupport  StreamingTV  StreamingMovies  \n",
       "1                No           No           No               No  \n",
       "2               Yes           No           No               No  \n",
       "3                No           No           No               No  \n",
       "4               Yes          Yes           No               No  "
      ]
     },
     "metadata": {},
     "output_type": "display_data"
    },
    {
     "name": "stdout",
     "output_type": "stream",
     "text": [
      "Таблица: telecom.phone\n"
     ]
    },
    {
     "data": {
      "text/html": [
       "<div>\n",
       "<style scoped>\n",
       "    .dataframe tbody tr th:only-of-type {\n",
       "        vertical-align: middle;\n",
       "    }\n",
       "\n",
       "    .dataframe tbody tr th {\n",
       "        vertical-align: top;\n",
       "    }\n",
       "\n",
       "    .dataframe thead th {\n",
       "        text-align: right;\n",
       "    }\n",
       "</style>\n",
       "<table border=\"1\" class=\"dataframe\">\n",
       "  <thead>\n",
       "    <tr style=\"text-align: right;\">\n",
       "      <th></th>\n",
       "      <th>c1</th>\n",
       "      <th>c2</th>\n",
       "    </tr>\n",
       "  </thead>\n",
       "  <tbody>\n",
       "    <tr>\n",
       "      <th>0</th>\n",
       "      <td>customerID</td>\n",
       "      <td>MultipleLines</td>\n",
       "    </tr>\n",
       "    <tr>\n",
       "      <th>1</th>\n",
       "      <td>5575-GNVDE</td>\n",
       "      <td>No</td>\n",
       "    </tr>\n",
       "    <tr>\n",
       "      <th>2</th>\n",
       "      <td>3668-QPYBK</td>\n",
       "      <td>No</td>\n",
       "    </tr>\n",
       "    <tr>\n",
       "      <th>3</th>\n",
       "      <td>9237-HQITU</td>\n",
       "      <td>No</td>\n",
       "    </tr>\n",
       "    <tr>\n",
       "      <th>4</th>\n",
       "      <td>9305-CDSKC</td>\n",
       "      <td>Yes</td>\n",
       "    </tr>\n",
       "  </tbody>\n",
       "</table>\n",
       "</div>"
      ],
      "text/plain": [
       "           c1             c2\n",
       "0  customerID  MultipleLines\n",
       "1  5575-GNVDE             No\n",
       "2  3668-QPYBK             No\n",
       "3  9237-HQITU             No\n",
       "4  9305-CDSKC            Yes"
      ]
     },
     "metadata": {},
     "output_type": "display_data"
    }
   ],
   "source": [
    "# выведем на экран первые 5 строки каждой таблицы\n",
    "tables = ['telecom.contract', 'telecom.personal', 'telecom.internet', 'telecom.phone']\n",
    "for table in tables:\n",
    "    query = f'''\n",
    "                SELECT *\n",
    "                FROM {table}\n",
    "                LIMIT 5;\n",
    "             '''\n",
    "    print('Таблица:', table)\n",
    "    display(pd.read_sql_query(query, con=engine))"
   ]
  },
  {
   "cell_type": "markdown",
   "metadata": {},
   "source": [
    "Как оказалось, у таблиц telecom.internet и telecom.phone наименование столбцов смещены вниз.\n",
    "Отметим, что каждая таблица связана между собой по столбцу 'customerID'."
   ]
  },
  {
   "cell_type": "code",
   "execution_count": 30,
   "metadata": {},
   "outputs": [],
   "source": [
    "# сохраним каждую таблицу в отдельную переменную\n",
    "query = f'''\n",
    "            SELECT *\n",
    "            FROM telecom.contract\n",
    "            ;\n",
    "         '''\n",
    "df_contract = pd.read_sql_query(query, con=engine)\n",
    "\n",
    "query = f'''\n",
    "            SELECT *\n",
    "            FROM telecom.personal\n",
    "            ;\n",
    "         '''\n",
    "df_personal = pd.read_sql_query(query, con=engine)\n",
    "\n",
    "query = f'''\n",
    "            SELECT *\n",
    "            FROM telecom.internet\n",
    "            ;\n",
    "         '''\n",
    "df_internet = pd.read_sql_query(query, con=engine)\n",
    "df_internet.columns = df_internet.iloc[0]\n",
    "df_internet = df_internet.drop(index=0).reset_index(drop=True) #index=df.index[0]\n",
    "\n",
    "query = f'''\n",
    "            SELECT *\n",
    "            FROM telecom.phone\n",
    "            ;\n",
    "         '''\n",
    "df_phone = pd.read_sql_query(query, con=engine)\n",
    "df_phone.columns = df_phone.iloc[0]\n",
    "df_phone = df_phone.drop(index=0).reset_index(drop=True) #index=df.index[0]"
   ]
  },
  {
   "cell_type": "code",
   "execution_count": 31,
   "metadata": {
    "scrolled": false
   },
   "outputs": [
    {
     "name": "stdout",
     "output_type": "stream",
     "text": [
      "<class 'pandas.core.frame.DataFrame'>\n",
      "RangeIndex: 7043 entries, 0 to 7042\n",
      "Data columns (total 8 columns):\n",
      " #   Column            Non-Null Count  Dtype  \n",
      "---  ------            --------------  -----  \n",
      " 0   customerID        7043 non-null   object \n",
      " 1   BeginDate         7043 non-null   object \n",
      " 2   EndDate           1869 non-null   object \n",
      " 3   Type              7043 non-null   object \n",
      " 4   PaperlessBilling  7043 non-null   object \n",
      " 5   PaymentMethod     7043 non-null   object \n",
      " 6   MonthlyCharges    7043 non-null   float64\n",
      " 7   TotalCharges      7032 non-null   float64\n",
      "dtypes: float64(2), object(6)\n",
      "memory usage: 440.3+ KB\n"
     ]
    }
   ],
   "source": [
    "# выведем на экран общую информацию таблицы telecom.contract\n",
    "df_contract.info()"
   ]
  },
  {
   "cell_type": "markdown",
   "metadata": {},
   "source": [
    "Столбцы 'BeginDate' и 'EndDate' лучше будет перевести в формат datetime. Среди данных есть пустые ячейки. Покажем их отдельно."
   ]
  },
  {
   "cell_type": "code",
   "execution_count": 32,
   "metadata": {},
   "outputs": [
    {
     "data": {
      "text/html": [
       "<div>\n",
       "<style scoped>\n",
       "    .dataframe tbody tr th:only-of-type {\n",
       "        vertical-align: middle;\n",
       "    }\n",
       "\n",
       "    .dataframe tbody tr th {\n",
       "        vertical-align: top;\n",
       "    }\n",
       "\n",
       "    .dataframe thead th {\n",
       "        text-align: right;\n",
       "    }\n",
       "</style>\n",
       "<table border=\"1\" class=\"dataframe\">\n",
       "  <thead>\n",
       "    <tr style=\"text-align: right;\">\n",
       "      <th></th>\n",
       "      <th>customerID</th>\n",
       "      <th>BeginDate</th>\n",
       "      <th>EndDate</th>\n",
       "      <th>Type</th>\n",
       "      <th>PaperlessBilling</th>\n",
       "      <th>PaymentMethod</th>\n",
       "      <th>MonthlyCharges</th>\n",
       "      <th>TotalCharges</th>\n",
       "    </tr>\n",
       "  </thead>\n",
       "  <tbody>\n",
       "    <tr>\n",
       "      <th>0</th>\n",
       "      <td>4472-LVYGI</td>\n",
       "      <td>2020-02-01</td>\n",
       "      <td>None</td>\n",
       "      <td>Two year</td>\n",
       "      <td>Yes</td>\n",
       "      <td>Bank transfer (automatic)</td>\n",
       "      <td>52.55</td>\n",
       "      <td>NaN</td>\n",
       "    </tr>\n",
       "    <tr>\n",
       "      <th>1</th>\n",
       "      <td>3115-CZMZD</td>\n",
       "      <td>2020-02-01</td>\n",
       "      <td>None</td>\n",
       "      <td>Two year</td>\n",
       "      <td>No</td>\n",
       "      <td>Mailed check</td>\n",
       "      <td>20.25</td>\n",
       "      <td>NaN</td>\n",
       "    </tr>\n",
       "    <tr>\n",
       "      <th>3</th>\n",
       "      <td>5709-LVOEQ</td>\n",
       "      <td>2020-02-01</td>\n",
       "      <td>None</td>\n",
       "      <td>Two year</td>\n",
       "      <td>No</td>\n",
       "      <td>Mailed check</td>\n",
       "      <td>80.85</td>\n",
       "      <td>NaN</td>\n",
       "    </tr>\n",
       "    <tr>\n",
       "      <th>6</th>\n",
       "      <td>4367-NUYAO</td>\n",
       "      <td>2020-02-01</td>\n",
       "      <td>None</td>\n",
       "      <td>Two year</td>\n",
       "      <td>No</td>\n",
       "      <td>Mailed check</td>\n",
       "      <td>25.75</td>\n",
       "      <td>NaN</td>\n",
       "    </tr>\n",
       "    <tr>\n",
       "      <th>7</th>\n",
       "      <td>1371-DWPAZ</td>\n",
       "      <td>2020-02-01</td>\n",
       "      <td>None</td>\n",
       "      <td>Two year</td>\n",
       "      <td>No</td>\n",
       "      <td>Credit card (automatic)</td>\n",
       "      <td>56.05</td>\n",
       "      <td>NaN</td>\n",
       "    </tr>\n",
       "    <tr>\n",
       "      <th>9</th>\n",
       "      <td>3213-VVOLG</td>\n",
       "      <td>2020-02-01</td>\n",
       "      <td>None</td>\n",
       "      <td>Two year</td>\n",
       "      <td>No</td>\n",
       "      <td>Mailed check</td>\n",
       "      <td>25.35</td>\n",
       "      <td>NaN</td>\n",
       "    </tr>\n",
       "    <tr>\n",
       "      <th>10</th>\n",
       "      <td>2923-ARZLG</td>\n",
       "      <td>2020-02-01</td>\n",
       "      <td>None</td>\n",
       "      <td>One year</td>\n",
       "      <td>Yes</td>\n",
       "      <td>Mailed check</td>\n",
       "      <td>19.70</td>\n",
       "      <td>NaN</td>\n",
       "    </tr>\n",
       "    <tr>\n",
       "      <th>11</th>\n",
       "      <td>2775-SEFEE</td>\n",
       "      <td>2020-02-01</td>\n",
       "      <td>None</td>\n",
       "      <td>Two year</td>\n",
       "      <td>Yes</td>\n",
       "      <td>Bank transfer (automatic)</td>\n",
       "      <td>61.90</td>\n",
       "      <td>NaN</td>\n",
       "    </tr>\n",
       "    <tr>\n",
       "      <th>4408</th>\n",
       "      <td>7644-OMVMY</td>\n",
       "      <td>2020-02-01</td>\n",
       "      <td>None</td>\n",
       "      <td>Two year</td>\n",
       "      <td>No</td>\n",
       "      <td>Mailed check</td>\n",
       "      <td>19.85</td>\n",
       "      <td>NaN</td>\n",
       "    </tr>\n",
       "    <tr>\n",
       "      <th>5160</th>\n",
       "      <td>2520-SGTTA</td>\n",
       "      <td>2020-02-01</td>\n",
       "      <td>None</td>\n",
       "      <td>Two year</td>\n",
       "      <td>No</td>\n",
       "      <td>Mailed check</td>\n",
       "      <td>20.00</td>\n",
       "      <td>NaN</td>\n",
       "    </tr>\n",
       "    <tr>\n",
       "      <th>6839</th>\n",
       "      <td>4075-WKNIU</td>\n",
       "      <td>2020-02-01</td>\n",
       "      <td>None</td>\n",
       "      <td>Two year</td>\n",
       "      <td>No</td>\n",
       "      <td>Mailed check</td>\n",
       "      <td>73.35</td>\n",
       "      <td>NaN</td>\n",
       "    </tr>\n",
       "  </tbody>\n",
       "</table>\n",
       "</div>"
      ],
      "text/plain": [
       "      customerID   BeginDate EndDate      Type PaperlessBilling  \\\n",
       "0     4472-LVYGI  2020-02-01    None  Two year              Yes   \n",
       "1     3115-CZMZD  2020-02-01    None  Two year               No   \n",
       "3     5709-LVOEQ  2020-02-01    None  Two year               No   \n",
       "6     4367-NUYAO  2020-02-01    None  Two year               No   \n",
       "7     1371-DWPAZ  2020-02-01    None  Two year               No   \n",
       "9     3213-VVOLG  2020-02-01    None  Two year               No   \n",
       "10    2923-ARZLG  2020-02-01    None  One year              Yes   \n",
       "11    2775-SEFEE  2020-02-01    None  Two year              Yes   \n",
       "4408  7644-OMVMY  2020-02-01    None  Two year               No   \n",
       "5160  2520-SGTTA  2020-02-01    None  Two year               No   \n",
       "6839  4075-WKNIU  2020-02-01    None  Two year               No   \n",
       "\n",
       "                  PaymentMethod  MonthlyCharges  TotalCharges  \n",
       "0     Bank transfer (automatic)           52.55           NaN  \n",
       "1                  Mailed check           20.25           NaN  \n",
       "3                  Mailed check           80.85           NaN  \n",
       "6                  Mailed check           25.75           NaN  \n",
       "7       Credit card (automatic)           56.05           NaN  \n",
       "9                  Mailed check           25.35           NaN  \n",
       "10                 Mailed check           19.70           NaN  \n",
       "11    Bank transfer (automatic)           61.90           NaN  \n",
       "4408               Mailed check           19.85           NaN  \n",
       "5160               Mailed check           20.00           NaN  \n",
       "6839               Mailed check           73.35           NaN  "
      ]
     },
     "execution_count": 32,
     "metadata": {},
     "output_type": "execute_result"
    }
   ],
   "source": [
    "# строки, в которых 'TotalCharges' имеет значение Null\n",
    "df_contract[df_contract['TotalCharges'].isna()]"
   ]
  },
  {
   "cell_type": "markdown",
   "metadata": {},
   "source": [
    "Все они приходятся на '2020-02-01'."
   ]
  },
  {
   "cell_type": "markdown",
   "metadata": {},
   "source": [
    "Более детально изучим столбцы 'TotalCharges' и 'MonthlyCharges'."
   ]
  },
  {
   "cell_type": "code",
   "execution_count": 33,
   "metadata": {},
   "outputs": [
    {
     "data": {
      "text/html": [
       "<div>\n",
       "<style scoped>\n",
       "    .dataframe tbody tr th:only-of-type {\n",
       "        vertical-align: middle;\n",
       "    }\n",
       "\n",
       "    .dataframe tbody tr th {\n",
       "        vertical-align: top;\n",
       "    }\n",
       "\n",
       "    .dataframe thead th {\n",
       "        text-align: right;\n",
       "    }\n",
       "</style>\n",
       "<table border=\"1\" class=\"dataframe\">\n",
       "  <thead>\n",
       "    <tr style=\"text-align: right;\">\n",
       "      <th></th>\n",
       "      <th>customerID</th>\n",
       "      <th>BeginDate</th>\n",
       "      <th>EndDate</th>\n",
       "      <th>Type</th>\n",
       "      <th>PaperlessBilling</th>\n",
       "      <th>PaymentMethod</th>\n",
       "      <th>MonthlyCharges</th>\n",
       "      <th>TotalCharges</th>\n",
       "    </tr>\n",
       "  </thead>\n",
       "  <tbody>\n",
       "    <tr>\n",
       "      <th>2</th>\n",
       "      <td>3668-QPYBK</td>\n",
       "      <td>2018-08-09</td>\n",
       "      <td>2019-12-01</td>\n",
       "      <td>Month-to-month</td>\n",
       "      <td>Yes</td>\n",
       "      <td>Mailed check</td>\n",
       "      <td>53.85</td>\n",
       "      <td>108.15</td>\n",
       "    </tr>\n",
       "    <tr>\n",
       "      <th>4</th>\n",
       "      <td>9237-HQITU</td>\n",
       "      <td>2019-01-26</td>\n",
       "      <td>2019-11-01</td>\n",
       "      <td>Month-to-month</td>\n",
       "      <td>Yes</td>\n",
       "      <td>Electronic check</td>\n",
       "      <td>70.70</td>\n",
       "      <td>151.65</td>\n",
       "    </tr>\n",
       "    <tr>\n",
       "      <th>5</th>\n",
       "      <td>9305-CDSKC</td>\n",
       "      <td>2018-12-26</td>\n",
       "      <td>2019-11-01</td>\n",
       "      <td>Month-to-month</td>\n",
       "      <td>Yes</td>\n",
       "      <td>Electronic check</td>\n",
       "      <td>99.65</td>\n",
       "      <td>820.50</td>\n",
       "    </tr>\n",
       "    <tr>\n",
       "      <th>8</th>\n",
       "      <td>7892-POOKP</td>\n",
       "      <td>2019-04-27</td>\n",
       "      <td>2019-11-01</td>\n",
       "      <td>Month-to-month</td>\n",
       "      <td>Yes</td>\n",
       "      <td>Electronic check</td>\n",
       "      <td>104.80</td>\n",
       "      <td>3046.05</td>\n",
       "    </tr>\n",
       "    <tr>\n",
       "      <th>12</th>\n",
       "      <td>0280-XJGEX</td>\n",
       "      <td>2018-11-13</td>\n",
       "      <td>2019-10-01</td>\n",
       "      <td>Month-to-month</td>\n",
       "      <td>Yes</td>\n",
       "      <td>Bank transfer (automatic)</td>\n",
       "      <td>103.70</td>\n",
       "      <td>5036.30</td>\n",
       "    </tr>\n",
       "  </tbody>\n",
       "</table>\n",
       "</div>"
      ],
      "text/plain": [
       "    customerID   BeginDate     EndDate            Type PaperlessBilling  \\\n",
       "2   3668-QPYBK  2018-08-09  2019-12-01  Month-to-month              Yes   \n",
       "4   9237-HQITU  2019-01-26  2019-11-01  Month-to-month              Yes   \n",
       "5   9305-CDSKC  2018-12-26  2019-11-01  Month-to-month              Yes   \n",
       "8   7892-POOKP  2019-04-27  2019-11-01  Month-to-month              Yes   \n",
       "12  0280-XJGEX  2018-11-13  2019-10-01  Month-to-month              Yes   \n",
       "\n",
       "                PaymentMethod  MonthlyCharges  TotalCharges  \n",
       "2                Mailed check           53.85        108.15  \n",
       "4            Electronic check           70.70        151.65  \n",
       "5            Electronic check           99.65        820.50  \n",
       "8            Electronic check          104.80       3046.05  \n",
       "12  Bank transfer (automatic)          103.70       5036.30  "
      ]
     },
     "execution_count": 33,
     "metadata": {},
     "output_type": "execute_result"
    }
   ],
   "source": [
    "# рассмотрим случаи, когда \"MonthlyCharges\" < \"TotalCharges\"\n",
    "df_contract[df_contract['MonthlyCharges'] < df_contract['TotalCharges']].head()"
   ]
  },
  {
   "cell_type": "markdown",
   "metadata": {},
   "source": [
    "Как мы видим, в нашей таблице имеются аномалии. Например, за 10 месяцев у клиента `9237-HQITU` общий расход составил 151.65, в то время как месячная подписка стоила 70.70.\t\n",
    "\n",
    "Если в колонку 'MonthlyCharges' записывается постоянный ежемесячный платеж, то 'TotalCharges' будет равен как минимум произведению 'MonthlyCharges' на количество месяцев.\n",
    "\n",
    "В таком случае, мы должны либо отредактировать столбец 'TotalCharges' либо избавиться от него."
   ]
  },
  {
   "cell_type": "markdown",
   "metadata": {},
   "source": [
    "Стоит выяснить, как вносятся данные в таблицу и за что отвечают столбцы 'TotalCharges' и 'MonthlyCharges'. \n",
    "\n",
    "Если случился баг при записи данных, можно попробовать умножить аномалии на 10. Тогда мы получим близкие по смыслу значения. Но требуется этот момент уточнить.\n",
    "\n",
    "Пока что оставим этот столбец и не будем использовать в качестве признака в моделировании."
   ]
  },
  {
   "cell_type": "code",
   "execution_count": 34,
   "metadata": {},
   "outputs": [
    {
     "name": "stdout",
     "output_type": "stream",
     "text": [
      "Доля активных клиентов составляет 0.73, а пассивных - 0.27.\n"
     ]
    }
   ],
   "source": [
    "# оценим, сколько действующих клиентов и тех, кто ушёл\n",
    "cleint_active_perc = len(df_contract[df_contract['EndDate'].isna()]) / len(df_contract)\n",
    "cleint_passive_perc = len(df_contract[~df_contract['EndDate'].isna()]) / len(df_contract)\n",
    "print(f'Доля активных клиентов составляет {round(cleint_active_perc, 2)}, а пассивных - {round(cleint_passive_perc, 2)}.')"
   ]
  },
  {
   "cell_type": "code",
   "execution_count": 35,
   "metadata": {},
   "outputs": [
    {
     "data": {
      "text/plain": [
       "count    5174.000000\n",
       "mean       61.265124\n",
       "std        31.092648\n",
       "min        18.250000\n",
       "25%        25.100000\n",
       "50%        64.425000\n",
       "75%        88.400000\n",
       "max       118.750000\n",
       "Name: MonthlyCharges, dtype: float64"
      ]
     },
     "execution_count": 35,
     "metadata": {},
     "output_type": "execute_result"
    }
   ],
   "source": [
    "# 'MonthlyCharges' у активных клиентов\n",
    "df_contract[df_contract['EndDate'].isna()]['MonthlyCharges'].describe()"
   ]
  },
  {
   "cell_type": "code",
   "execution_count": 36,
   "metadata": {},
   "outputs": [
    {
     "data": {
      "image/png": "[encoded data removed]",
      "text/plain": [
       "<Figure size 432x288 with 1 Axes>"
      ]
     },
     "metadata": {
      "needs_background": "light"
     },
     "output_type": "display_data"
    }
   ],
   "source": [
    "plt.figure(figsize=(6, 4))\n",
    "df_contract[df_contract['EndDate'].isna()]['MonthlyCharges'].hist(bins=30)\n",
    "plt.xlabel('Стоимость подписки')\n",
    "plt.ylabel('Кол-во подписок')\n",
    "plt.title('Ежемесячная подписка у активных клиентов')\n",
    "plt.tight_layout()\n",
    "None"
   ]
  },
  {
   "cell_type": "code",
   "execution_count": 37,
   "metadata": {},
   "outputs": [
    {
     "data": {
      "text/plain": [
       "count    1869.000000\n",
       "mean       74.441332\n",
       "std        24.666053\n",
       "min        18.850000\n",
       "25%        56.150000\n",
       "50%        79.650000\n",
       "75%        94.200000\n",
       "max       118.350000\n",
       "Name: MonthlyCharges, dtype: float64"
      ]
     },
     "execution_count": 37,
     "metadata": {},
     "output_type": "execute_result"
    }
   ],
   "source": [
    "# 'MonthlyCharges' у пассивных клиентов\n",
    "df_contract[~df_contract['EndDate'].isna()]['MonthlyCharges'].describe()"
   ]
  },
  {
   "cell_type": "code",
   "execution_count": 38,
   "metadata": {},
   "outputs": [
    {
     "data": {
      "image/png": "[encoded data removed]",
      "text/plain": [
       "<Figure size 432x288 with 1 Axes>"
      ]
     },
     "metadata": {
      "needs_background": "light"
     },
     "output_type": "display_data"
    }
   ],
   "source": [
    "plt.figure(figsize=(6, 4))\n",
    "df_contract[~df_contract['EndDate'].isna()]['MonthlyCharges'].hist(bins=30)\n",
    "plt.xlabel('Стоимость подписки')\n",
    "plt.ylabel('Кол-во подписок')\n",
    "plt.title('Ежемесячная подписка у пассивных клиентов')\n",
    "plt.tight_layout()\n",
    "None"
   ]
  },
  {
   "cell_type": "markdown",
   "metadata": {},
   "source": [
    "Из вышепоказанного видно, что средняя подписка пассивных клиентов выше, чем у активных. Можно предположить, что причиной отказа служит высокие цены на тариф. \n",
    "Если мы сократим отток клиентов, то нам удастся сохранить потребительский спрос и увеличить прибыль."
   ]
  },
  {
   "cell_type": "code",
   "execution_count": 39,
   "metadata": {
    "scrolled": true
   },
   "outputs": [
    {
     "data": {
      "text/html": [
       "<div>\n",
       "<style scoped>\n",
       "    .dataframe tbody tr th:only-of-type {\n",
       "        vertical-align: middle;\n",
       "    }\n",
       "\n",
       "    .dataframe tbody tr th {\n",
       "        vertical-align: top;\n",
       "    }\n",
       "\n",
       "    .dataframe thead th {\n",
       "        text-align: right;\n",
       "    }\n",
       "</style>\n",
       "<table border=\"1\" class=\"dataframe\">\n",
       "  <thead>\n",
       "    <tr style=\"text-align: right;\">\n",
       "      <th></th>\n",
       "      <th>customerID</th>\n",
       "      <th>BeginDate</th>\n",
       "      <th>EndDate</th>\n",
       "      <th>InternetService</th>\n",
       "      <th>MultipleLines</th>\n",
       "    </tr>\n",
       "  </thead>\n",
       "  <tbody>\n",
       "    <tr>\n",
       "      <th>0</th>\n",
       "      <td>3668-QPYBK</td>\n",
       "      <td>2018-08-09</td>\n",
       "      <td>2019-12-01</td>\n",
       "      <td>DSL</td>\n",
       "      <td>No</td>\n",
       "    </tr>\n",
       "    <tr>\n",
       "      <th>1</th>\n",
       "      <td>5709-LVOEQ</td>\n",
       "      <td>2020-02-01</td>\n",
       "      <td>None</td>\n",
       "      <td>DSL</td>\n",
       "      <td>No</td>\n",
       "    </tr>\n",
       "    <tr>\n",
       "      <th>2</th>\n",
       "      <td>9237-HQITU</td>\n",
       "      <td>2019-01-26</td>\n",
       "      <td>2019-11-01</td>\n",
       "      <td>Fiber optic</td>\n",
       "      <td>No</td>\n",
       "    </tr>\n",
       "    <tr>\n",
       "      <th>3</th>\n",
       "      <td>9305-CDSKC</td>\n",
       "      <td>2018-12-26</td>\n",
       "      <td>2019-11-01</td>\n",
       "      <td>Fiber optic</td>\n",
       "      <td>Yes</td>\n",
       "    </tr>\n",
       "    <tr>\n",
       "      <th>4</th>\n",
       "      <td>7892-POOKP</td>\n",
       "      <td>2019-04-27</td>\n",
       "      <td>2019-11-01</td>\n",
       "      <td>Fiber optic</td>\n",
       "      <td>Yes</td>\n",
       "    </tr>\n",
       "  </tbody>\n",
       "</table>\n",
       "</div>"
      ],
      "text/plain": [
       "   customerID   BeginDate     EndDate InternetService MultipleLines\n",
       "0  3668-QPYBK  2018-08-09  2019-12-01             DSL            No\n",
       "1  5709-LVOEQ  2020-02-01        None             DSL            No\n",
       "2  9237-HQITU  2019-01-26  2019-11-01     Fiber optic            No\n",
       "3  9305-CDSKC  2018-12-26  2019-11-01     Fiber optic           Yes\n",
       "4  7892-POOKP  2019-04-27  2019-11-01     Fiber optic           Yes"
      ]
     },
     "execution_count": 39,
     "metadata": {},
     "output_type": "execute_result"
    }
   ],
   "source": [
    "# оценим, сколько пользователей пользуются тарифами телефонной связи и интернетом\n",
    "df_merge = (df_contract[['customerID', 'BeginDate', 'EndDate']]\n",
    "            .merge(df_internet[['customerID', 'InternetService']], on='customerID')\n",
    "            .merge(df_phone, on='customerID')\n",
    "           )\n",
    "df_merge.head()"
   ]
  },
  {
   "cell_type": "code",
   "execution_count": 40,
   "metadata": {},
   "outputs": [
    {
     "data": {
      "text/plain": [
       "Yes    1789\n",
       "No     1460\n",
       "Name: MultipleLines, dtype: int64"
      ]
     },
     "execution_count": 40,
     "metadata": {},
     "output_type": "execute_result"
    }
   ],
   "source": [
    "df_merge[df_merge['EndDate'].isna()]['MultipleLines'].value_counts()"
   ]
  },
  {
   "cell_type": "code",
   "execution_count": 41,
   "metadata": {
    "scrolled": false
   },
   "outputs": [
    {
     "data": {
      "image/png": "[encoded data removed]",
      "text/plain": [
       "<Figure size 288x432 with 1 Axes>"
      ]
     },
     "metadata": {
      "needs_background": "light"
     },
     "output_type": "display_data"
    }
   ],
   "source": [
    "# телефония\n",
    "plt.figure(figsize=(4, 6))\n",
    "plt.title('Подключена телефонная связь')\n",
    "#plt.xlabel('')\n",
    "plt.ylabel('Кол-во пользователей')\n",
    "df_merge['MultipleLines'].value_counts().plot(kind='bar', color='orange', alpha=0.5)\n",
    "df_merge[df_merge['EndDate'].isna()]['MultipleLines'].value_counts().plot(kind='bar', color='blue', alpha=0.5)\n",
    "df_merge[~df_merge['EndDate'].isna()]['MultipleLines'].value_counts().plot(kind='bar', color='green', alpha=0.5)\n",
    "plt.legend(['Все', 'Активные', 'Пассивные'],\n",
    "           title='Пользователи')\n",
    "plt.tight_layout()\n",
    "None\n"
   ]
  },
  {
   "cell_type": "markdown",
   "metadata": {},
   "source": [
    "Телефония распределено равномерно. Поведение клиентов схожи. В обеих группах пропорциональное количество клиентов, у которых имеется доступ к данной услуге."
   ]
  },
  {
   "cell_type": "code",
   "execution_count": 42,
   "metadata": {},
   "outputs": [
    {
     "data": {
      "image/png": "[encoded data removed]",
      "text/plain": [
       "<Figure size 288x432 with 1 Axes>"
      ]
     },
     "metadata": {
      "needs_background": "light"
     },
     "output_type": "display_data"
    }
   ],
   "source": [
    "# интернет\n",
    "plt.figure(figsize=(4, 6))\n",
    "plt.title('Подключена телефонная связь')\n",
    "#plt.xlabel('')\n",
    "plt.ylabel('Кол-во пользователей')\n",
    "df_merge['InternetService'].value_counts().plot(kind='bar', color='orange', alpha=0.5)\n",
    "df_merge[df_merge['EndDate'].isna()]['InternetService'].value_counts().plot(kind='bar', color='blue', alpha=0.5)\n",
    "df_merge[~df_merge['EndDate'].isna()]['InternetService'].value_counts().plot(kind='bar', color='green', alpha=0.5)\n",
    "plt.legend(['Все', 'Активные', 'Пассивные'],\n",
    "           title='Пользователи')\n",
    "plt.tight_layout()\n",
    "\n",
    "None"
   ]
  },
  {
   "cell_type": "markdown",
   "metadata": {},
   "source": [
    "Здесь наблюдается резкий дисбаланс между групами клиентов. Активные клиенты почти поровну используют оба типа подключения, а у пассивных преобладет Fiber optic.\n",
    "\n",
    "Это может быть связано с техническими характерстиками. Можно найти статью, где указано, что Fiber optic не позволяет работать с услугами по телефонии. Стоит распросить об этом у заказчика. В случае подтвержения, существует вероятность, что данная причина может служить оттоку клиентов."
   ]
  },
  {
   "cell_type": "markdown",
   "metadata": {},
   "source": [
    "Подытожим анализ:\n",
    "- В нашем распоряжении 4 таблиц, связанных между собой по столбцу 'customerID'.\n",
    "- Ключевая таблица 'telecom.contract' имеет 7 тыс. записей (скорее всего, качество прогнозов будет невысокой).\n",
    "- Были обнаружены несоответстсвия в данных, которые потребуется устранить.\n",
    "- Более детально показали ежемесячный расход пользователей, предварительно поделив их на две группы - активные и пассивные (те, кто отказались от подписки).\n",
    "- Отобразили распределение по тарифам для каждой группы клиентов, и выявили их особенности."
   ]
  },
  {
   "cell_type": "markdown",
   "metadata": {},
   "source": [
    "<div class=\"alert alert-success\">\n",
    "<h2> Комментарий ревьюера <a class=\"tocSkip\"> </h2>\n",
    "\n",
    "<b>Верно!👍:\\\n",
    "</b> Мне интересно было изучить твои графики, осмысленный и красочный графический анализ. Найдены очень интересные закономерности, а выводы логичны)"
   ]
  },
  {
   "cell_type": "markdown",
   "metadata": {},
   "source": [
    "### Подготовка данных"
   ]
  },
  {
   "cell_type": "markdown",
   "metadata": {},
   "source": [
    "Выполним следующее:\n",
    "- Приведем данные к необходимому виду (обновим столбцы, и их типы).\n",
    "- Преобразуем целевой признак. \n",
    "- Создадим датасет, в котором оставим столбцы для будущей модели, и разобьем его на три составляющие: тренировочную, валидационную и тестовую часть.\n",
    "- С помощью One Hot Encoding категориальные признаки приведем к численным.\n",
    "- Масштабируем данные, в котором содержатся большие значения.\n"
   ]
  },
  {
   "cell_type": "code",
   "execution_count": 43,
   "metadata": {},
   "outputs": [],
   "source": [
    "# создадим отдельный столбец для целевого признака\n",
    "df_contract['active'] = df_contract['EndDate'].isna().astype(int)"
   ]
  },
  {
   "cell_type": "code",
   "execution_count": 44,
   "metadata": {},
   "outputs": [],
   "source": [
    "# заменим Null на последнюю актуальную дату \n",
    "df_contract.loc[df_contract['EndDate'].isna(), 'EndDate'] = '2020-02-01'"
   ]
  },
  {
   "cell_type": "code",
   "execution_count": 45,
   "metadata": {},
   "outputs": [],
   "source": [
    "# приведем даты к нужному формату\n",
    "df_contract['BeginDate'] = pd.to_datetime(df_contract['BeginDate'], format='%Y-%m-%d')\n",
    "df_contract['EndDate'] = pd.to_datetime(df_contract['EndDate'], format='%Y-%m-%d')"
   ]
  },
  {
   "cell_type": "code",
   "execution_count": 46,
   "metadata": {},
   "outputs": [
    {
     "data": {
      "image/png": "[encoded data removed]",
      "text/plain": [
       "<Figure size 432x288 with 1 Axes>"
      ]
     },
     "metadata": {
      "needs_background": "light"
     },
     "output_type": "display_data"
    }
   ],
   "source": [
    "# визуально покажем, сколько по времени было в пользовании у пассивных клиентов\n",
    "df_contract['month_delta'] = df_contract['EndDate'].dt.to_period('M').astype(int) - \\\n",
    "                             df_contract['BeginDate'].dt.to_period('M').astype(int)\n",
    "\n",
    "fig = plt.figure(figsize=(6, 4))\n",
    "ax = fig.add_subplot(1, 1, 1)\n",
    "ax.set_xticks(range(0, 20, 1))\n",
    "plt.title('Длительность тарифа у пассивных клиентов')\n",
    "plt.xlabel('Месяц')\n",
    "plt.ylabel('Кол-во пользователей')\n",
    "df_contract[df_contract['active'] == 0]['month_delta'].hist(bins=17)\n",
    "plt.tight_layout()\n",
    "None"
   ]
  },
  {
   "cell_type": "markdown",
   "metadata": {},
   "source": [
    "Чаще всего, клиенты до того, как отменить подписку, пользуются услугами более шести месяцев. Мы теряем больше постоянных подписчиков, чем новых."
   ]
  },
  {
   "cell_type": "code",
   "execution_count": 47,
   "metadata": {},
   "outputs": [],
   "source": [
    "# объединим все признаки\n",
    "df_merge = (df_contract.merge(df_personal, on='customerID')\n",
    "            .merge(df_internet, on='customerID', how='left')\n",
    "            .merge(df_phone, on='customerID', how='left')\n",
    "            )"
   ]
  },
  {
   "cell_type": "code",
   "execution_count": 48,
   "metadata": {
    "scrolled": true
   },
   "outputs": [
    {
     "name": "stdout",
     "output_type": "stream",
     "text": [
      "<class 'pandas.core.frame.DataFrame'>\n",
      "Int64Index: 7043 entries, 0 to 7042\n",
      "Data columns (total 22 columns):\n",
      " #   Column            Non-Null Count  Dtype         \n",
      "---  ------            --------------  -----         \n",
      " 0   customerID        7043 non-null   object        \n",
      " 1   BeginDate         7043 non-null   datetime64[ns]\n",
      " 2   EndDate           7043 non-null   datetime64[ns]\n",
      " 3   Type              7043 non-null   object        \n",
      " 4   PaperlessBilling  7043 non-null   object        \n",
      " 5   PaymentMethod     7043 non-null   object        \n",
      " 6   MonthlyCharges    7043 non-null   float64       \n",
      " 7   TotalCharges      7032 non-null   float64       \n",
      " 8   active            7043 non-null   int64         \n",
      " 9   month_delta       7043 non-null   int64         \n",
      " 10  gender            7043 non-null   object        \n",
      " 11  SeniorCitizen     7043 non-null   int64         \n",
      " 12  Partner           7043 non-null   object        \n",
      " 13  Dependents        7043 non-null   object        \n",
      " 14  InternetService   5517 non-null   object        \n",
      " 15  OnlineSecurity    5517 non-null   object        \n",
      " 16  OnlineBackup      5517 non-null   object        \n",
      " 17  DeviceProtection  5517 non-null   object        \n",
      " 18  TechSupport       5517 non-null   object        \n",
      " 19  StreamingTV       5517 non-null   object        \n",
      " 20  StreamingMovies   5517 non-null   object        \n",
      " 21  MultipleLines     6361 non-null   object        \n",
      "dtypes: datetime64[ns](2), float64(2), int64(3), object(15)\n",
      "memory usage: 1.2+ MB\n"
     ]
    }
   ],
   "source": [
    "# инфа по таблице\n",
    "df_merge.info()"
   ]
  },
  {
   "cell_type": "code",
   "execution_count": 49,
   "metadata": {},
   "outputs": [],
   "source": [
    "# заполним пустоты\n",
    "df_merge['TotalCharges'] = df_merge['TotalCharges'].fillna(0)\n",
    "#df_merge['InternetService'] = df_merge['InternetService'].fillna('unknown')\n",
    "df_merge = df_merge.fillna('No')"
   ]
  },
  {
   "cell_type": "code",
   "execution_count": 50,
   "metadata": {},
   "outputs": [],
   "source": [
    "# удалим те столбцы, которые будут плохо отражаться на качестве модели\n",
    "df_merge = df_merge.drop(columns=['customerID', 'BeginDate', 'EndDate', 'TotalCharges'])"
   ]
  },
  {
   "cell_type": "code",
   "execution_count": 51,
   "metadata": {
    "scrolled": false
   },
   "outputs": [
    {
     "name": "stdout",
     "output_type": "stream",
     "text": [
      "interval columns not set, guessing: ['MonthlyCharges', 'active', 'month_delta', 'SeniorCitizen']\n"
     ]
    },
    {
     "data": {
      "image/png": "[encoded data removed]",
      "text/plain": [
       "<Figure size 720x576 with 2 Axes>"
      ]
     },
     "metadata": {
      "needs_background": "light"
     },
     "output_type": "display_data"
    }
   ],
   "source": [
    "# построим матрицу корреляции\n",
    "phik_overview = df_merge.phik_matrix()\n",
    "plot_correlation_matrix(phik_overview.values, \n",
    "                        x_labels=phik_overview.columns, \n",
    "                        y_labels=phik_overview.index, \n",
    "                        vmin=0, vmax=1, color_map=\"Greens\", \n",
    "                        title=r\"correlation\", \n",
    "                        fontsize_factor=1, \n",
    "                        figsize=(10, 8))\n",
    "plt.tight_layout()"
   ]
  },
  {
   "cell_type": "markdown",
   "metadata": {},
   "source": [
    "Наблюдается мультиколлиарность по нескольким признакам. В нашей работе мы не будем использовать линейную регрессию, поэтому это можно опустить."
   ]
  },
  {
   "cell_type": "code",
   "execution_count": 52,
   "metadata": {},
   "outputs": [],
   "source": [
    "# разделим датасеты на тренировочную, валидационную и тестовую часть\n",
    "target = 'active'\n",
    "\n",
    "features_train, features_test, target_train, target_test = train_test_split(df_merge.drop(columns=target),\n",
    "                                                                            df_merge[target],\n",
    "                                                                            shuffle=True,\n",
    "                                                                            random_state=23,\n",
    "                                                                            stratify=df_merge[target],\n",
    "                                                                            test_size=0.25)\n",
    "\n",
    "#features_train, features_temp, target_train, target_temp = train_test_split(df_merge.drop(columns=target),\n",
    "                                                                            #df_merge[target],\n",
    "                                                                            #shuffle=True,\n",
    "                                                                            #random_state=23,\n",
    "                                                                            #stratify=df_merge[target],\n",
    "                                                                            #test_size=0.3)\n",
    "\n",
    "#features_valid, features_test, target_valid, target_test = train_test_split(features_temp,\n",
    "                                                                            #target_temp,\n",
    "                                                                            #shuffle=True,\n",
    "                                                                            #random_state=23,\n",
    "                                                                            #stratify=target_temp,\n",
    "                                                                            #test_size=0.5)"
   ]
  },
  {
   "cell_type": "markdown",
   "metadata": {},
   "source": [
    "<div class=\"alert alert-success\">\n",
    "<h2> Комментарий ревьюера <a class=\"tocSkip\"> </h2>\n",
    "\n",
    "<b>Все отлично!👍:</b> \n",
    "\n",
    "Целевой признак добавлен корректно"
   ]
  },
  {
   "cell_type": "code",
   "execution_count": 53,
   "metadata": {},
   "outputs": [
    {
     "name": "stdout",
     "output_type": "stream",
     "text": [
      "Train shape is (5282, 17).\n",
      "Test shape is (1761, 17).\n"
     ]
    }
   ],
   "source": [
    "# покажем размеры датасетов\n",
    "print(f'Train shape is {features_train.shape}.')\n",
    "#print(f'Valid shape is {features_valid.shape}.')\n",
    "print(f'Test shape is {features_test.shape}.')"
   ]
  },
  {
   "cell_type": "code",
   "execution_count": 54,
   "metadata": {},
   "outputs": [],
   "source": [
    "# отделим столбцы, у которых указан тип 'object'\n",
    "cat_cols = []\n",
    "for col in features_train.columns:\n",
    "    if features_train[col].dtype == 'object':\n",
    "        cat_cols.append(col)\n",
    "\n",
    "features_train_oe = features_train[cat_cols]\n",
    "#features_valid_oe = features_valid[cat_cols]    \n",
    "features_test_oe = features_test[cat_cols]        "
   ]
  },
  {
   "cell_type": "code",
   "execution_count": 55,
   "metadata": {},
   "outputs": [],
   "source": [
    "# One Hot Encoding\n",
    "encoder = OneHotEncoder(drop='first', sparse=False) #, handle_unknown='ignore')\n",
    "encoder.fit(features_train_oe)\n",
    "\n",
    "#encoder.get_feature_names() имена столбцов\n",
    "\n",
    "features_train_oe = pd.DataFrame(encoder.transform(features_train_oe), \n",
    "                                 columns=encoder.get_feature_names(), \n",
    "                                 index=features_train_oe.index\n",
    "                                 )\n",
    "#features_valid_oe = pd.DataFrame(encoder.transform(features_valid_oe), \n",
    "                                 #columns=encoder.get_feature_names(), \n",
    "                                 #index=features_valid_oe.index\n",
    "                                 #)\n",
    "features_test_oe = pd.DataFrame(encoder.transform(features_test_oe), \n",
    "                                columns=encoder.get_feature_names(), \n",
    "                                index=features_test_oe.index\n",
    "                                )\n",
    "\n",
    "features_train = pd.concat([features_train.drop(columns=cat_cols), features_train_oe], axis=1)\n",
    "#features_valid = pd.concat([features_valid.drop(columns=cat_cols), features_valid_oe], axis=1)\n",
    "features_test = pd.concat([features_test.drop(columns=cat_cols), features_test_oe], axis=1)"
   ]
  },
  {
   "cell_type": "code",
   "execution_count": 56,
   "metadata": {},
   "outputs": [],
   "source": [
    "# масштабирование\n",
    "num_cols = ['MonthlyCharges'] #, 'TotalCharges']\n",
    "scaler = StandardScaler()\n",
    "scaler.fit(features_train[num_cols])\n",
    "\n",
    "features_train[num_cols] = scaler.transform(features_train[num_cols])                            \n",
    "#features_valid[num_cols] = scaler.transform(features_valid[num_cols])\n",
    "features_test[num_cols] = scaler.transform(features_test[num_cols])"
   ]
  },
  {
   "cell_type": "code",
   "execution_count": 57,
   "metadata": {},
   "outputs": [
    {
     "data": {
      "text/html": [
       "<div>\n",
       "<style scoped>\n",
       "    .dataframe tbody tr th:only-of-type {\n",
       "        vertical-align: middle;\n",
       "    }\n",
       "\n",
       "    .dataframe tbody tr th {\n",
       "        vertical-align: top;\n",
       "    }\n",
       "\n",
       "    .dataframe thead th {\n",
       "        text-align: right;\n",
       "    }\n",
       "</style>\n",
       "<table border=\"1\" class=\"dataframe\">\n",
       "  <thead>\n",
       "    <tr style=\"text-align: right;\">\n",
       "      <th></th>\n",
       "      <th>MonthlyCharges</th>\n",
       "      <th>month_delta</th>\n",
       "      <th>SeniorCitizen</th>\n",
       "      <th>x0_One year</th>\n",
       "      <th>x0_Two year</th>\n",
       "      <th>x1_Yes</th>\n",
       "      <th>x2_Credit card (automatic)</th>\n",
       "      <th>x2_Electronic check</th>\n",
       "      <th>x2_Mailed check</th>\n",
       "      <th>x3_Male</th>\n",
       "      <th>...</th>\n",
       "      <th>x5_Yes</th>\n",
       "      <th>x6_Fiber optic</th>\n",
       "      <th>x6_No</th>\n",
       "      <th>x7_Yes</th>\n",
       "      <th>x8_Yes</th>\n",
       "      <th>x9_Yes</th>\n",
       "      <th>x10_Yes</th>\n",
       "      <th>x11_Yes</th>\n",
       "      <th>x12_Yes</th>\n",
       "      <th>x13_Yes</th>\n",
       "    </tr>\n",
       "  </thead>\n",
       "  <tbody>\n",
       "    <tr>\n",
       "      <th>4581</th>\n",
       "      <td>-0.337762</td>\n",
       "      <td>9</td>\n",
       "      <td>0</td>\n",
       "      <td>0.0</td>\n",
       "      <td>0.0</td>\n",
       "      <td>0.0</td>\n",
       "      <td>0.0</td>\n",
       "      <td>1.0</td>\n",
       "      <td>0.0</td>\n",
       "      <td>0.0</td>\n",
       "      <td>...</td>\n",
       "      <td>0.0</td>\n",
       "      <td>0.0</td>\n",
       "      <td>0.0</td>\n",
       "      <td>0.0</td>\n",
       "      <td>0.0</td>\n",
       "      <td>1.0</td>\n",
       "      <td>1.0</td>\n",
       "      <td>0.0</td>\n",
       "      <td>0.0</td>\n",
       "      <td>0.0</td>\n",
       "    </tr>\n",
       "    <tr>\n",
       "      <th>5813</th>\n",
       "      <td>-0.633289</td>\n",
       "      <td>10</td>\n",
       "      <td>0</td>\n",
       "      <td>0.0</td>\n",
       "      <td>1.0</td>\n",
       "      <td>0.0</td>\n",
       "      <td>0.0</td>\n",
       "      <td>1.0</td>\n",
       "      <td>0.0</td>\n",
       "      <td>0.0</td>\n",
       "      <td>...</td>\n",
       "      <td>0.0</td>\n",
       "      <td>0.0</td>\n",
       "      <td>0.0</td>\n",
       "      <td>1.0</td>\n",
       "      <td>0.0</td>\n",
       "      <td>0.0</td>\n",
       "      <td>1.0</td>\n",
       "      <td>1.0</td>\n",
       "      <td>0.0</td>\n",
       "      <td>0.0</td>\n",
       "    </tr>\n",
       "    <tr>\n",
       "      <th>5939</th>\n",
       "      <td>-0.289343</td>\n",
       "      <td>11</td>\n",
       "      <td>0</td>\n",
       "      <td>0.0</td>\n",
       "      <td>0.0</td>\n",
       "      <td>0.0</td>\n",
       "      <td>0.0</td>\n",
       "      <td>0.0</td>\n",
       "      <td>1.0</td>\n",
       "      <td>1.0</td>\n",
       "      <td>...</td>\n",
       "      <td>0.0</td>\n",
       "      <td>0.0</td>\n",
       "      <td>0.0</td>\n",
       "      <td>1.0</td>\n",
       "      <td>0.0</td>\n",
       "      <td>1.0</td>\n",
       "      <td>0.0</td>\n",
       "      <td>0.0</td>\n",
       "      <td>0.0</td>\n",
       "      <td>0.0</td>\n",
       "    </tr>\n",
       "  </tbody>\n",
       "</table>\n",
       "<p>3 rows × 21 columns</p>\n",
       "</div>"
      ],
      "text/plain": [
       "      MonthlyCharges  month_delta  SeniorCitizen  x0_One year  x0_Two year  \\\n",
       "4581       -0.337762            9              0          0.0          0.0   \n",
       "5813       -0.633289           10              0          0.0          1.0   \n",
       "5939       -0.289343           11              0          0.0          0.0   \n",
       "\n",
       "      x1_Yes  x2_Credit card (automatic)  x2_Electronic check  \\\n",
       "4581     0.0                         0.0                  1.0   \n",
       "5813     0.0                         0.0                  1.0   \n",
       "5939     0.0                         0.0                  0.0   \n",
       "\n",
       "      x2_Mailed check  x3_Male  ...  x5_Yes  x6_Fiber optic  x6_No  x7_Yes  \\\n",
       "4581              0.0      0.0  ...     0.0             0.0    0.0     0.0   \n",
       "5813              0.0      0.0  ...     0.0             0.0    0.0     1.0   \n",
       "5939              1.0      1.0  ...     0.0             0.0    0.0     1.0   \n",
       "\n",
       "      x8_Yes  x9_Yes  x10_Yes  x11_Yes  x12_Yes  x13_Yes  \n",
       "4581     0.0     1.0      1.0      0.0      0.0      0.0  \n",
       "5813     0.0     0.0      1.0      1.0      0.0      0.0  \n",
       "5939     0.0     1.0      0.0      0.0      0.0      0.0  \n",
       "\n",
       "[3 rows x 21 columns]"
      ]
     },
     "execution_count": 57,
     "metadata": {},
     "output_type": "execute_result"
    }
   ],
   "source": [
    "features_train.head(3)"
   ]
  },
  {
   "cell_type": "markdown",
   "metadata": {},
   "source": [
    "Таким образом, мы привели данные к рабочему виду. Теперь их можно использовать в обучении и тестировании модели."
   ]
  },
  {
   "cell_type": "markdown",
   "metadata": {},
   "source": [
    "### Обучение модели\n",
    "Обучим несколько моделей, сравним время обучения и их качество. Выберем среди них самую оптимальную. Расссмотрим решающее дерево, бустинг и нейронную сеть. \n",
    "\n",
    "В качестве оценки рекомендуется взять AUC-ROC. Его можно использовать в случае, когда требуется показать в равной мере метрики True Positive и True Negative."
   ]
  },
  {
   "cell_type": "markdown",
   "metadata": {},
   "source": [
    "P.S. \n",
    "\n",
    "Я не уверен вот в чем. В формуах говорится, что AUC-ROC плохо справляется с дисбалансом (поэтому лучше использовать f1-меру). Но я сильно запустался в этом. Можно, пожалуйста, подсказать, когда лучше всего использовать AUC-ROC, а когда f1-меру. И немного разъяснить в чем их особенности."
   ]
  },
  {
   "cell_type": "code",
   "execution_count": 58,
   "metadata": {},
   "outputs": [
    {
     "name": "stdout",
     "output_type": "stream",
     "text": [
      "ROC-AUC valid: 0.8044\n",
      "Наилучшие параметры:\n",
      "Criterion - entropy\n",
      "Max_depth - 5\n"
     ]
    }
   ],
   "source": [
    "# DecisionTreeClassifier\n",
    "model_dt = DecisionTreeClassifier(random_state=23)\n",
    "param_grid = {'criterion': ['gini', 'entropy'],\n",
    "              'max_depth': range(4, 8)}\n",
    "grid = GridSearchCV(model_dt, param_grid=param_grid, cv=5, scoring='roc_auc')\n",
    "grid.fit(features_train, target_train)\n",
    "\n",
    "print(f'ROC-AUC valid: {round(grid.best_score_, 4)}',\n",
    "      f'Наилучшие параметры:',\n",
    "      f'Criterion - {grid.best_params_[\"criterion\"]}',\n",
    "      f'Max_depth - {grid.best_params_[\"max_depth\"]}',\n",
    "      sep='\\n')"
   ]
  },
  {
   "cell_type": "code",
   "execution_count": 59,
   "metadata": {},
   "outputs": [
    {
     "name": "stdout",
     "output_type": "stream",
     "text": [
      "<class 'pandas.core.frame.DataFrame'>\n",
      "Int64Index: 5282 entries, 1936 to 595\n",
      "Data columns (total 17 columns):\n",
      " #   Column            Non-Null Count  Dtype   \n",
      "---  ------            --------------  -----   \n",
      " 0   Type              5282 non-null   category\n",
      " 1   PaperlessBilling  5282 non-null   category\n",
      " 2   PaymentMethod     5282 non-null   category\n",
      " 3   MonthlyCharges    5282 non-null   int8    \n",
      " 4   month_delta       5282 non-null   int8    \n",
      " 5   gender            5282 non-null   category\n",
      " 6   SeniorCitizen     5282 non-null   int8    \n",
      " 7   Partner           5282 non-null   category\n",
      " 8   Dependents        5282 non-null   category\n",
      " 9   InternetService   5282 non-null   category\n",
      " 10  OnlineSecurity    5282 non-null   category\n",
      " 11  OnlineBackup      5282 non-null   category\n",
      " 12  DeviceProtection  5282 non-null   category\n",
      " 13  TechSupport       5282 non-null   category\n",
      " 14  StreamingTV       5282 non-null   category\n",
      " 15  StreamingMovies   5282 non-null   category\n",
      " 16  MultipleLines     5282 non-null   category\n",
      "dtypes: category(14), int8(3)\n",
      "memory usage: 130.7 KB\n"
     ]
    }
   ],
   "source": [
    "# подготовка данных для CatboostClassifier\n",
    "num_cols = ['MonthlyCharges', 'month_delta', 'SeniorCitizen']\n",
    "\n",
    "df_cb = df_merge.copy()\n",
    "df_cb[cat_cols] = df_cb[cat_cols].astype('category')\n",
    "df_cb[num_cols] = df_cb[num_cols].astype('int8')\n",
    "\n",
    "x_train_cb, x_test_cb, y_train_cb, y_test_cb = train_test_split(df_cb.drop(columns=target),\n",
    "                                                                df_cb[target],\n",
    "                                                                test_size=0.25,\n",
    "                                                                random_state=23\n",
    "                                                               )\n",
    "\n",
    "x_train_cb.info()"
   ]
  },
  {
   "cell_type": "code",
   "execution_count": 60,
   "metadata": {
    "scrolled": true
   },
   "outputs": [
    {
     "name": "stdout",
     "output_type": "stream",
     "text": [
      "\n",
      "bestTest = 0.8233320798\n",
      "bestIteration = 159\n",
      "\n",
      "Metric AUC is not calculated on train by default. To calculate this metric on train, add hints=skip_train~false to metric parameters.\n",
      "0:\tloss: 0.8233321\tbest: 0.8233321 (0)\ttotal: 1.13s\tremaining: 16.9s\n",
      "\n",
      "bestTest = 0.8238090215\n",
      "bestIteration = 179\n",
      "\n",
      "Metric AUC is not calculated on train by default. To calculate this metric on train, add hints=skip_train~false to metric parameters.\n",
      "1:\tloss: 0.8238090\tbest: 0.8238090 (1)\ttotal: 1.62s\tremaining: 11.3s\n",
      "\n",
      "bestTest = 0.8221626555\n",
      "bestIteration = 199\n",
      "\n",
      "Metric AUC is not calculated on train by default. To calculate this metric on train, add hints=skip_train~false to metric parameters.\n",
      "2:\tloss: 0.8221627\tbest: 0.8238090 (1)\ttotal: 2.29s\tremaining: 9.9s\n",
      "\n",
      "bestTest = 0.8226556481\n",
      "bestIteration = 219\n",
      "\n",
      "Metric AUC is not calculated on train by default. To calculate this metric on train, add hints=skip_train~false to metric parameters.\n",
      "3:\tloss: 0.8226556\tbest: 0.8238090 (1)\ttotal: 3.02s\tremaining: 9.05s\n",
      "\n",
      "bestTest = 0.8222176872\n",
      "bestIteration = 159\n",
      "\n",
      "Metric AUC is not calculated on train by default. To calculate this metric on train, add hints=skip_train~false to metric parameters.\n",
      "4:\tloss: 0.8222177\tbest: 0.8238090 (1)\ttotal: 3.48s\tremaining: 7.66s\n",
      "\n",
      "bestTest = 0.8225570496\n",
      "bestIteration = 179\n",
      "\n",
      "Metric AUC is not calculated on train by default. To calculate this metric on train, add hints=skip_train~false to metric parameters.\n",
      "5:\tloss: 0.8225570\tbest: 0.8238090 (1)\ttotal: 4.03s\tremaining: 6.71s\n",
      "\n",
      "bestTest = 0.8229147558\n",
      "bestIteration = 160\n",
      "\n",
      "Metric AUC is not calculated on train by default. To calculate this metric on train, add hints=skip_train~false to metric parameters.\n",
      "6:\tloss: 0.8229148\tbest: 0.8238090 (1)\ttotal: 4.83s\tremaining: 6.21s\n",
      "\n",
      "bestTest = 0.8229147558\n",
      "bestIteration = 160\n",
      "\n",
      "Metric AUC is not calculated on train by default. To calculate this metric on train, add hints=skip_train~false to metric parameters.\n",
      "7:\tloss: 0.8229148\tbest: 0.8238090 (1)\ttotal: 5.72s\tremaining: 5.72s\n",
      "\n",
      "bestTest = 0.8220961588\n",
      "bestIteration = 120\n",
      "\n",
      "Metric AUC is not calculated on train by default. To calculate this metric on train, add hints=skip_train~false to metric parameters.\n",
      "8:\tloss: 0.8220962\tbest: 0.8238090 (1)\ttotal: 6.26s\tremaining: 4.87s\n",
      "\n",
      "bestTest = 0.8220961588\n",
      "bestIteration = 120\n",
      "\n",
      "Metric AUC is not calculated on train by default. To calculate this metric on train, add hints=skip_train~false to metric parameters.\n",
      "9:\tloss: 0.8220962\tbest: 0.8238090 (1)\ttotal: 6.89s\tremaining: 4.13s\n",
      "\n",
      "bestTest = 0.8220686429\n",
      "bestIteration = 160\n",
      "\n",
      "Metric AUC is not calculated on train by default. To calculate this metric on train, add hints=skip_train~false to metric parameters.\n",
      "10:\tloss: 0.8220686\tbest: 0.8238090 (1)\ttotal: 7.8s\tremaining: 3.54s\n",
      "\n",
      "bestTest = 0.8220686429\n",
      "bestIteration = 160\n",
      "\n",
      "Metric AUC is not calculated on train by default. To calculate this metric on train, add hints=skip_train~false to metric parameters.\n",
      "11:\tloss: 0.8220686\tbest: 0.8238090 (1)\ttotal: 8.79s\tremaining: 2.93s\n",
      "\n",
      "bestTest = 0.8217132296\n",
      "bestIteration = 80\n",
      "\n",
      "Metric AUC is not calculated on train by default. To calculate this metric on train, add hints=skip_train~false to metric parameters.\n",
      "12:\tloss: 0.8217132\tbest: 0.8238090 (1)\ttotal: 9.43s\tremaining: 2.17s\n",
      "\n",
      "bestTest = 0.8217132296\n",
      "bestIteration = 80\n",
      "\n",
      "Metric AUC is not calculated on train by default. To calculate this metric on train, add hints=skip_train~false to metric parameters.\n",
      "13:\tloss: 0.8217132\tbest: 0.8238090 (1)\ttotal: 10.1s\tremaining: 1.45s\n",
      "\n",
      "bestTest = 0.8207753971\n",
      "bestIteration = 199\n",
      "\n",
      "Metric AUC is not calculated on train by default. To calculate this metric on train, add hints=skip_train~false to metric parameters.\n",
      "14:\tloss: 0.8207754\tbest: 0.8238090 (1)\ttotal: 11.2s\tremaining: 747ms\n",
      "\n",
      "bestTest = 0.8207753971\n",
      "bestIteration = 200\n",
      "\n",
      "Metric AUC is not calculated on train by default. To calculate this metric on train, add hints=skip_train~false to metric parameters.\n",
      "15:\tloss: 0.8207754\tbest: 0.8238090 (1)\ttotal: 12.4s\tremaining: 0us\n",
      "Estimating final quality...\n",
      "Training on fold [0/5]\n",
      "\n",
      "bestTest = 0.8252365211\n",
      "bestIteration = 179\n",
      "\n",
      "Training on fold [1/5]\n",
      "\n",
      "bestTest = 0.8342450565\n",
      "bestIteration = 179\n",
      "\n",
      "Training on fold [2/5]\n",
      "\n",
      "bestTest = 0.8347192442\n",
      "bestIteration = 179\n",
      "\n",
      "Training on fold [3/5]\n",
      "\n",
      "bestTest = 0.819169553\n",
      "bestIteration = 179\n",
      "\n",
      "Training on fold [4/5]\n",
      "\n",
      "bestTest = 0.8234990929\n",
      "bestIteration = 179\n",
      "\n",
      "ROC-AUC valid: 0.846\n",
      "Наилучшие параметры:\n",
      "Depth: 4\n",
      "Iterations: 180\n"
     ]
    }
   ],
   "source": [
    "# CatboostClassifier\n",
    "model_cb = CatBoostClassifier(loss_function='Logloss',\n",
    "                              eval_metric='AUC',\n",
    "                              cat_features=cat_cols,\n",
    "                              random_state=23,\n",
    "                              verbose=False,\n",
    "                              custom_metric='AUC:hints=skip_train~false',\n",
    "                              metric_period=20\n",
    "                             )\n",
    "param_grid = {'depth': range(4, 8),\n",
    "              'iterations': [160, 180, 200, 220]\n",
    "             }\n",
    "model_cb.grid_search(param_grid=param_grid,\n",
    "                     X=x_train_cb,\n",
    "                     y=y_train_cb,\n",
    "                     cv=5,\n",
    "                    )\n",
    "\n",
    "print(f'ROC-AUC valid: {round(model_cb.get_best_score()[\"learn\"][\"AUC\"], 4)}',\n",
    "      'Наилучшие параметры:',\n",
    "      f'Depth: {model_cb.get_params()[\"depth\"]}',\n",
    "      f'Iterations: {model_cb.get_params()[\"iterations\"]}',\n",
    "      sep='\\n')\n"
   ]
  },
  {
   "cell_type": "code",
   "execution_count": 61,
   "metadata": {},
   "outputs": [
    {
     "name": "stderr",
     "output_type": "stream",
     "text": [
      "/tmp/ipykernel_31/2934059006.py:16: DeprecationWarning: KerasClassifier is deprecated, use Sci-Keras (https://github.com/adriangb/scikeras) instead.\n",
      "  classifier = KerasClassifier(build_fn=model_creator) #, verbose=0)\n",
      "2023-02-02 17:10:45.866904: I tensorflow/core/platform/cpu_feature_guard.cc:151] This TensorFlow binary is optimized with oneAPI Deep Neural Network Library (oneDNN) to use the following CPU instructions in performance-critical operations:  AVX2 AVX512F FMA\n",
      "To enable them in other operations, rebuild TensorFlow with the appropriate compiler flags.\n"
     ]
    },
    {
     "name": "stdout",
     "output_type": "stream",
     "text": [
      "ROC-AUC valid: 0.8147\n",
      "Наилучшие параметры:\n",
      "Optimizer - rmsprop\n",
      "Batch_size - 16\n",
      "Epochs - 50\n"
     ]
    }
   ],
   "source": [
    "# Neural network\n",
    "def model_creator(optimizer):\n",
    "    rate = .1\n",
    "\n",
    "    model_nn = Sequential() # создаем модель\n",
    "\n",
    "    model_nn.add(Dense(units=64, input_dim=features_train.shape[1], activation='relu')) # добавляем слои\n",
    "    model_nn.add(Dropout(rate=rate))\n",
    "    model_nn.add(Dense(units=32, activation='relu'))\n",
    "    model_nn.add(Dropout(rate=rate))\n",
    "    model_nn.add(Dense(units=1, activation='sigmoid'))\n",
    "    model_nn.compile(loss='binary_crossentropy', optimizer=optimizer, metrics=['accuracy']) # указаываем параметры нейронной сети\n",
    "\n",
    "    return model_nn\n",
    "\n",
    "classifier = KerasClassifier(build_fn=model_creator) #, verbose=0)\n",
    "\n",
    "param_grid = {'optimizer': ['adam', 'rmsprop'],\n",
    "              'batch_size': [16, 32,],\n",
    "              'epochs': [50, 100,],\n",
    "              }\n",
    "\n",
    "grid = GridSearchCV(classifier, param_grid=param_grid, cv = 5, scoring='roc_auc')\n",
    "grid.fit(features_train, target_train, verbose = 0)\n",
    "\n",
    "print(f'ROC-AUC valid: {round(grid.best_score_, 4)}',\n",
    "      f'Наилучшие параметры:',\n",
    "      f'Optimizer - {grid.best_params_[\"optimizer\"]}',\n",
    "      f'Batch_size - {grid.best_params_[\"batch_size\"]}',\n",
    "      f'Epochs - {grid.best_params_[\"epochs\"]}',\n",
    "      sep='\\n')"
   ]
  },
  {
   "cell_type": "markdown",
   "metadata": {},
   "source": [
    "Лучшие показатели у CatboostClassifier - время обучения значительно меньше, чем у нейронной сети, а ROC-AUC равен 0.85."
   ]
  },
  {
   "cell_type": "markdown",
   "metadata": {},
   "source": [
    "### Тестирование модели\n",
    "\n",
    "Используем CatboostClassifier, чтобы выяснить, к какому типу относится наш клиент. В случае, если модель предскажет, что клиент собирается отменить подписку (не активный), ему будут оказаны допуслуги."
   ]
  },
  {
   "cell_type": "code",
   "execution_count": 72,
   "metadata": {},
   "outputs": [
    {
     "name": "stdout",
     "output_type": "stream",
     "text": [
      "CatboostClassifier\n",
      "ROC-AUC test: 0.8222\n"
     ]
    }
   ],
   "source": [
    "# ROC_AUC\n",
    "print('CatboostClassifier')\n",
    "print(f'ROC-AUC test: {round(roc_auc_score(y_test_cb, model_cb.predict_proba(x_test_cb)[:, 1]), 4)}')"
   ]
  },
  {
   "cell_type": "markdown",
   "metadata": {},
   "source": [
    "Valid ROC-AUC равен 0.85, а test - 0.82. "
   ]
  },
  {
   "cell_type": "markdown",
   "metadata": {},
   "source": [
    "P.S.\n",
    "\n",
    "Может быть данные неудачно расфосафались? Не могу точно ответить, что повлияло на это."
   ]
  },
  {
   "cell_type": "code",
   "execution_count": 63,
   "metadata": {},
   "outputs": [
    {
     "data": {
      "image/png": "[encoded data removed]",
      "text/plain": [
       "<Figure size 432x288 with 2 Axes>"
      ]
     },
     "metadata": {
      "needs_background": "light"
     },
     "output_type": "display_data"
    }
   ],
   "source": [
    "# покажем матрицу ошибок модели CatBoostClassifier\n",
    "sns.heatmap(confusion_matrix(y_test_cb, model_cb.predict(x_test_cb)),\n",
    "            cmap='YlGnBu',\n",
    "            square=True, \n",
    "            linewidths=0.1,\n",
    "            annot=True,\n",
    "            fmt='d', \n",
    "            xticklabels=['Активный', 'Не активный'], \n",
    "            yticklabels=['Активный', 'Не активный']\n",
    "           ).set_title('Матрица ошибок')\n",
    "None"
   ]
  },
  {
   "cell_type": "markdown",
   "metadata": {},
   "source": [
    "Модель верно предсказала 221 (63%) объектов положительного класса и 1166 (82%) отрицательного."
   ]
  },
  {
   "cell_type": "markdown",
   "metadata": {},
   "source": [
    "<div class=\"alert alert-success\">\n",
    "<h2> Комментарий ревьюера <a class=\"tocSkip\"> </h2>\n",
    "\n",
    "<b>Все отлично!👍:</b> \n",
    "        \n",
    "Матрица ошибок выведена. Довольно полезный инструмент для анализа модели."
   ]
  },
  {
   "cell_type": "markdown",
   "metadata": {},
   "source": [
    "Выявим, какие признаки больше всего влияют на клиентов по версии CatBoostClassifier:"
   ]
  },
  {
   "cell_type": "code",
   "execution_count": 64,
   "metadata": {},
   "outputs": [
    {
     "data": {
      "image/png": "[encoded data removed]",
      "text/plain": [
       "<Figure size 720x720 with 1 Axes>"
      ]
     },
     "metadata": {
      "needs_background": "light"
     },
     "output_type": "display_data"
    }
   ],
   "source": [
    "plt.title('Feature importances')\n",
    "(abs(pd.Series(model_cb.feature_importances_,\n",
    "               index=model_cb.feature_names_)\n",
    "    )\n",
    " .sort_values()\n",
    " .plot(kind='barh',\n",
    "       figsize=(10,10)\n",
    "      )\n",
    ")\n",
    "None"
   ]
  },
  {
   "cell_type": "markdown",
   "metadata": {},
   "source": [
    "На первом месте, тип оплаты (раз в год или помесячно). Далее идут расходы за месяц, тип оплаты и пользование тарифом по времени."
   ]
  },
  {
   "cell_type": "markdown",
   "metadata": {},
   "source": [
    "<div class=\"alert alert-success\">\n",
    "<h2> Комментарий ревьюера <a class=\"tocSkip\"> </h2>\n",
    "\n",
    "<b>Все отлично!👍:</b> \n",
    "    \n",
    "Молодец, что не забываешь оценить важность признаков модели"
   ]
  },
  {
   "cell_type": "markdown",
   "metadata": {},
   "source": [
    "Покажем, как распределены тип оплаты и target."
   ]
  },
  {
   "cell_type": "code",
   "execution_count": 65,
   "metadata": {},
   "outputs": [
    {
     "data": {
      "image/png": "[encoded data removed]",
      "text/plain": [
       "<Figure size 432x288 with 1 Axes>"
      ]
     },
     "metadata": {
      "needs_background": "light"
     },
     "output_type": "display_data"
    }
   ],
   "source": [
    "type_gr = df_merge.groupby(target)['Type'] \\\n",
    "                  .value_counts() \\\n",
    "                  .rename('count') \\\n",
    "                  .reset_index()\n",
    "sns.barplot(data = type_gr, y = 'count', x = 'Type', hue = target)\n",
    "plt.title('Зависимость Type и target')\n",
    "None"
   ]
  },
  {
   "cell_type": "markdown",
   "metadata": {},
   "source": [
    "По графику можно предположить, что больше всего оттока у клиентов с ежедневной подпиской. Но у нас датасет небольшой. Необходимо увеличить диапозон выгрузки. Или вовсе икслючить его. "
   ]
  },
  {
   "cell_type": "markdown",
   "metadata": {},
   "source": [
    "P.S. Верно ли я размышляю? Я не стал удалять признак Type при обучении модели (или все таки стоило?)"
   ]
  },
  {
   "cell_type": "markdown",
   "metadata": {},
   "source": [
    "<div class=\"alert alert-success\">\n",
    "<h2> Комментарий ревьюера <a class=\"tocSkip\"> </h2>\n",
    "\n",
    "<b>Все отлично!👍:</b> \n",
    "    \n",
    "Да, лучше увеличить диапозон выгрузки. С трейном мы можем делать все, что хотим, главное без утечки"
   ]
  },
  {
   "cell_type": "markdown",
   "metadata": {},
   "source": [
    "### Заключение"
   ]
  },
  {
   "cell_type": "markdown",
   "metadata": {},
   "source": [
    "В ходе работы мы:\n",
    "- Построили алгоритм действий, по которому можно обновлять и добовлять новые условия;\n",
    "- Исследовали данные, и привели их к нужному виду;\n",
    "- Определили модель, которая лучше всего справляется с поставленной задачей;\n",
    "- Оценили нашу модель, и более подробно показали ее характеристики;\n",
    "\n",
    "Чтобы улучшить модели, предлагаю увеличить наш датасет. Можно актуализировать данные. Последняя запись была 01.02.2020. "
   ]
  }
 ],
 "metadata": {
  "ExecuteTimeLog": [
   {
    "duration": 11,
    "start_time": "2023-01-29T17:15:07.847Z"
   },
   {
    "duration": 581,
    "start_time": "2023-01-29T17:17:17.551Z"
   },
   {
    "duration": 4,
    "start_time": "2023-01-29T17:19:22.966Z"
   },
   {
    "duration": 6928,
    "start_time": "2023-01-29T17:19:23.287Z"
   },
   {
    "duration": 3,
    "start_time": "2023-01-29T17:23:55.005Z"
   },
   {
    "duration": 4,
    "start_time": "2023-01-29T17:23:55.586Z"
   },
   {
    "duration": 258,
    "start_time": "2023-01-29T17:27:40.762Z"
   },
   {
    "duration": 111,
    "start_time": "2023-01-29T17:27:49.062Z"
   },
   {
    "duration": 57,
    "start_time": "2023-01-29T17:28:13.048Z"
   },
   {
    "duration": 55,
    "start_time": "2023-01-29T17:32:59.562Z"
   },
   {
    "duration": 42,
    "start_time": "2023-01-29T17:37:13.678Z"
   },
   {
    "duration": 67,
    "start_time": "2023-01-29T17:37:16.657Z"
   },
   {
    "duration": 61,
    "start_time": "2023-01-29T17:43:47.810Z"
   },
   {
    "duration": 65,
    "start_time": "2023-01-29T17:43:51.954Z"
   },
   {
    "duration": 256,
    "start_time": "2023-01-29T17:45:22.741Z"
   },
   {
    "duration": 109,
    "start_time": "2023-01-29T17:46:49.186Z"
   },
   {
    "duration": 96,
    "start_time": "2023-01-29T17:53:01.643Z"
   },
   {
    "duration": 93,
    "start_time": "2023-01-29T17:53:05.815Z"
   },
   {
    "duration": 130,
    "start_time": "2023-01-29T17:53:11.821Z"
   },
   {
    "duration": 12,
    "start_time": "2023-01-29T17:58:24.966Z"
   },
   {
    "duration": 134,
    "start_time": "2023-01-29T17:58:36.456Z"
   },
   {
    "duration": 108,
    "start_time": "2023-01-29T17:59:03.206Z"
   },
   {
    "duration": 125,
    "start_time": "2023-01-29T17:59:25.288Z"
   },
   {
    "duration": 101,
    "start_time": "2023-01-29T17:59:42.749Z"
   },
   {
    "duration": 135,
    "start_time": "2023-01-29T18:00:14.516Z"
   },
   {
    "duration": 131,
    "start_time": "2023-01-29T18:00:29.711Z"
   },
   {
    "duration": 97,
    "start_time": "2023-01-29T18:00:36.151Z"
   },
   {
    "duration": 133,
    "start_time": "2023-01-29T18:00:51.412Z"
   },
   {
    "duration": 158,
    "start_time": "2023-01-29T18:01:14.983Z"
   },
   {
    "duration": 34,
    "start_time": "2023-01-29T18:02:19.456Z"
   },
   {
    "duration": 106,
    "start_time": "2023-01-29T18:02:36.351Z"
   },
   {
    "duration": 109,
    "start_time": "2023-01-29T18:03:12.815Z"
   },
   {
    "duration": 132,
    "start_time": "2023-01-29T18:03:39.414Z"
   },
   {
    "duration": 4,
    "start_time": "2023-01-29T18:03:46.607Z"
   },
   {
    "duration": 4,
    "start_time": "2023-01-29T18:03:47.599Z"
   },
   {
    "duration": 4,
    "start_time": "2023-01-29T18:03:47.807Z"
   },
   {
    "duration": 160,
    "start_time": "2023-01-29T18:03:51.480Z"
   },
   {
    "duration": 23,
    "start_time": "2023-01-29T18:04:24.498Z"
   },
   {
    "duration": 30,
    "start_time": "2023-01-29T18:04:30.709Z"
   },
   {
    "duration": 187,
    "start_time": "2023-01-29T18:04:55.125Z"
   },
   {
    "duration": 107,
    "start_time": "2023-01-29T18:05:04.371Z"
   },
   {
    "duration": 92,
    "start_time": "2023-01-29T18:05:23.907Z"
   },
   {
    "duration": 18,
    "start_time": "2023-01-29T18:08:14.889Z"
   },
   {
    "duration": 92,
    "start_time": "2023-01-29T18:08:20.573Z"
   },
   {
    "duration": 123,
    "start_time": "2023-01-29T18:12:22.680Z"
   },
   {
    "duration": 145,
    "start_time": "2023-01-29T18:12:34.755Z"
   },
   {
    "duration": 101,
    "start_time": "2023-01-29T18:12:47.612Z"
   },
   {
    "duration": 17,
    "start_time": "2023-01-29T18:12:52.995Z"
   },
   {
    "duration": 149,
    "start_time": "2023-01-29T18:13:01.426Z"
   },
   {
    "duration": 25,
    "start_time": "2023-01-29T18:13:07.492Z"
   },
   {
    "duration": 29,
    "start_time": "2023-01-29T18:13:17.224Z"
   },
   {
    "duration": 53,
    "start_time": "2023-01-29T18:13:35.636Z"
   },
   {
    "duration": 45,
    "start_time": "2023-01-29T18:13:56.347Z"
   },
   {
    "duration": 24,
    "start_time": "2023-01-29T18:14:07.092Z"
   },
   {
    "duration": 28,
    "start_time": "2023-01-29T18:14:34.982Z"
   },
   {
    "duration": 17,
    "start_time": "2023-01-29T18:14:58.993Z"
   },
   {
    "duration": 89,
    "start_time": "2023-01-29T18:18:43.813Z"
   },
   {
    "duration": 28,
    "start_time": "2023-01-29T18:19:44.750Z"
   },
   {
    "duration": 23,
    "start_time": "2023-01-29T18:21:20.517Z"
   },
   {
    "duration": 23,
    "start_time": "2023-01-29T18:21:26.572Z"
   },
   {
    "duration": 17,
    "start_time": "2023-01-29T18:23:12.700Z"
   },
   {
    "duration": 21,
    "start_time": "2023-01-29T18:23:30.363Z"
   },
   {
    "duration": 22,
    "start_time": "2023-01-29T18:23:40.352Z"
   },
   {
    "duration": 18,
    "start_time": "2023-01-29T18:24:01.961Z"
   },
   {
    "duration": 16,
    "start_time": "2023-01-29T18:27:39.793Z"
   },
   {
    "duration": 130,
    "start_time": "2023-01-29T18:55:03.926Z"
   },
   {
    "duration": 69,
    "start_time": "2023-01-29T18:55:23.755Z"
   },
   {
    "duration": 64,
    "start_time": "2023-01-29T18:55:27.427Z"
   },
   {
    "duration": 62,
    "start_time": "2023-01-29T18:55:33.580Z"
   },
   {
    "duration": 49,
    "start_time": "2023-01-29T18:55:38.422Z"
   },
   {
    "duration": 47,
    "start_time": "2023-01-29T18:55:52.944Z"
   },
   {
    "duration": 38,
    "start_time": "2023-01-29T18:55:58.089Z"
   },
   {
    "duration": 93,
    "start_time": "2023-01-29T18:56:04.254Z"
   },
   {
    "duration": 13,
    "start_time": "2023-01-29T18:56:40.626Z"
   },
   {
    "duration": 6,
    "start_time": "2023-01-29T18:58:15.849Z"
   },
   {
    "duration": 13,
    "start_time": "2023-01-29T18:58:18.583Z"
   },
   {
    "duration": 45,
    "start_time": "2023-01-29T18:58:46.018Z"
   },
   {
    "duration": 17,
    "start_time": "2023-01-29T19:08:35.025Z"
   },
   {
    "duration": 14,
    "start_time": "2023-01-29T19:10:34.681Z"
   },
   {
    "duration": 17,
    "start_time": "2023-01-29T19:13:23.344Z"
   },
   {
    "duration": 14,
    "start_time": "2023-01-29T19:13:27.884Z"
   },
   {
    "duration": 51,
    "start_time": "2023-01-30T06:57:52.904Z"
   },
   {
    "duration": 522,
    "start_time": "2023-01-30T06:57:56.409Z"
   },
   {
    "duration": 3,
    "start_time": "2023-01-30T06:57:56.933Z"
   },
   {
    "duration": 8037,
    "start_time": "2023-01-30T06:57:56.938Z"
   },
   {
    "duration": 355,
    "start_time": "2023-01-30T06:58:04.978Z"
   },
   {
    "duration": 145,
    "start_time": "2023-01-30T06:58:05.335Z"
   },
   {
    "duration": 18,
    "start_time": "2023-01-30T06:58:05.482Z"
   },
   {
    "duration": 34,
    "start_time": "2023-01-30T06:58:05.502Z"
   },
   {
    "duration": 2,
    "start_time": "2023-01-30T06:58:05.538Z"
   },
   {
    "duration": 12,
    "start_time": "2023-01-30T06:59:45.675Z"
   },
   {
    "duration": 14,
    "start_time": "2023-01-30T07:25:20.135Z"
   },
   {
    "duration": 16,
    "start_time": "2023-01-30T07:29:46.124Z"
   },
   {
    "duration": 15,
    "start_time": "2023-01-30T07:29:59.009Z"
   },
   {
    "duration": 45,
    "start_time": "2023-01-30T07:33:12.858Z"
   },
   {
    "duration": 6,
    "start_time": "2023-01-30T07:33:48.963Z"
   },
   {
    "duration": 6,
    "start_time": "2023-01-30T07:34:00.957Z"
   },
   {
    "duration": 7,
    "start_time": "2023-01-30T07:34:06.959Z"
   },
   {
    "duration": 6,
    "start_time": "2023-01-30T07:34:20.337Z"
   },
   {
    "duration": 7,
    "start_time": "2023-01-30T07:35:07.253Z"
   },
   {
    "duration": 12,
    "start_time": "2023-01-30T07:35:15.645Z"
   },
   {
    "duration": 14,
    "start_time": "2023-01-30T08:04:27.479Z"
   },
   {
    "duration": 10,
    "start_time": "2023-01-30T08:06:56.320Z"
   },
   {
    "duration": 10,
    "start_time": "2023-01-30T08:07:03.615Z"
   },
   {
    "duration": 12,
    "start_time": "2023-01-30T08:08:14.944Z"
   },
   {
    "duration": 597,
    "start_time": "2023-01-30T08:08:55.922Z"
   },
   {
    "duration": 136,
    "start_time": "2023-01-30T08:10:13.296Z"
   },
   {
    "duration": 16,
    "start_time": "2023-01-30T08:13:15.308Z"
   },
   {
    "duration": 3,
    "start_time": "2023-01-30T08:14:02.346Z"
   },
   {
    "duration": 176,
    "start_time": "2023-01-30T08:14:09.072Z"
   },
   {
    "duration": 119,
    "start_time": "2023-01-30T08:14:12.798Z"
   },
   {
    "duration": 133,
    "start_time": "2023-01-30T08:14:15.309Z"
   },
   {
    "duration": 128,
    "start_time": "2023-01-30T08:14:25.031Z"
   },
   {
    "duration": 122,
    "start_time": "2023-01-30T08:14:29.622Z"
   },
   {
    "duration": 122,
    "start_time": "2023-01-30T08:14:32.885Z"
   },
   {
    "duration": 146,
    "start_time": "2023-01-30T08:14:36.453Z"
   },
   {
    "duration": 168,
    "start_time": "2023-01-30T08:14:40.604Z"
   },
   {
    "duration": 124,
    "start_time": "2023-01-30T08:14:45.079Z"
   },
   {
    "duration": 120,
    "start_time": "2023-01-30T08:14:48.820Z"
   },
   {
    "duration": 153,
    "start_time": "2023-01-30T08:14:56.163Z"
   },
   {
    "duration": 127,
    "start_time": "2023-01-30T08:14:59.591Z"
   },
   {
    "duration": 142,
    "start_time": "2023-01-30T08:15:19.780Z"
   },
   {
    "duration": 131,
    "start_time": "2023-01-30T08:15:24.627Z"
   },
   {
    "duration": 153,
    "start_time": "2023-01-30T08:17:01.499Z"
   },
   {
    "duration": 160,
    "start_time": "2023-01-30T08:17:18.066Z"
   },
   {
    "duration": 163,
    "start_time": "2023-01-30T10:23:33.690Z"
   },
   {
    "duration": 174,
    "start_time": "2023-01-30T10:23:43.321Z"
   },
   {
    "duration": 231,
    "start_time": "2023-01-30T10:23:47.424Z"
   },
   {
    "duration": 145,
    "start_time": "2023-01-30T10:23:52.809Z"
   },
   {
    "duration": 153,
    "start_time": "2023-01-30T10:23:56.485Z"
   },
   {
    "duration": 156,
    "start_time": "2023-01-30T10:24:00.416Z"
   },
   {
    "duration": 158,
    "start_time": "2023-01-30T10:24:37.356Z"
   },
   {
    "duration": 586,
    "start_time": "2023-01-30T10:57:23.210Z"
   },
   {
    "duration": 83,
    "start_time": "2023-01-30T10:57:57.017Z"
   },
   {
    "duration": 88,
    "start_time": "2023-01-30T10:58:42.563Z"
   },
   {
    "duration": 215,
    "start_time": "2023-01-30T11:23:35.273Z"
   },
   {
    "duration": 145,
    "start_time": "2023-01-30T11:24:29.488Z"
   },
   {
    "duration": 146,
    "start_time": "2023-01-30T11:24:53.376Z"
   },
   {
    "duration": 178,
    "start_time": "2023-01-30T11:25:59.119Z"
   },
   {
    "duration": 155,
    "start_time": "2023-01-30T11:26:07.981Z"
   },
   {
    "duration": 162,
    "start_time": "2023-01-30T11:26:09.949Z"
   },
   {
    "duration": 208,
    "start_time": "2023-01-30T11:26:19.005Z"
   },
   {
    "duration": 121,
    "start_time": "2023-01-30T11:26:24.987Z"
   },
   {
    "duration": 403,
    "start_time": "2023-01-30T11:26:32.225Z"
   },
   {
    "duration": 179,
    "start_time": "2023-01-30T11:26:51.278Z"
   },
   {
    "duration": 178,
    "start_time": "2023-01-30T11:35:45.573Z"
   },
   {
    "duration": 210,
    "start_time": "2023-01-30T11:37:27.593Z"
   },
   {
    "duration": 203,
    "start_time": "2023-01-30T11:37:35.574Z"
   },
   {
    "duration": 202,
    "start_time": "2023-01-30T11:37:38.680Z"
   },
   {
    "duration": 199,
    "start_time": "2023-01-30T11:37:49.477Z"
   },
   {
    "duration": 192,
    "start_time": "2023-01-30T11:37:54.342Z"
   },
   {
    "duration": 233,
    "start_time": "2023-01-30T11:37:56.464Z"
   },
   {
    "duration": 219,
    "start_time": "2023-01-30T11:38:17.279Z"
   },
   {
    "duration": 194,
    "start_time": "2023-01-30T11:38:30.930Z"
   },
   {
    "duration": 227,
    "start_time": "2023-01-30T11:38:37.146Z"
   },
   {
    "duration": 194,
    "start_time": "2023-01-30T11:38:42.729Z"
   },
   {
    "duration": 201,
    "start_time": "2023-01-30T11:38:47.383Z"
   },
   {
    "duration": 261,
    "start_time": "2023-01-30T11:39:02.829Z"
   },
   {
    "duration": 177,
    "start_time": "2023-01-30T11:41:49.597Z"
   },
   {
    "duration": 12,
    "start_time": "2023-01-30T11:42:03.078Z"
   },
   {
    "duration": 5,
    "start_time": "2023-01-30T11:44:30.207Z"
   },
   {
    "duration": 5,
    "start_time": "2023-01-30T11:44:35.507Z"
   },
   {
    "duration": 7,
    "start_time": "2023-01-30T11:44:56.830Z"
   },
   {
    "duration": 4,
    "start_time": "2023-01-30T11:45:01.715Z"
   },
   {
    "duration": 14,
    "start_time": "2023-01-30T11:45:04.862Z"
   },
   {
    "duration": 4,
    "start_time": "2023-01-30T11:45:51.126Z"
   },
   {
    "duration": 4,
    "start_time": "2023-01-30T11:45:53.790Z"
   },
   {
    "duration": 4,
    "start_time": "2023-01-30T11:47:53.706Z"
   },
   {
    "duration": 13,
    "start_time": "2023-01-30T11:48:04.969Z"
   },
   {
    "duration": 4,
    "start_time": "2023-01-30T11:48:27.080Z"
   },
   {
    "duration": 10,
    "start_time": "2023-01-30T11:51:04.051Z"
   },
   {
    "duration": 10,
    "start_time": "2023-01-30T11:51:07.902Z"
   },
   {
    "duration": 14,
    "start_time": "2023-01-30T11:51:09.584Z"
   },
   {
    "duration": 11,
    "start_time": "2023-01-30T11:51:19.849Z"
   },
   {
    "duration": 324,
    "start_time": "2023-01-30T11:52:16.577Z"
   },
   {
    "duration": 14,
    "start_time": "2023-01-30T11:52:19.816Z"
   },
   {
    "duration": 10,
    "start_time": "2023-01-30T11:52:22.057Z"
   },
   {
    "duration": 141,
    "start_time": "2023-01-30T11:52:37.438Z"
   },
   {
    "duration": 13,
    "start_time": "2023-01-30T11:52:38.397Z"
   },
   {
    "duration": 11,
    "start_time": "2023-01-30T11:52:44.186Z"
   },
   {
    "duration": 17,
    "start_time": "2023-01-30T11:52:54.975Z"
   },
   {
    "duration": 10,
    "start_time": "2023-01-30T11:53:00.329Z"
   },
   {
    "duration": 139,
    "start_time": "2023-01-30T11:53:09.845Z"
   },
   {
    "duration": 9,
    "start_time": "2023-01-30T11:53:12.689Z"
   },
   {
    "duration": 144,
    "start_time": "2023-01-30T11:54:11.268Z"
   },
   {
    "duration": 10,
    "start_time": "2023-01-30T11:54:13.711Z"
   },
   {
    "duration": 141,
    "start_time": "2023-01-30T11:54:27.549Z"
   },
   {
    "duration": 7,
    "start_time": "2023-01-30T11:54:29.309Z"
   },
   {
    "duration": 20,
    "start_time": "2023-01-30T12:01:14.896Z"
   },
   {
    "duration": 16,
    "start_time": "2023-01-30T12:01:21.429Z"
   },
   {
    "duration": 17,
    "start_time": "2023-01-30T12:01:25.076Z"
   },
   {
    "duration": 490,
    "start_time": "2023-01-30T12:01:42.220Z"
   },
   {
    "duration": 3,
    "start_time": "2023-01-30T12:01:44.208Z"
   },
   {
    "duration": 6,
    "start_time": "2023-01-30T12:01:44.214Z"
   },
   {
    "duration": 9,
    "start_time": "2023-01-30T12:01:44.221Z"
   },
   {
    "duration": 593,
    "start_time": "2023-01-30T12:01:44.233Z"
   },
   {
    "duration": 395,
    "start_time": "2023-01-30T12:01:44.828Z"
   },
   {
    "duration": 16,
    "start_time": "2023-01-30T12:01:45.225Z"
   },
   {
    "duration": 55,
    "start_time": "2023-01-30T12:01:45.243Z"
   },
   {
    "duration": 25,
    "start_time": "2023-01-30T12:01:45.300Z"
   },
   {
    "duration": 9,
    "start_time": "2023-01-30T12:01:45.328Z"
   },
   {
    "duration": 20,
    "start_time": "2023-01-30T12:01:45.340Z"
   },
   {
    "duration": 241,
    "start_time": "2023-01-30T12:01:45.362Z"
   },
   {
    "duration": 11,
    "start_time": "2023-01-30T12:01:45.605Z"
   },
   {
    "duration": 215,
    "start_time": "2023-01-30T12:01:45.618Z"
   },
   {
    "duration": 64,
    "start_time": "2023-01-30T12:01:45.836Z"
   },
   {
    "duration": 17,
    "start_time": "2023-01-30T12:01:45.902Z"
   },
   {
    "duration": 44,
    "start_time": "2023-01-30T12:02:35.776Z"
   },
   {
    "duration": 61,
    "start_time": "2023-01-30T12:02:50.051Z"
   },
   {
    "duration": 30,
    "start_time": "2023-01-30T12:26:13.440Z"
   },
   {
    "duration": 29,
    "start_time": "2023-01-30T12:29:20.196Z"
   },
   {
    "duration": 49,
    "start_time": "2023-01-30T12:29:22.926Z"
   },
   {
    "duration": 112,
    "start_time": "2023-01-30T12:30:00.367Z"
   },
   {
    "duration": 1545,
    "start_time": "2023-01-30T12:30:33.255Z"
   },
   {
    "duration": 0,
    "start_time": "2023-01-30T12:30:34.802Z"
   },
   {
    "duration": 1678,
    "start_time": "2023-01-30T12:30:45.131Z"
   },
   {
    "duration": 34,
    "start_time": "2023-01-30T12:30:52.604Z"
   },
   {
    "duration": 13,
    "start_time": "2023-01-30T12:30:54.013Z"
   },
   {
    "duration": 9,
    "start_time": "2023-01-30T12:58:05.361Z"
   },
   {
    "duration": 40,
    "start_time": "2023-01-30T13:00:43.345Z"
   },
   {
    "duration": 23,
    "start_time": "2023-01-30T13:00:45.495Z"
   },
   {
    "duration": 45,
    "start_time": "2023-01-30T13:00:49.736Z"
   },
   {
    "duration": 8,
    "start_time": "2023-01-30T13:04:22.499Z"
   },
   {
    "duration": 8,
    "start_time": "2023-01-30T13:04:32.593Z"
   },
   {
    "duration": 7,
    "start_time": "2023-01-30T13:05:14.774Z"
   },
   {
    "duration": 6,
    "start_time": "2023-01-30T13:05:31.773Z"
   },
   {
    "duration": 8,
    "start_time": "2023-01-30T13:05:34.132Z"
   },
   {
    "duration": 7,
    "start_time": "2023-01-30T13:05:41.569Z"
   },
   {
    "duration": 6,
    "start_time": "2023-01-30T13:05:44.138Z"
   },
   {
    "duration": 9,
    "start_time": "2023-01-30T13:07:18.118Z"
   },
   {
    "duration": 139,
    "start_time": "2023-01-30T13:12:15.208Z"
   },
   {
    "duration": 206,
    "start_time": "2023-01-30T13:12:52.185Z"
   },
   {
    "duration": 158,
    "start_time": "2023-01-30T13:13:43.219Z"
   },
   {
    "duration": 81,
    "start_time": "2023-01-30T13:14:46.683Z"
   },
   {
    "duration": 321,
    "start_time": "2023-01-30T13:14:50.061Z"
   },
   {
    "duration": 192,
    "start_time": "2023-01-30T13:16:30.977Z"
   },
   {
    "duration": 154,
    "start_time": "2023-01-30T13:16:37.882Z"
   },
   {
    "duration": 295,
    "start_time": "2023-01-30T13:16:44.740Z"
   },
   {
    "duration": 181,
    "start_time": "2023-01-30T13:16:53.712Z"
   },
   {
    "duration": 8,
    "start_time": "2023-01-30T13:17:08.278Z"
   },
   {
    "duration": 8,
    "start_time": "2023-01-30T13:17:40.369Z"
   },
   {
    "duration": 11,
    "start_time": "2023-01-30T13:17:53.395Z"
   },
   {
    "duration": 211,
    "start_time": "2023-01-30T13:17:58.771Z"
   },
   {
    "duration": 168,
    "start_time": "2023-01-30T13:19:00.473Z"
   },
   {
    "duration": 163,
    "start_time": "2023-01-30T13:19:05.834Z"
   },
   {
    "duration": 175,
    "start_time": "2023-01-30T13:19:09.594Z"
   },
   {
    "duration": 206,
    "start_time": "2023-01-30T13:19:15.772Z"
   },
   {
    "duration": 174,
    "start_time": "2023-01-30T13:19:22.984Z"
   },
   {
    "duration": 173,
    "start_time": "2023-01-30T13:19:36.143Z"
   },
   {
    "duration": 224,
    "start_time": "2023-01-30T13:19:43.674Z"
   },
   {
    "duration": 212,
    "start_time": "2023-01-30T13:19:55.438Z"
   },
   {
    "duration": 157,
    "start_time": "2023-01-30T13:20:01.938Z"
   },
   {
    "duration": 315,
    "start_time": "2023-01-30T13:20:04.670Z"
   },
   {
    "duration": 217,
    "start_time": "2023-01-30T13:20:09.717Z"
   },
   {
    "duration": 158,
    "start_time": "2023-01-30T13:20:13.115Z"
   },
   {
    "duration": 166,
    "start_time": "2023-01-30T13:20:45.759Z"
   },
   {
    "duration": 154,
    "start_time": "2023-01-30T13:20:57.159Z"
   },
   {
    "duration": 150,
    "start_time": "2023-01-30T13:21:01.577Z"
   },
   {
    "duration": 173,
    "start_time": "2023-01-30T13:21:14.469Z"
   },
   {
    "duration": 146,
    "start_time": "2023-01-30T13:21:18.144Z"
   },
   {
    "duration": 145,
    "start_time": "2023-01-30T13:21:22.182Z"
   },
   {
    "duration": 153,
    "start_time": "2023-01-30T13:21:41.132Z"
   },
   {
    "duration": 153,
    "start_time": "2023-01-30T13:22:18.611Z"
   },
   {
    "duration": 147,
    "start_time": "2023-01-30T13:22:34.263Z"
   },
   {
    "duration": 166,
    "start_time": "2023-01-30T13:22:46.345Z"
   },
   {
    "duration": 141,
    "start_time": "2023-01-30T13:23:16.737Z"
   },
   {
    "duration": 156,
    "start_time": "2023-01-30T13:23:27.301Z"
   },
   {
    "duration": 150,
    "start_time": "2023-01-30T13:23:32.721Z"
   },
   {
    "duration": 160,
    "start_time": "2023-01-30T13:24:05.848Z"
   },
   {
    "duration": 290,
    "start_time": "2023-01-30T13:26:23.060Z"
   },
   {
    "duration": 9,
    "start_time": "2023-01-30T13:32:53.799Z"
   },
   {
    "duration": 186,
    "start_time": "2023-01-30T13:34:10.301Z"
   },
   {
    "duration": 212,
    "start_time": "2023-01-30T13:35:01.632Z"
   },
   {
    "duration": 197,
    "start_time": "2023-01-30T13:35:15.187Z"
   },
   {
    "duration": 192,
    "start_time": "2023-01-30T13:35:22.711Z"
   },
   {
    "duration": 202,
    "start_time": "2023-01-30T13:35:26.319Z"
   },
   {
    "duration": 1399,
    "start_time": "2023-01-31T07:11:05.116Z"
   },
   {
    "duration": 2,
    "start_time": "2023-01-31T07:11:06.518Z"
   },
   {
    "duration": 4737,
    "start_time": "2023-01-31T07:11:06.521Z"
   },
   {
    "duration": 85,
    "start_time": "2023-01-31T07:11:11.260Z"
   },
   {
    "duration": 157,
    "start_time": "2023-01-31T07:11:11.347Z"
   },
   {
    "duration": 13,
    "start_time": "2023-01-31T07:11:11.506Z"
   },
   {
    "duration": 25,
    "start_time": "2023-01-31T07:11:11.520Z"
   },
   {
    "duration": 24,
    "start_time": "2023-01-31T07:11:11.547Z"
   },
   {
    "duration": 123,
    "start_time": "2023-01-31T07:11:11.572Z"
   },
   {
    "duration": 0,
    "start_time": "2023-01-31T07:11:11.697Z"
   },
   {
    "duration": 0,
    "start_time": "2023-01-31T07:11:11.698Z"
   },
   {
    "duration": 1,
    "start_time": "2023-01-31T07:11:11.699Z"
   },
   {
    "duration": 0,
    "start_time": "2023-01-31T07:11:11.701Z"
   },
   {
    "duration": 0,
    "start_time": "2023-01-31T07:11:11.702Z"
   },
   {
    "duration": 0,
    "start_time": "2023-01-31T07:11:11.704Z"
   },
   {
    "duration": 0,
    "start_time": "2023-01-31T07:11:11.705Z"
   },
   {
    "duration": 0,
    "start_time": "2023-01-31T07:11:11.706Z"
   },
   {
    "duration": 0,
    "start_time": "2023-01-31T07:11:11.707Z"
   },
   {
    "duration": 10,
    "start_time": "2023-01-31T07:12:11.416Z"
   },
   {
    "duration": 4,
    "start_time": "2023-01-31T07:12:14.726Z"
   },
   {
    "duration": 6,
    "start_time": "2023-01-31T07:12:14.732Z"
   },
   {
    "duration": 11,
    "start_time": "2023-01-31T07:12:14.739Z"
   },
   {
    "duration": 83,
    "start_time": "2023-01-31T07:12:14.752Z"
   },
   {
    "duration": 190,
    "start_time": "2023-01-31T07:12:14.837Z"
   },
   {
    "duration": 14,
    "start_time": "2023-01-31T07:12:15.029Z"
   },
   {
    "duration": 19,
    "start_time": "2023-01-31T07:12:15.044Z"
   },
   {
    "duration": 31,
    "start_time": "2023-01-31T07:12:15.065Z"
   },
   {
    "duration": 9,
    "start_time": "2023-01-31T07:12:15.098Z"
   },
   {
    "duration": 23,
    "start_time": "2023-01-31T07:12:15.109Z"
   },
   {
    "duration": 13,
    "start_time": "2023-01-31T07:12:15.134Z"
   },
   {
    "duration": 0,
    "start_time": "2023-01-31T07:12:15.149Z"
   },
   {
    "duration": 0,
    "start_time": "2023-01-31T07:12:15.150Z"
   },
   {
    "duration": 0,
    "start_time": "2023-01-31T07:12:15.152Z"
   },
   {
    "duration": 0,
    "start_time": "2023-01-31T07:12:15.153Z"
   },
   {
    "duration": 0,
    "start_time": "2023-01-31T07:12:15.154Z"
   },
   {
    "duration": 0,
    "start_time": "2023-01-31T07:12:15.155Z"
   },
   {
    "duration": 0,
    "start_time": "2023-01-31T07:12:15.184Z"
   },
   {
    "duration": 4,
    "start_time": "2023-01-31T07:12:29.804Z"
   },
   {
    "duration": 39,
    "start_time": "2023-01-31T07:12:29.810Z"
   },
   {
    "duration": 15,
    "start_time": "2023-01-31T07:12:29.851Z"
   },
   {
    "duration": 102,
    "start_time": "2023-01-31T07:12:29.869Z"
   },
   {
    "duration": 99,
    "start_time": "2023-01-31T07:12:29.974Z"
   },
   {
    "duration": 13,
    "start_time": "2023-01-31T07:12:30.074Z"
   },
   {
    "duration": 13,
    "start_time": "2023-01-31T07:12:30.089Z"
   },
   {
    "duration": 24,
    "start_time": "2023-01-31T07:12:30.104Z"
   },
   {
    "duration": 30,
    "start_time": "2023-01-31T07:12:30.129Z"
   },
   {
    "duration": 21,
    "start_time": "2023-01-31T07:12:30.161Z"
   },
   {
    "duration": 208,
    "start_time": "2023-01-31T07:12:30.184Z"
   },
   {
    "duration": 11,
    "start_time": "2023-01-31T07:12:30.394Z"
   },
   {
    "duration": 208,
    "start_time": "2023-01-31T07:12:30.406Z"
   },
   {
    "duration": 31,
    "start_time": "2023-01-31T07:12:30.618Z"
   },
   {
    "duration": 40,
    "start_time": "2023-01-31T07:12:30.651Z"
   },
   {
    "duration": 205,
    "start_time": "2023-01-31T07:12:30.693Z"
   },
   {
    "duration": 9,
    "start_time": "2023-01-31T07:12:30.900Z"
   },
   {
    "duration": 317,
    "start_time": "2023-01-31T07:12:30.911Z"
   },
   {
    "duration": 16,
    "start_time": "2023-01-31T08:40:13.197Z"
   },
   {
    "duration": 6,
    "start_time": "2023-01-31T08:43:01.554Z"
   },
   {
    "duration": 9,
    "start_time": "2023-01-31T08:43:14.567Z"
   },
   {
    "duration": 15,
    "start_time": "2023-01-31T08:43:32.845Z"
   },
   {
    "duration": 13,
    "start_time": "2023-01-31T08:43:37.824Z"
   },
   {
    "duration": 10,
    "start_time": "2023-01-31T08:43:51.124Z"
   },
   {
    "duration": 12,
    "start_time": "2023-01-31T08:43:53.470Z"
   },
   {
    "duration": 3,
    "start_time": "2023-01-31T08:43:58.685Z"
   },
   {
    "duration": 11,
    "start_time": "2023-01-31T08:43:58.690Z"
   },
   {
    "duration": 10,
    "start_time": "2023-01-31T08:43:58.704Z"
   },
   {
    "duration": 80,
    "start_time": "2023-01-31T08:43:58.717Z"
   },
   {
    "duration": 234,
    "start_time": "2023-01-31T08:43:58.799Z"
   },
   {
    "duration": 14,
    "start_time": "2023-01-31T08:43:59.035Z"
   },
   {
    "duration": 14,
    "start_time": "2023-01-31T08:43:59.051Z"
   },
   {
    "duration": 27,
    "start_time": "2023-01-31T08:43:59.067Z"
   },
   {
    "duration": 10,
    "start_time": "2023-01-31T08:43:59.096Z"
   },
   {
    "duration": 19,
    "start_time": "2023-01-31T08:43:59.107Z"
   },
   {
    "duration": 188,
    "start_time": "2023-01-31T08:43:59.128Z"
   },
   {
    "duration": 10,
    "start_time": "2023-01-31T08:43:59.318Z"
   },
   {
    "duration": 202,
    "start_time": "2023-01-31T08:43:59.330Z"
   },
   {
    "duration": 27,
    "start_time": "2023-01-31T08:43:59.534Z"
   },
   {
    "duration": 40,
    "start_time": "2023-01-31T08:43:59.563Z"
   },
   {
    "duration": 221,
    "start_time": "2023-01-31T08:43:59.604Z"
   },
   {
    "duration": 8,
    "start_time": "2023-01-31T08:43:59.827Z"
   },
   {
    "duration": 276,
    "start_time": "2023-01-31T08:43:59.837Z"
   },
   {
    "duration": 11,
    "start_time": "2023-01-31T08:44:01.731Z"
   },
   {
    "duration": 11,
    "start_time": "2023-01-31T08:44:03.528Z"
   },
   {
    "duration": 14,
    "start_time": "2023-01-31T08:44:05.429Z"
   },
   {
    "duration": 6,
    "start_time": "2023-01-31T08:44:58.976Z"
   },
   {
    "duration": 12,
    "start_time": "2023-01-31T08:49:23.368Z"
   },
   {
    "duration": 5,
    "start_time": "2023-01-31T08:49:48.107Z"
   },
   {
    "duration": 6,
    "start_time": "2023-01-31T08:49:52.004Z"
   },
   {
    "duration": 387,
    "start_time": "2023-01-31T08:52:55.605Z"
   },
   {
    "duration": 7,
    "start_time": "2023-01-31T08:56:22.824Z"
   },
   {
    "duration": 7,
    "start_time": "2023-01-31T08:56:38.412Z"
   },
   {
    "duration": 385,
    "start_time": "2023-01-31T08:56:57.172Z"
   },
   {
    "duration": 234,
    "start_time": "2023-01-31T08:57:10.810Z"
   },
   {
    "duration": 9,
    "start_time": "2023-01-31T08:57:49.825Z"
   },
   {
    "duration": 8,
    "start_time": "2023-01-31T08:58:04.237Z"
   },
   {
    "duration": 8,
    "start_time": "2023-01-31T08:58:11.544Z"
   },
   {
    "duration": 10,
    "start_time": "2023-01-31T09:02:03.308Z"
   },
   {
    "duration": 8,
    "start_time": "2023-01-31T09:02:06.882Z"
   },
   {
    "duration": 6,
    "start_time": "2023-01-31T09:02:18.776Z"
   },
   {
    "duration": 4,
    "start_time": "2023-01-31T09:02:38.274Z"
   },
   {
    "duration": 13,
    "start_time": "2023-01-31T09:05:53.327Z"
   },
   {
    "duration": 8,
    "start_time": "2023-01-31T09:06:49.753Z"
   },
   {
    "duration": 6,
    "start_time": "2023-01-31T09:06:59.247Z"
   },
   {
    "duration": 18,
    "start_time": "2023-01-31T09:07:32.723Z"
   },
   {
    "duration": 13,
    "start_time": "2023-01-31T09:07:41.825Z"
   },
   {
    "duration": 13,
    "start_time": "2023-01-31T09:07:57.493Z"
   },
   {
    "duration": 14,
    "start_time": "2023-01-31T09:08:27.432Z"
   },
   {
    "duration": 7,
    "start_time": "2023-01-31T09:08:55.092Z"
   },
   {
    "duration": 7,
    "start_time": "2023-01-31T09:08:58.701Z"
   },
   {
    "duration": 3,
    "start_time": "2023-01-31T09:11:32.672Z"
   },
   {
    "duration": 8,
    "start_time": "2023-01-31T09:11:32.678Z"
   },
   {
    "duration": 7,
    "start_time": "2023-01-31T09:11:32.687Z"
   },
   {
    "duration": 77,
    "start_time": "2023-01-31T09:11:32.697Z"
   },
   {
    "duration": 109,
    "start_time": "2023-01-31T09:11:32.776Z"
   },
   {
    "duration": 12,
    "start_time": "2023-01-31T09:11:32.887Z"
   },
   {
    "duration": 12,
    "start_time": "2023-01-31T09:11:32.901Z"
   },
   {
    "duration": 20,
    "start_time": "2023-01-31T09:11:32.915Z"
   },
   {
    "duration": 7,
    "start_time": "2023-01-31T09:11:32.937Z"
   },
   {
    "duration": 10,
    "start_time": "2023-01-31T09:11:32.945Z"
   },
   {
    "duration": 197,
    "start_time": "2023-01-31T09:11:32.956Z"
   },
   {
    "duration": 10,
    "start_time": "2023-01-31T09:11:33.155Z"
   },
   {
    "duration": 192,
    "start_time": "2023-01-31T09:11:33.166Z"
   },
   {
    "duration": 39,
    "start_time": "2023-01-31T09:11:33.361Z"
   },
   {
    "duration": 9,
    "start_time": "2023-01-31T09:11:33.402Z"
   },
   {
    "duration": 188,
    "start_time": "2023-01-31T09:11:33.412Z"
   },
   {
    "duration": 8,
    "start_time": "2023-01-31T09:11:33.602Z"
   },
   {
    "duration": 185,
    "start_time": "2023-01-31T09:11:33.612Z"
   },
   {
    "duration": 4,
    "start_time": "2023-01-31T09:11:33.798Z"
   },
   {
    "duration": 44,
    "start_time": "2023-01-31T09:11:33.804Z"
   },
   {
    "duration": 20,
    "start_time": "2023-01-31T09:11:33.850Z"
   },
   {
    "duration": 29,
    "start_time": "2023-01-31T09:11:33.872Z"
   },
   {
    "duration": 27,
    "start_time": "2023-01-31T09:11:33.903Z"
   },
   {
    "duration": 18,
    "start_time": "2023-01-31T09:11:33.933Z"
   },
   {
    "duration": 35,
    "start_time": "2023-01-31T09:11:33.953Z"
   },
   {
    "duration": 11,
    "start_time": "2023-01-31T09:15:23.880Z"
   },
   {
    "duration": 24,
    "start_time": "2023-01-31T09:15:28.910Z"
   },
   {
    "duration": 138,
    "start_time": "2023-01-31T09:16:10.755Z"
   },
   {
    "duration": 142,
    "start_time": "2023-01-31T09:18:10.071Z"
   },
   {
    "duration": 173,
    "start_time": "2023-01-31T09:20:28.469Z"
   },
   {
    "duration": 197,
    "start_time": "2023-01-31T09:20:33.498Z"
   },
   {
    "duration": 171,
    "start_time": "2023-01-31T09:20:57.631Z"
   },
   {
    "duration": 157,
    "start_time": "2023-01-31T09:21:05.644Z"
   },
   {
    "duration": 175,
    "start_time": "2023-01-31T09:21:21.325Z"
   },
   {
    "duration": 184,
    "start_time": "2023-01-31T09:21:29.087Z"
   },
   {
    "duration": 182,
    "start_time": "2023-01-31T09:24:48.555Z"
   },
   {
    "duration": 265,
    "start_time": "2023-01-31T09:25:09.825Z"
   },
   {
    "duration": 158,
    "start_time": "2023-01-31T09:25:17.401Z"
   },
   {
    "duration": 178,
    "start_time": "2023-01-31T09:25:22.292Z"
   },
   {
    "duration": 143,
    "start_time": "2023-01-31T09:25:32.516Z"
   },
   {
    "duration": 145,
    "start_time": "2023-01-31T09:25:39.793Z"
   },
   {
    "duration": 175,
    "start_time": "2023-01-31T09:25:46.000Z"
   },
   {
    "duration": 173,
    "start_time": "2023-01-31T09:25:57.302Z"
   },
   {
    "duration": 138,
    "start_time": "2023-01-31T09:26:30.233Z"
   },
   {
    "duration": 174,
    "start_time": "2023-01-31T09:26:33.252Z"
   },
   {
    "duration": 161,
    "start_time": "2023-01-31T09:26:44.431Z"
   },
   {
    "duration": 176,
    "start_time": "2023-01-31T09:27:12.130Z"
   },
   {
    "duration": 164,
    "start_time": "2023-01-31T09:27:14.838Z"
   },
   {
    "duration": 563,
    "start_time": "2023-01-31T09:27:22.506Z"
   },
   {
    "duration": 200,
    "start_time": "2023-01-31T09:27:27.777Z"
   },
   {
    "duration": 206,
    "start_time": "2023-01-31T09:27:34.195Z"
   },
   {
    "duration": 214,
    "start_time": "2023-01-31T09:27:40.974Z"
   },
   {
    "duration": 276,
    "start_time": "2023-01-31T09:27:49.820Z"
   },
   {
    "duration": 262,
    "start_time": "2023-01-31T09:28:00.979Z"
   },
   {
    "duration": 212,
    "start_time": "2023-01-31T09:28:07.395Z"
   },
   {
    "duration": 209,
    "start_time": "2023-01-31T09:28:12.433Z"
   },
   {
    "duration": 225,
    "start_time": "2023-01-31T09:28:20.783Z"
   },
   {
    "duration": 194,
    "start_time": "2023-01-31T09:28:38.010Z"
   },
   {
    "duration": 218,
    "start_time": "2023-01-31T09:28:49.863Z"
   },
   {
    "duration": 206,
    "start_time": "2023-01-31T09:28:57.813Z"
   },
   {
    "duration": 227,
    "start_time": "2023-01-31T09:29:09.810Z"
   },
   {
    "duration": 224,
    "start_time": "2023-01-31T09:29:12.590Z"
   },
   {
    "duration": 212,
    "start_time": "2023-01-31T09:29:23.174Z"
   },
   {
    "duration": 200,
    "start_time": "2023-01-31T09:29:48.199Z"
   },
   {
    "duration": 251,
    "start_time": "2023-01-31T09:29:51.752Z"
   },
   {
    "duration": 204,
    "start_time": "2023-01-31T09:29:57.158Z"
   },
   {
    "duration": 229,
    "start_time": "2023-01-31T09:30:02.063Z"
   },
   {
    "duration": 5,
    "start_time": "2023-01-31T09:42:35.369Z"
   },
   {
    "duration": 20,
    "start_time": "2023-01-31T09:42:37.622Z"
   },
   {
    "duration": 213,
    "start_time": "2023-01-31T09:54:26.801Z"
   },
   {
    "duration": 216,
    "start_time": "2023-01-31T09:54:34.650Z"
   },
   {
    "duration": 188,
    "start_time": "2023-01-31T09:55:14.898Z"
   },
   {
    "duration": 212,
    "start_time": "2023-01-31T09:55:16.078Z"
   },
   {
    "duration": 214,
    "start_time": "2023-01-31T09:55:25.919Z"
   },
   {
    "duration": 214,
    "start_time": "2023-01-31T09:56:29.229Z"
   },
   {
    "duration": 235,
    "start_time": "2023-01-31T09:56:33.307Z"
   },
   {
    "duration": 217,
    "start_time": "2023-01-31T09:56:45.260Z"
   },
   {
    "duration": 635,
    "start_time": "2023-01-31T09:57:11.903Z"
   },
   {
    "duration": 4,
    "start_time": "2023-01-31T09:57:32.039Z"
   },
   {
    "duration": 21,
    "start_time": "2023-01-31T09:57:32.046Z"
   },
   {
    "duration": 9,
    "start_time": "2023-01-31T09:57:32.069Z"
   },
   {
    "duration": 98,
    "start_time": "2023-01-31T09:57:32.080Z"
   },
   {
    "duration": 91,
    "start_time": "2023-01-31T09:57:32.180Z"
   },
   {
    "duration": 13,
    "start_time": "2023-01-31T09:57:32.273Z"
   },
   {
    "duration": 31,
    "start_time": "2023-01-31T09:57:32.287Z"
   },
   {
    "duration": 21,
    "start_time": "2023-01-31T09:57:32.320Z"
   },
   {
    "duration": 19,
    "start_time": "2023-01-31T09:57:32.343Z"
   },
   {
    "duration": 36,
    "start_time": "2023-01-31T09:57:32.364Z"
   },
   {
    "duration": 177,
    "start_time": "2023-01-31T09:57:32.401Z"
   },
   {
    "duration": 13,
    "start_time": "2023-01-31T09:57:32.579Z"
   },
   {
    "duration": 194,
    "start_time": "2023-01-31T09:57:32.594Z"
   },
   {
    "duration": 27,
    "start_time": "2023-01-31T09:57:32.790Z"
   },
   {
    "duration": 19,
    "start_time": "2023-01-31T09:57:32.819Z"
   },
   {
    "duration": 187,
    "start_time": "2023-01-31T09:57:32.840Z"
   },
   {
    "duration": 7,
    "start_time": "2023-01-31T09:57:33.028Z"
   },
   {
    "duration": 193,
    "start_time": "2023-01-31T09:57:33.037Z"
   },
   {
    "duration": 5,
    "start_time": "2023-01-31T09:57:33.232Z"
   },
   {
    "duration": 21,
    "start_time": "2023-01-31T09:57:33.239Z"
   },
   {
    "duration": 33,
    "start_time": "2023-01-31T09:57:33.262Z"
   },
   {
    "duration": 228,
    "start_time": "2023-01-31T09:57:33.297Z"
   },
   {
    "duration": 222,
    "start_time": "2023-01-31T09:57:53.537Z"
   },
   {
    "duration": 260,
    "start_time": "2023-01-31T10:00:11.221Z"
   },
   {
    "duration": 195,
    "start_time": "2023-01-31T10:01:13.405Z"
   },
   {
    "duration": 182,
    "start_time": "2023-01-31T10:01:20.341Z"
   },
   {
    "duration": 183,
    "start_time": "2023-01-31T10:01:36.459Z"
   },
   {
    "duration": 198,
    "start_time": "2023-01-31T10:01:43.431Z"
   },
   {
    "duration": 220,
    "start_time": "2023-01-31T10:01:50.147Z"
   },
   {
    "duration": 222,
    "start_time": "2023-01-31T10:01:59.963Z"
   },
   {
    "duration": 237,
    "start_time": "2023-01-31T10:02:03.405Z"
   },
   {
    "duration": 190,
    "start_time": "2023-01-31T10:02:08.396Z"
   },
   {
    "duration": 175,
    "start_time": "2023-01-31T10:02:13.747Z"
   },
   {
    "duration": 4,
    "start_time": "2023-01-31T10:02:18.126Z"
   },
   {
    "duration": 6,
    "start_time": "2023-01-31T10:02:18.132Z"
   },
   {
    "duration": 7,
    "start_time": "2023-01-31T10:02:18.140Z"
   },
   {
    "duration": 86,
    "start_time": "2023-01-31T10:02:18.149Z"
   },
   {
    "duration": 475,
    "start_time": "2023-01-31T10:02:18.237Z"
   },
   {
    "duration": 14,
    "start_time": "2023-01-31T10:02:18.714Z"
   },
   {
    "duration": 17,
    "start_time": "2023-01-31T10:02:18.730Z"
   },
   {
    "duration": 34,
    "start_time": "2023-01-31T10:02:18.749Z"
   },
   {
    "duration": 8,
    "start_time": "2023-01-31T10:02:18.786Z"
   },
   {
    "duration": 20,
    "start_time": "2023-01-31T10:02:18.796Z"
   },
   {
    "duration": 192,
    "start_time": "2023-01-31T10:02:18.818Z"
   },
   {
    "duration": 12,
    "start_time": "2023-01-31T10:02:19.013Z"
   },
   {
    "duration": 218,
    "start_time": "2023-01-31T10:02:19.027Z"
   },
   {
    "duration": 41,
    "start_time": "2023-01-31T10:02:19.247Z"
   },
   {
    "duration": 10,
    "start_time": "2023-01-31T10:02:19.289Z"
   },
   {
    "duration": 197,
    "start_time": "2023-01-31T10:02:19.300Z"
   },
   {
    "duration": 8,
    "start_time": "2023-01-31T10:02:19.499Z"
   },
   {
    "duration": 242,
    "start_time": "2023-01-31T10:02:19.510Z"
   },
   {
    "duration": 5,
    "start_time": "2023-01-31T10:02:19.754Z"
   },
   {
    "duration": 13,
    "start_time": "2023-01-31T10:02:19.761Z"
   },
   {
    "duration": 16,
    "start_time": "2023-01-31T10:02:19.785Z"
   },
   {
    "duration": 257,
    "start_time": "2023-01-31T10:02:19.803Z"
   },
   {
    "duration": 18,
    "start_time": "2023-01-31T10:10:01.030Z"
   },
   {
    "duration": 13,
    "start_time": "2023-01-31T10:10:05.463Z"
   },
   {
    "duration": 51,
    "start_time": "2023-01-31T10:11:04.519Z"
   },
   {
    "duration": 50,
    "start_time": "2023-01-31T10:11:13.283Z"
   },
   {
    "duration": 37,
    "start_time": "2023-01-31T10:11:24.839Z"
   },
   {
    "duration": 43,
    "start_time": "2023-01-31T10:11:27.526Z"
   },
   {
    "duration": 7,
    "start_time": "2023-01-31T10:19:52.366Z"
   },
   {
    "duration": 11,
    "start_time": "2023-01-31T10:20:29.913Z"
   },
   {
    "duration": 9,
    "start_time": "2023-01-31T10:20:41.585Z"
   },
   {
    "duration": 11,
    "start_time": "2023-01-31T10:23:18.422Z"
   },
   {
    "duration": 11,
    "start_time": "2023-01-31T10:23:23.535Z"
   },
   {
    "duration": 0,
    "start_time": "2023-01-31T10:23:23.548Z"
   },
   {
    "duration": 0,
    "start_time": "2023-01-31T10:23:23.549Z"
   },
   {
    "duration": 0,
    "start_time": "2023-01-31T10:23:23.551Z"
   },
   {
    "duration": 0,
    "start_time": "2023-01-31T10:23:23.553Z"
   },
   {
    "duration": 0,
    "start_time": "2023-01-31T10:23:23.555Z"
   },
   {
    "duration": 16,
    "start_time": "2023-01-31T10:23:23.557Z"
   },
   {
    "duration": 16,
    "start_time": "2023-01-31T10:23:23.575Z"
   },
   {
    "duration": 11,
    "start_time": "2023-01-31T10:23:23.593Z"
   },
   {
    "duration": 14,
    "start_time": "2023-01-31T10:23:23.606Z"
   },
   {
    "duration": 180,
    "start_time": "2023-01-31T10:23:23.621Z"
   },
   {
    "duration": 10,
    "start_time": "2023-01-31T10:23:23.802Z"
   },
   {
    "duration": 190,
    "start_time": "2023-01-31T10:23:23.814Z"
   },
   {
    "duration": 26,
    "start_time": "2023-01-31T10:23:24.006Z"
   },
   {
    "duration": 7,
    "start_time": "2023-01-31T10:23:24.034Z"
   },
   {
    "duration": 162,
    "start_time": "2023-01-31T10:23:24.043Z"
   },
   {
    "duration": 0,
    "start_time": "2023-01-31T10:23:24.207Z"
   },
   {
    "duration": 0,
    "start_time": "2023-01-31T10:23:24.208Z"
   },
   {
    "duration": 0,
    "start_time": "2023-01-31T10:23:24.209Z"
   },
   {
    "duration": 0,
    "start_time": "2023-01-31T10:23:24.212Z"
   },
   {
    "duration": 0,
    "start_time": "2023-01-31T10:23:24.213Z"
   },
   {
    "duration": 0,
    "start_time": "2023-01-31T10:23:24.214Z"
   },
   {
    "duration": 0,
    "start_time": "2023-01-31T10:23:24.216Z"
   },
   {
    "duration": 0,
    "start_time": "2023-01-31T10:23:24.217Z"
   },
   {
    "duration": 0,
    "start_time": "2023-01-31T10:23:24.218Z"
   },
   {
    "duration": 0,
    "start_time": "2023-01-31T10:23:24.219Z"
   },
   {
    "duration": 3308,
    "start_time": "2023-01-31T10:24:25.830Z"
   },
   {
    "duration": 2185,
    "start_time": "2023-01-31T10:24:33.382Z"
   },
   {
    "duration": 4,
    "start_time": "2023-01-31T10:24:35.569Z"
   },
   {
    "duration": 11,
    "start_time": "2023-01-31T10:24:35.575Z"
   },
   {
    "duration": 97,
    "start_time": "2023-01-31T10:24:35.588Z"
   },
   {
    "duration": 100,
    "start_time": "2023-01-31T10:24:35.687Z"
   },
   {
    "duration": 14,
    "start_time": "2023-01-31T10:24:35.788Z"
   },
   {
    "duration": 17,
    "start_time": "2023-01-31T10:24:35.804Z"
   },
   {
    "duration": 14,
    "start_time": "2023-01-31T10:24:35.823Z"
   },
   {
    "duration": 8,
    "start_time": "2023-01-31T10:24:35.839Z"
   },
   {
    "duration": 36,
    "start_time": "2023-01-31T10:24:35.849Z"
   },
   {
    "duration": 180,
    "start_time": "2023-01-31T10:24:35.887Z"
   },
   {
    "duration": 17,
    "start_time": "2023-01-31T10:24:36.070Z"
   },
   {
    "duration": 187,
    "start_time": "2023-01-31T10:24:36.089Z"
   },
   {
    "duration": 27,
    "start_time": "2023-01-31T10:24:36.283Z"
   },
   {
    "duration": 9,
    "start_time": "2023-01-31T10:24:36.312Z"
   },
   {
    "duration": 197,
    "start_time": "2023-01-31T10:24:36.322Z"
   },
   {
    "duration": 7,
    "start_time": "2023-01-31T10:24:36.521Z"
   },
   {
    "duration": 188,
    "start_time": "2023-01-31T10:24:36.530Z"
   },
   {
    "duration": 4,
    "start_time": "2023-01-31T10:24:36.720Z"
   },
   {
    "duration": 26,
    "start_time": "2023-01-31T10:24:36.726Z"
   },
   {
    "duration": 38,
    "start_time": "2023-01-31T10:24:36.754Z"
   },
   {
    "duration": 218,
    "start_time": "2023-01-31T10:24:36.794Z"
   },
   {
    "duration": 34,
    "start_time": "2023-01-31T10:24:37.014Z"
   },
   {
    "duration": 7,
    "start_time": "2023-01-31T10:24:37.050Z"
   },
   {
    "duration": 4556,
    "start_time": "2023-01-31T10:24:37.059Z"
   },
   {
    "duration": 3,
    "start_time": "2023-01-31T10:24:41.618Z"
   },
   {
    "duration": 4407,
    "start_time": "2023-01-31T10:25:31.446Z"
   },
   {
    "duration": 3918,
    "start_time": "2023-01-31T10:27:49.992Z"
   },
   {
    "duration": 4610,
    "start_time": "2023-01-31T10:27:59.274Z"
   },
   {
    "duration": 4080,
    "start_time": "2023-01-31T10:29:01.588Z"
   },
   {
    "duration": 5019,
    "start_time": "2023-01-31T10:29:09.454Z"
   },
   {
    "duration": 354,
    "start_time": "2023-01-31T10:29:21.737Z"
   },
   {
    "duration": 218,
    "start_time": "2023-01-31T10:29:25.734Z"
   },
   {
    "duration": 377,
    "start_time": "2023-01-31T10:29:35.207Z"
   },
   {
    "duration": 214,
    "start_time": "2023-01-31T10:29:36.070Z"
   },
   {
    "duration": 856,
    "start_time": "2023-01-31T10:30:54.201Z"
   },
   {
    "duration": 2311,
    "start_time": "2023-01-31T10:31:00.549Z"
   },
   {
    "duration": 4,
    "start_time": "2023-01-31T10:31:02.862Z"
   },
   {
    "duration": 10,
    "start_time": "2023-01-31T10:31:02.868Z"
   },
   {
    "duration": 88,
    "start_time": "2023-01-31T10:31:02.880Z"
   },
   {
    "duration": 111,
    "start_time": "2023-01-31T10:31:02.970Z"
   },
   {
    "duration": 16,
    "start_time": "2023-01-31T10:31:03.083Z"
   },
   {
    "duration": 18,
    "start_time": "2023-01-31T10:31:03.100Z"
   },
   {
    "duration": 23,
    "start_time": "2023-01-31T10:31:03.120Z"
   },
   {
    "duration": 8,
    "start_time": "2023-01-31T10:31:03.145Z"
   },
   {
    "duration": 34,
    "start_time": "2023-01-31T10:31:03.155Z"
   },
   {
    "duration": 190,
    "start_time": "2023-01-31T10:31:03.191Z"
   },
   {
    "duration": 10,
    "start_time": "2023-01-31T10:31:03.383Z"
   },
   {
    "duration": 209,
    "start_time": "2023-01-31T10:31:03.395Z"
   },
   {
    "duration": 34,
    "start_time": "2023-01-31T10:31:03.606Z"
   },
   {
    "duration": 10,
    "start_time": "2023-01-31T10:31:03.642Z"
   },
   {
    "duration": 204,
    "start_time": "2023-01-31T10:31:03.654Z"
   },
   {
    "duration": 8,
    "start_time": "2023-01-31T10:31:03.860Z"
   },
   {
    "duration": 391,
    "start_time": "2023-01-31T10:31:03.869Z"
   },
   {
    "duration": 4,
    "start_time": "2023-01-31T10:31:04.262Z"
   },
   {
    "duration": 19,
    "start_time": "2023-01-31T10:31:04.268Z"
   },
   {
    "duration": 14,
    "start_time": "2023-01-31T10:31:04.289Z"
   },
   {
    "duration": 355,
    "start_time": "2023-01-31T10:31:04.305Z"
   },
   {
    "duration": 229,
    "start_time": "2023-01-31T10:31:04.662Z"
   },
   {
    "duration": 50,
    "start_time": "2023-01-31T10:31:04.893Z"
   },
   {
    "duration": 11,
    "start_time": "2023-01-31T10:31:04.946Z"
   },
   {
    "duration": 4398,
    "start_time": "2023-01-31T10:31:04.958Z"
   },
   {
    "duration": 2,
    "start_time": "2023-01-31T10:31:09.358Z"
   },
   {
    "duration": 2216,
    "start_time": "2023-01-31T10:31:13.199Z"
   },
   {
    "duration": 4,
    "start_time": "2023-01-31T10:31:15.417Z"
   },
   {
    "duration": 13,
    "start_time": "2023-01-31T10:31:15.423Z"
   },
   {
    "duration": 91,
    "start_time": "2023-01-31T10:31:15.438Z"
   },
   {
    "duration": 143,
    "start_time": "2023-01-31T10:31:15.531Z"
   },
   {
    "duration": 16,
    "start_time": "2023-01-31T10:31:15.676Z"
   },
   {
    "duration": 20,
    "start_time": "2023-01-31T10:31:15.693Z"
   },
   {
    "duration": 20,
    "start_time": "2023-01-31T10:31:15.715Z"
   },
   {
    "duration": 9,
    "start_time": "2023-01-31T10:31:15.737Z"
   },
   {
    "duration": 13,
    "start_time": "2023-01-31T10:31:15.749Z"
   },
   {
    "duration": 208,
    "start_time": "2023-01-31T10:31:15.763Z"
   },
   {
    "duration": 18,
    "start_time": "2023-01-31T10:31:15.973Z"
   },
   {
    "duration": 213,
    "start_time": "2023-01-31T10:31:15.993Z"
   },
   {
    "duration": 29,
    "start_time": "2023-01-31T10:31:16.208Z"
   },
   {
    "duration": 11,
    "start_time": "2023-01-31T10:31:16.239Z"
   },
   {
    "duration": 204,
    "start_time": "2023-01-31T10:31:16.252Z"
   },
   {
    "duration": 7,
    "start_time": "2023-01-31T10:31:16.458Z"
   },
   {
    "duration": 401,
    "start_time": "2023-01-31T10:31:16.467Z"
   },
   {
    "duration": 16,
    "start_time": "2023-01-31T10:31:16.870Z"
   },
   {
    "duration": 15,
    "start_time": "2023-01-31T10:31:16.888Z"
   },
   {
    "duration": 23,
    "start_time": "2023-01-31T10:31:16.905Z"
   },
   {
    "duration": 335,
    "start_time": "2023-01-31T10:31:16.930Z"
   },
   {
    "duration": 219,
    "start_time": "2023-01-31T10:31:17.267Z"
   },
   {
    "duration": 38,
    "start_time": "2023-01-31T10:31:17.488Z"
   },
   {
    "duration": 11,
    "start_time": "2023-01-31T10:31:17.528Z"
   },
   {
    "duration": 4998,
    "start_time": "2023-01-31T10:31:17.541Z"
   },
   {
    "duration": 3,
    "start_time": "2023-01-31T10:31:22.541Z"
   },
   {
    "duration": 952,
    "start_time": "2023-01-31T10:31:27.839Z"
   },
   {
    "duration": 2297,
    "start_time": "2023-01-31T10:31:29.967Z"
   },
   {
    "duration": 4,
    "start_time": "2023-01-31T10:31:32.266Z"
   },
   {
    "duration": 13,
    "start_time": "2023-01-31T10:31:32.272Z"
   },
   {
    "duration": 71,
    "start_time": "2023-01-31T10:31:32.287Z"
   },
   {
    "duration": 122,
    "start_time": "2023-01-31T10:31:32.360Z"
   },
   {
    "duration": 17,
    "start_time": "2023-01-31T10:31:32.483Z"
   },
   {
    "duration": 14,
    "start_time": "2023-01-31T10:31:32.502Z"
   },
   {
    "duration": 15,
    "start_time": "2023-01-31T10:31:32.518Z"
   },
   {
    "duration": 9,
    "start_time": "2023-01-31T10:31:32.535Z"
   },
   {
    "duration": 12,
    "start_time": "2023-01-31T10:31:32.583Z"
   },
   {
    "duration": 193,
    "start_time": "2023-01-31T10:31:32.597Z"
   },
   {
    "duration": 11,
    "start_time": "2023-01-31T10:31:32.792Z"
   },
   {
    "duration": 213,
    "start_time": "2023-01-31T10:31:32.805Z"
   },
   {
    "duration": 28,
    "start_time": "2023-01-31T10:31:33.020Z"
   },
   {
    "duration": 9,
    "start_time": "2023-01-31T10:31:33.050Z"
   },
   {
    "duration": 395,
    "start_time": "2023-01-31T10:31:33.061Z"
   },
   {
    "duration": 7,
    "start_time": "2023-01-31T10:31:33.458Z"
   },
   {
    "duration": 377,
    "start_time": "2023-01-31T10:31:33.467Z"
   },
   {
    "duration": 4,
    "start_time": "2023-01-31T10:31:33.846Z"
   },
   {
    "duration": 14,
    "start_time": "2023-01-31T10:31:33.852Z"
   },
   {
    "duration": 20,
    "start_time": "2023-01-31T10:31:33.868Z"
   },
   {
    "duration": 398,
    "start_time": "2023-01-31T10:31:33.889Z"
   },
   {
    "duration": 227,
    "start_time": "2023-01-31T10:31:34.289Z"
   },
   {
    "duration": 43,
    "start_time": "2023-01-31T10:31:34.518Z"
   },
   {
    "duration": 28,
    "start_time": "2023-01-31T10:31:34.562Z"
   },
   {
    "duration": 4553,
    "start_time": "2023-01-31T10:31:34.593Z"
   },
   {
    "duration": 2,
    "start_time": "2023-01-31T10:31:39.148Z"
   },
   {
    "duration": 2250,
    "start_time": "2023-01-31T10:32:24.368Z"
   },
   {
    "duration": 5,
    "start_time": "2023-01-31T10:32:26.621Z"
   },
   {
    "duration": 41,
    "start_time": "2023-01-31T10:32:26.628Z"
   },
   {
    "duration": 113,
    "start_time": "2023-01-31T10:32:26.672Z"
   },
   {
    "duration": 114,
    "start_time": "2023-01-31T10:32:26.787Z"
   },
   {
    "duration": 15,
    "start_time": "2023-01-31T10:32:26.903Z"
   },
   {
    "duration": 29,
    "start_time": "2023-01-31T10:32:26.920Z"
   },
   {
    "duration": 24,
    "start_time": "2023-01-31T10:32:26.951Z"
   },
   {
    "duration": 51,
    "start_time": "2023-01-31T10:32:26.978Z"
   },
   {
    "duration": 31,
    "start_time": "2023-01-31T10:32:27.032Z"
   },
   {
    "duration": 421,
    "start_time": "2023-01-31T10:32:27.065Z"
   },
   {
    "duration": 10,
    "start_time": "2023-01-31T10:32:27.488Z"
   },
   {
    "duration": 359,
    "start_time": "2023-01-31T10:32:27.500Z"
   },
   {
    "duration": 44,
    "start_time": "2023-01-31T10:32:27.860Z"
   },
   {
    "duration": 9,
    "start_time": "2023-01-31T10:32:27.906Z"
   },
   {
    "duration": 323,
    "start_time": "2023-01-31T10:32:27.916Z"
   },
   {
    "duration": 7,
    "start_time": "2023-01-31T10:32:28.241Z"
   },
   {
    "duration": 314,
    "start_time": "2023-01-31T10:32:28.250Z"
   },
   {
    "duration": 4,
    "start_time": "2023-01-31T10:32:28.566Z"
   },
   {
    "duration": 60,
    "start_time": "2023-01-31T10:32:28.572Z"
   },
   {
    "duration": 41,
    "start_time": "2023-01-31T10:32:28.634Z"
   },
   {
    "duration": 385,
    "start_time": "2023-01-31T10:32:28.677Z"
   },
   {
    "duration": 344,
    "start_time": "2023-01-31T10:32:29.063Z"
   },
   {
    "duration": 39,
    "start_time": "2023-01-31T10:32:29.409Z"
   },
   {
    "duration": 19,
    "start_time": "2023-01-31T10:32:29.450Z"
   },
   {
    "duration": 5047,
    "start_time": "2023-01-31T10:32:29.470Z"
   },
   {
    "duration": 3,
    "start_time": "2023-01-31T10:32:34.519Z"
   },
   {
    "duration": 16,
    "start_time": "2023-01-31T10:33:52.352Z"
   },
   {
    "duration": 15,
    "start_time": "2023-01-31T10:33:58.691Z"
   },
   {
    "duration": 14,
    "start_time": "2023-01-31T10:34:02.496Z"
   },
   {
    "duration": 4,
    "start_time": "2023-01-31T10:34:07.167Z"
   },
   {
    "duration": 4,
    "start_time": "2023-01-31T10:35:04.638Z"
   },
   {
    "duration": 3,
    "start_time": "2023-01-31T10:35:08.810Z"
   },
   {
    "duration": 11,
    "start_time": "2023-01-31T10:35:34.335Z"
   },
   {
    "duration": 27,
    "start_time": "2023-01-31T10:39:43.112Z"
   },
   {
    "duration": 26,
    "start_time": "2023-01-31T10:40:30.364Z"
   },
   {
    "duration": 4,
    "start_time": "2023-01-31T10:40:31.756Z"
   },
   {
    "duration": 4,
    "start_time": "2023-01-31T10:44:07.421Z"
   },
   {
    "duration": 5,
    "start_time": "2023-01-31T10:49:00.026Z"
   },
   {
    "duration": 4,
    "start_time": "2023-01-31T10:49:06.660Z"
   },
   {
    "duration": 5,
    "start_time": "2023-01-31T10:49:27.700Z"
   },
   {
    "duration": 20,
    "start_time": "2023-01-31T10:49:37.875Z"
   },
   {
    "duration": 3,
    "start_time": "2023-01-31T10:49:38.069Z"
   },
   {
    "duration": 4,
    "start_time": "2023-01-31T10:49:38.465Z"
   },
   {
    "duration": 4,
    "start_time": "2023-01-31T10:49:40.270Z"
   },
   {
    "duration": 15,
    "start_time": "2023-01-31T10:49:56.344Z"
   },
   {
    "duration": 4,
    "start_time": "2023-01-31T10:49:56.549Z"
   },
   {
    "duration": 4,
    "start_time": "2023-01-31T10:49:56.974Z"
   },
   {
    "duration": 4,
    "start_time": "2023-01-31T10:49:57.805Z"
   },
   {
    "duration": 17,
    "start_time": "2023-01-31T10:50:23.463Z"
   },
   {
    "duration": 5,
    "start_time": "2023-01-31T10:50:23.789Z"
   },
   {
    "duration": 7,
    "start_time": "2023-01-31T10:50:24.883Z"
   },
   {
    "duration": 6,
    "start_time": "2023-01-31T10:50:25.241Z"
   },
   {
    "duration": 24,
    "start_time": "2023-01-31T10:52:17.682Z"
   },
   {
    "duration": 17,
    "start_time": "2023-01-31T10:52:43.135Z"
   },
   {
    "duration": 18,
    "start_time": "2023-01-31T10:52:46.556Z"
   },
   {
    "duration": 5,
    "start_time": "2023-01-31T10:52:52.656Z"
   },
   {
    "duration": 12,
    "start_time": "2023-01-31T11:05:46.831Z"
   },
   {
    "duration": 10,
    "start_time": "2023-01-31T11:05:52.474Z"
   },
   {
    "duration": 11,
    "start_time": "2023-01-31T11:05:57.106Z"
   },
   {
    "duration": 5,
    "start_time": "2023-01-31T11:05:58.302Z"
   },
   {
    "duration": 13,
    "start_time": "2023-01-31T11:06:06.560Z"
   },
   {
    "duration": 4,
    "start_time": "2023-01-31T11:06:22.117Z"
   },
   {
    "duration": 4,
    "start_time": "2023-01-31T11:06:24.201Z"
   },
   {
    "duration": 897,
    "start_time": "2023-01-31T11:06:30.653Z"
   },
   {
    "duration": 4,
    "start_time": "2023-01-31T11:06:33.417Z"
   },
   {
    "duration": 4,
    "start_time": "2023-01-31T11:06:59.044Z"
   },
   {
    "duration": 4,
    "start_time": "2023-01-31T11:07:07.187Z"
   },
   {
    "duration": 11,
    "start_time": "2023-01-31T11:07:12.128Z"
   },
   {
    "duration": 6,
    "start_time": "2023-01-31T11:07:16.377Z"
   },
   {
    "duration": 6,
    "start_time": "2023-01-31T11:07:21.549Z"
   },
   {
    "duration": 4,
    "start_time": "2023-01-31T11:07:24.625Z"
   },
   {
    "duration": 4,
    "start_time": "2023-01-31T11:07:37.240Z"
   },
   {
    "duration": 3,
    "start_time": "2023-01-31T11:07:41.062Z"
   },
   {
    "duration": 5,
    "start_time": "2023-01-31T11:07:43.384Z"
   },
   {
    "duration": 4,
    "start_time": "2023-01-31T11:07:53.136Z"
   },
   {
    "duration": 4,
    "start_time": "2023-01-31T11:07:55.265Z"
   },
   {
    "duration": 4,
    "start_time": "2023-01-31T11:07:57.745Z"
   },
   {
    "duration": 10,
    "start_time": "2023-01-31T11:08:08.566Z"
   },
   {
    "duration": 6,
    "start_time": "2023-01-31T11:08:09.862Z"
   },
   {
    "duration": 8,
    "start_time": "2023-01-31T11:08:58.415Z"
   },
   {
    "duration": 5,
    "start_time": "2023-01-31T11:09:05.032Z"
   },
   {
    "duration": 13,
    "start_time": "2023-01-31T11:09:09.791Z"
   },
   {
    "duration": 6,
    "start_time": "2023-01-31T11:09:13.639Z"
   },
   {
    "duration": 10,
    "start_time": "2023-01-31T11:09:22.988Z"
   },
   {
    "duration": 9,
    "start_time": "2023-01-31T11:09:41.195Z"
   },
   {
    "duration": 4,
    "start_time": "2023-01-31T11:10:06.361Z"
   },
   {
    "duration": 23,
    "start_time": "2023-01-31T11:14:12.052Z"
   },
   {
    "duration": 4,
    "start_time": "2023-01-31T11:14:51.933Z"
   },
   {
    "duration": 23,
    "start_time": "2023-01-31T11:14:53.566Z"
   },
   {
    "duration": 4,
    "start_time": "2023-01-31T11:15:36.391Z"
   },
   {
    "duration": 4,
    "start_time": "2023-01-31T11:15:38.184Z"
   },
   {
    "duration": 4,
    "start_time": "2023-01-31T11:15:42.943Z"
   },
   {
    "duration": 5,
    "start_time": "2023-01-31T11:20:32.477Z"
   },
   {
    "duration": 4,
    "start_time": "2023-01-31T11:20:53.654Z"
   },
   {
    "duration": 4,
    "start_time": "2023-01-31T11:20:56.356Z"
   },
   {
    "duration": 2466,
    "start_time": "2023-01-31T11:21:34.741Z"
   },
   {
    "duration": 2432,
    "start_time": "2023-01-31T11:21:44.156Z"
   },
   {
    "duration": 17,
    "start_time": "2023-01-31T11:25:27.862Z"
   },
   {
    "duration": 224,
    "start_time": "2023-01-31T11:26:10.297Z"
   },
   {
    "duration": 19,
    "start_time": "2023-01-31T11:26:37.512Z"
   },
   {
    "duration": 52,
    "start_time": "2023-01-31T11:27:13.815Z"
   },
   {
    "duration": 16,
    "start_time": "2023-01-31T11:27:16.301Z"
   },
   {
    "duration": 7,
    "start_time": "2023-01-31T11:27:41.030Z"
   },
   {
    "duration": 7,
    "start_time": "2023-01-31T11:27:45.432Z"
   },
   {
    "duration": 9,
    "start_time": "2023-01-31T11:28:05.393Z"
   },
   {
    "duration": 4,
    "start_time": "2023-01-31T11:28:43.401Z"
   },
   {
    "duration": 15,
    "start_time": "2023-01-31T11:29:37.870Z"
   },
   {
    "duration": 8,
    "start_time": "2023-01-31T11:30:03.909Z"
   },
   {
    "duration": 206,
    "start_time": "2023-01-31T11:30:19.687Z"
   },
   {
    "duration": 8,
    "start_time": "2023-01-31T11:30:58.383Z"
   },
   {
    "duration": 14,
    "start_time": "2023-01-31T11:30:59.054Z"
   },
   {
    "duration": 10,
    "start_time": "2023-01-31T11:31:06.126Z"
   },
   {
    "duration": 8,
    "start_time": "2023-01-31T11:31:16.022Z"
   },
   {
    "duration": 7,
    "start_time": "2023-01-31T11:31:51.944Z"
   },
   {
    "duration": 11,
    "start_time": "2023-01-31T11:31:53.130Z"
   },
   {
    "duration": 62,
    "start_time": "2023-01-31T11:32:14.797Z"
   },
   {
    "duration": 4,
    "start_time": "2023-01-31T11:32:16.243Z"
   },
   {
    "duration": 35,
    "start_time": "2023-01-31T11:32:53.180Z"
   },
   {
    "duration": 30,
    "start_time": "2023-01-31T11:33:21.648Z"
   },
   {
    "duration": 47,
    "start_time": "2023-01-31T11:35:34.921Z"
   },
   {
    "duration": 2571,
    "start_time": "2023-01-31T11:35:42.039Z"
   },
   {
    "duration": 5,
    "start_time": "2023-01-31T11:35:44.614Z"
   },
   {
    "duration": 63,
    "start_time": "2023-01-31T11:35:44.621Z"
   },
   {
    "duration": 125,
    "start_time": "2023-01-31T11:35:44.687Z"
   },
   {
    "duration": 153,
    "start_time": "2023-01-31T11:35:44.814Z"
   },
   {
    "duration": 20,
    "start_time": "2023-01-31T11:35:44.969Z"
   },
   {
    "duration": 58,
    "start_time": "2023-01-31T11:35:44.991Z"
   },
   {
    "duration": 46,
    "start_time": "2023-01-31T11:35:45.052Z"
   },
   {
    "duration": 31,
    "start_time": "2023-01-31T11:35:45.100Z"
   },
   {
    "duration": 54,
    "start_time": "2023-01-31T11:35:45.134Z"
   },
   {
    "duration": 405,
    "start_time": "2023-01-31T11:35:45.190Z"
   },
   {
    "duration": 16,
    "start_time": "2023-01-31T11:35:45.597Z"
   },
   {
    "duration": 376,
    "start_time": "2023-01-31T11:35:45.615Z"
   },
   {
    "duration": 33,
    "start_time": "2023-01-31T11:35:45.993Z"
   },
   {
    "duration": 31,
    "start_time": "2023-01-31T11:35:46.028Z"
   },
   {
    "duration": 323,
    "start_time": "2023-01-31T11:35:46.061Z"
   },
   {
    "duration": 9,
    "start_time": "2023-01-31T11:35:46.387Z"
   },
   {
    "duration": 368,
    "start_time": "2023-01-31T11:35:46.398Z"
   },
   {
    "duration": 16,
    "start_time": "2023-01-31T11:35:46.768Z"
   },
   {
    "duration": 40,
    "start_time": "2023-01-31T11:35:46.787Z"
   },
   {
    "duration": 60,
    "start_time": "2023-01-31T11:35:46.829Z"
   },
   {
    "duration": 378,
    "start_time": "2023-01-31T11:35:46.890Z"
   },
   {
    "duration": 58,
    "start_time": "2023-01-31T11:35:47.270Z"
   },
   {
    "duration": 35,
    "start_time": "2023-01-31T11:35:47.330Z"
   },
   {
    "duration": 5062,
    "start_time": "2023-01-31T11:35:47.367Z"
   },
   {
    "duration": 20,
    "start_time": "2023-01-31T11:35:52.431Z"
   },
   {
    "duration": 32,
    "start_time": "2023-01-31T11:35:52.453Z"
   },
   {
    "duration": 76,
    "start_time": "2023-01-31T11:35:52.488Z"
   },
   {
    "duration": 45,
    "start_time": "2023-01-31T11:35:52.566Z"
   },
   {
    "duration": 128,
    "start_time": "2023-01-31T11:35:52.613Z"
   },
   {
    "duration": 4718,
    "start_time": "2023-01-31T11:36:02.939Z"
   },
   {
    "duration": 61,
    "start_time": "2023-01-31T11:36:24.442Z"
   },
   {
    "duration": 2414,
    "start_time": "2023-01-31T11:36:30.221Z"
   },
   {
    "duration": 3,
    "start_time": "2023-01-31T11:36:32.638Z"
   },
   {
    "duration": 20,
    "start_time": "2023-01-31T11:36:32.643Z"
   },
   {
    "duration": 85,
    "start_time": "2023-01-31T11:36:32.665Z"
   },
   {
    "duration": 141,
    "start_time": "2023-01-31T11:36:32.752Z"
   },
   {
    "duration": 19,
    "start_time": "2023-01-31T11:36:32.895Z"
   },
   {
    "duration": 22,
    "start_time": "2023-01-31T11:36:32.917Z"
   },
   {
    "duration": 36,
    "start_time": "2023-01-31T11:36:32.942Z"
   },
   {
    "duration": 12,
    "start_time": "2023-01-31T11:36:32.979Z"
   },
   {
    "duration": 34,
    "start_time": "2023-01-31T11:36:32.995Z"
   },
   {
    "duration": 435,
    "start_time": "2023-01-31T11:36:33.032Z"
   },
   {
    "duration": 21,
    "start_time": "2023-01-31T11:36:33.469Z"
   },
   {
    "duration": 324,
    "start_time": "2023-01-31T11:36:33.492Z"
   },
   {
    "duration": 30,
    "start_time": "2023-01-31T11:36:33.818Z"
   },
   {
    "duration": 17,
    "start_time": "2023-01-31T11:36:33.850Z"
   },
   {
    "duration": 350,
    "start_time": "2023-01-31T11:36:33.883Z"
   },
   {
    "duration": 10,
    "start_time": "2023-01-31T11:36:34.236Z"
   },
   {
    "duration": 359,
    "start_time": "2023-01-31T11:36:34.248Z"
   },
   {
    "duration": 4,
    "start_time": "2023-01-31T11:36:34.609Z"
   },
   {
    "duration": 21,
    "start_time": "2023-01-31T11:36:34.615Z"
   },
   {
    "duration": 29,
    "start_time": "2023-01-31T11:36:34.638Z"
   },
   {
    "duration": 381,
    "start_time": "2023-01-31T11:36:34.669Z"
   },
   {
    "duration": 60,
    "start_time": "2023-01-31T11:36:35.052Z"
   },
   {
    "duration": 13,
    "start_time": "2023-01-31T11:36:35.114Z"
   },
   {
    "duration": 5211,
    "start_time": "2023-01-31T11:36:35.129Z"
   },
   {
    "duration": 42,
    "start_time": "2023-01-31T11:36:40.342Z"
   },
   {
    "duration": 4,
    "start_time": "2023-01-31T11:36:40.387Z"
   },
   {
    "duration": 27,
    "start_time": "2023-01-31T11:36:40.396Z"
   },
   {
    "duration": 11,
    "start_time": "2023-01-31T11:36:40.426Z"
   },
   {
    "duration": 2334,
    "start_time": "2023-01-31T11:38:29.870Z"
   },
   {
    "duration": 4,
    "start_time": "2023-01-31T11:38:32.207Z"
   },
   {
    "duration": 8,
    "start_time": "2023-01-31T11:38:32.213Z"
   },
   {
    "duration": 89,
    "start_time": "2023-01-31T11:38:32.223Z"
   },
   {
    "duration": 140,
    "start_time": "2023-01-31T11:38:32.315Z"
   },
   {
    "duration": 15,
    "start_time": "2023-01-31T11:38:32.457Z"
   },
   {
    "duration": 21,
    "start_time": "2023-01-31T11:38:32.474Z"
   },
   {
    "duration": 17,
    "start_time": "2023-01-31T11:38:32.497Z"
   },
   {
    "duration": 9,
    "start_time": "2023-01-31T11:38:32.515Z"
   },
   {
    "duration": 13,
    "start_time": "2023-01-31T11:38:32.526Z"
   },
   {
    "duration": 431,
    "start_time": "2023-01-31T11:38:32.540Z"
   },
   {
    "duration": 19,
    "start_time": "2023-01-31T11:38:32.973Z"
   },
   {
    "duration": 352,
    "start_time": "2023-01-31T11:38:32.993Z"
   },
   {
    "duration": 42,
    "start_time": "2023-01-31T11:38:33.348Z"
   },
   {
    "duration": 10,
    "start_time": "2023-01-31T11:38:33.392Z"
   },
   {
    "duration": 348,
    "start_time": "2023-01-31T11:38:33.404Z"
   },
   {
    "duration": 7,
    "start_time": "2023-01-31T11:38:33.754Z"
   },
   {
    "duration": 286,
    "start_time": "2023-01-31T11:38:33.763Z"
   },
   {
    "duration": 35,
    "start_time": "2023-01-31T11:38:34.051Z"
   },
   {
    "duration": 8,
    "start_time": "2023-01-31T11:38:34.088Z"
   },
   {
    "duration": 14,
    "start_time": "2023-01-31T11:38:34.098Z"
   },
   {
    "duration": 355,
    "start_time": "2023-01-31T11:38:34.114Z"
   },
   {
    "duration": 54,
    "start_time": "2023-01-31T11:38:34.471Z"
   },
   {
    "duration": 12,
    "start_time": "2023-01-31T11:38:34.527Z"
   },
   {
    "duration": 4783,
    "start_time": "2023-01-31T11:38:34.541Z"
   },
   {
    "duration": 20,
    "start_time": "2023-01-31T11:38:39.326Z"
   },
   {
    "duration": 24,
    "start_time": "2023-01-31T11:38:39.348Z"
   },
   {
    "duration": 61,
    "start_time": "2023-01-31T11:38:39.374Z"
   },
   {
    "duration": 37,
    "start_time": "2023-01-31T11:38:39.437Z"
   },
   {
    "duration": 40,
    "start_time": "2023-01-31T11:38:39.476Z"
   },
   {
    "duration": 0,
    "start_time": "2023-01-31T11:38:39.518Z"
   },
   {
    "duration": 0,
    "start_time": "2023-01-31T11:38:39.520Z"
   },
   {
    "duration": 62,
    "start_time": "2023-01-31T11:41:07.432Z"
   },
   {
    "duration": 2368,
    "start_time": "2023-01-31T11:41:09.777Z"
   },
   {
    "duration": 4,
    "start_time": "2023-01-31T11:41:12.148Z"
   },
   {
    "duration": 29,
    "start_time": "2023-01-31T11:41:12.154Z"
   },
   {
    "duration": 89,
    "start_time": "2023-01-31T11:41:12.187Z"
   },
   {
    "duration": 121,
    "start_time": "2023-01-31T11:41:12.278Z"
   },
   {
    "duration": 16,
    "start_time": "2023-01-31T11:41:12.401Z"
   },
   {
    "duration": 18,
    "start_time": "2023-01-31T11:41:12.419Z"
   },
   {
    "duration": 22,
    "start_time": "2023-01-31T11:41:12.439Z"
   },
   {
    "duration": 24,
    "start_time": "2023-01-31T11:41:12.463Z"
   },
   {
    "duration": 13,
    "start_time": "2023-01-31T11:41:12.491Z"
   },
   {
    "duration": 380,
    "start_time": "2023-01-31T11:41:12.506Z"
   },
   {
    "duration": 11,
    "start_time": "2023-01-31T11:41:12.888Z"
   },
   {
    "duration": 345,
    "start_time": "2023-01-31T11:41:12.901Z"
   },
   {
    "duration": 45,
    "start_time": "2023-01-31T11:41:13.248Z"
   },
   {
    "duration": 11,
    "start_time": "2023-01-31T11:41:13.295Z"
   },
   {
    "duration": 351,
    "start_time": "2023-01-31T11:41:13.308Z"
   },
   {
    "duration": 10,
    "start_time": "2023-01-31T11:41:13.661Z"
   },
   {
    "duration": 363,
    "start_time": "2023-01-31T11:41:13.685Z"
   },
   {
    "duration": 6,
    "start_time": "2023-01-31T11:41:14.049Z"
   },
   {
    "duration": 40,
    "start_time": "2023-01-31T11:41:14.057Z"
   },
   {
    "duration": 31,
    "start_time": "2023-01-31T11:41:14.099Z"
   },
   {
    "duration": 339,
    "start_time": "2023-01-31T11:41:14.132Z"
   },
   {
    "duration": 53,
    "start_time": "2023-01-31T11:41:14.473Z"
   },
   {
    "duration": 11,
    "start_time": "2023-01-31T11:41:14.529Z"
   },
   {
    "duration": 4547,
    "start_time": "2023-01-31T11:41:14.542Z"
   },
   {
    "duration": 19,
    "start_time": "2023-01-31T11:41:19.091Z"
   },
   {
    "duration": 4,
    "start_time": "2023-01-31T11:41:19.112Z"
   },
   {
    "duration": 20,
    "start_time": "2023-01-31T11:41:19.119Z"
   },
   {
    "duration": 11,
    "start_time": "2023-01-31T11:41:19.141Z"
   },
   {
    "duration": 89,
    "start_time": "2023-01-31T11:41:19.154Z"
   },
   {
    "duration": 16,
    "start_time": "2023-01-31T11:41:19.245Z"
   },
   {
    "duration": 2367,
    "start_time": "2023-01-31T11:41:40.171Z"
   },
   {
    "duration": 4,
    "start_time": "2023-01-31T11:41:42.541Z"
   },
   {
    "duration": 27,
    "start_time": "2023-01-31T11:41:42.546Z"
   },
   {
    "duration": 98,
    "start_time": "2023-01-31T11:41:42.575Z"
   },
   {
    "duration": 539,
    "start_time": "2023-01-31T11:41:42.675Z"
   },
   {
    "duration": 16,
    "start_time": "2023-01-31T11:41:43.216Z"
   },
   {
    "duration": 38,
    "start_time": "2023-01-31T11:41:43.235Z"
   },
   {
    "duration": 22,
    "start_time": "2023-01-31T11:41:43.275Z"
   },
   {
    "duration": 9,
    "start_time": "2023-01-31T11:41:43.299Z"
   },
   {
    "duration": 17,
    "start_time": "2023-01-31T11:41:43.312Z"
   },
   {
    "duration": 380,
    "start_time": "2023-01-31T11:41:43.331Z"
   },
   {
    "duration": 15,
    "start_time": "2023-01-31T11:41:43.714Z"
   },
   {
    "duration": 399,
    "start_time": "2023-01-31T11:41:43.732Z"
   },
   {
    "duration": 37,
    "start_time": "2023-01-31T11:41:44.133Z"
   },
   {
    "duration": 35,
    "start_time": "2023-01-31T11:41:44.172Z"
   },
   {
    "duration": 330,
    "start_time": "2023-01-31T11:41:44.209Z"
   },
   {
    "duration": 8,
    "start_time": "2023-01-31T11:41:44.541Z"
   },
   {
    "duration": 343,
    "start_time": "2023-01-31T11:41:44.551Z"
   },
   {
    "duration": 5,
    "start_time": "2023-01-31T11:41:44.895Z"
   },
   {
    "duration": 34,
    "start_time": "2023-01-31T11:41:44.901Z"
   },
   {
    "duration": 51,
    "start_time": "2023-01-31T11:41:44.937Z"
   },
   {
    "duration": 373,
    "start_time": "2023-01-31T11:41:44.990Z"
   },
   {
    "duration": 53,
    "start_time": "2023-01-31T11:41:45.365Z"
   },
   {
    "duration": 28,
    "start_time": "2023-01-31T11:41:45.419Z"
   },
   {
    "duration": 4736,
    "start_time": "2023-01-31T11:41:45.449Z"
   },
   {
    "duration": 18,
    "start_time": "2023-01-31T11:41:50.187Z"
   },
   {
    "duration": 39,
    "start_time": "2023-01-31T11:41:50.207Z"
   },
   {
    "duration": 44,
    "start_time": "2023-01-31T11:41:50.249Z"
   },
   {
    "duration": 44,
    "start_time": "2023-01-31T11:41:50.294Z"
   },
   {
    "duration": 78,
    "start_time": "2023-01-31T11:41:50.340Z"
   },
   {
    "duration": 14,
    "start_time": "2023-01-31T11:43:06.925Z"
   },
   {
    "duration": 12,
    "start_time": "2023-01-31T11:44:33.227Z"
   },
   {
    "duration": 11,
    "start_time": "2023-01-31T11:44:36.892Z"
   },
   {
    "duration": 20,
    "start_time": "2023-01-31T11:44:41.913Z"
   },
   {
    "duration": 42,
    "start_time": "2023-01-31T11:44:45.555Z"
   },
   {
    "duration": 38,
    "start_time": "2023-01-31T11:44:56.710Z"
   },
   {
    "duration": 2425,
    "start_time": "2023-01-31T11:44:58.915Z"
   },
   {
    "duration": 4,
    "start_time": "2023-01-31T11:45:01.343Z"
   },
   {
    "duration": 42,
    "start_time": "2023-01-31T11:45:01.349Z"
   },
   {
    "duration": 152,
    "start_time": "2023-01-31T11:45:01.393Z"
   },
   {
    "duration": 145,
    "start_time": "2023-01-31T11:45:01.547Z"
   },
   {
    "duration": 16,
    "start_time": "2023-01-31T11:45:01.694Z"
   },
   {
    "duration": 55,
    "start_time": "2023-01-31T11:45:01.712Z"
   },
   {
    "duration": 42,
    "start_time": "2023-01-31T11:45:01.769Z"
   },
   {
    "duration": 13,
    "start_time": "2023-01-31T11:45:01.813Z"
   },
   {
    "duration": 45,
    "start_time": "2023-01-31T11:45:01.829Z"
   },
   {
    "duration": 438,
    "start_time": "2023-01-31T11:45:01.876Z"
   },
   {
    "duration": 13,
    "start_time": "2023-01-31T11:45:02.317Z"
   },
   {
    "duration": 411,
    "start_time": "2023-01-31T11:45:02.332Z"
   },
   {
    "duration": 41,
    "start_time": "2023-01-31T11:45:02.744Z"
   },
   {
    "duration": 11,
    "start_time": "2023-01-31T11:45:02.787Z"
   },
   {
    "duration": 340,
    "start_time": "2023-01-31T11:45:02.800Z"
   },
   {
    "duration": 9,
    "start_time": "2023-01-31T11:45:03.142Z"
   },
   {
    "duration": 340,
    "start_time": "2023-01-31T11:45:03.153Z"
   },
   {
    "duration": 6,
    "start_time": "2023-01-31T11:45:03.494Z"
   },
   {
    "duration": 31,
    "start_time": "2023-01-31T11:45:03.502Z"
   },
   {
    "duration": 55,
    "start_time": "2023-01-31T11:45:03.535Z"
   },
   {
    "duration": 395,
    "start_time": "2023-01-31T11:45:03.592Z"
   },
   {
    "duration": 45,
    "start_time": "2023-01-31T11:45:03.989Z"
   },
   {
    "duration": 24,
    "start_time": "2023-01-31T11:45:04.035Z"
   },
   {
    "duration": 4545,
    "start_time": "2023-01-31T11:45:04.060Z"
   },
   {
    "duration": 19,
    "start_time": "2023-01-31T11:45:08.606Z"
   },
   {
    "duration": 13,
    "start_time": "2023-01-31T11:45:08.626Z"
   },
   {
    "duration": 19,
    "start_time": "2023-01-31T11:45:08.642Z"
   },
   {
    "duration": 34,
    "start_time": "2023-01-31T11:45:08.662Z"
   },
   {
    "duration": 29,
    "start_time": "2023-01-31T11:45:08.697Z"
   },
   {
    "duration": 65,
    "start_time": "2023-01-31T11:45:08.728Z"
   },
   {
    "duration": 19,
    "start_time": "2023-01-31T11:45:08.794Z"
   },
   {
    "duration": 54,
    "start_time": "2023-01-31T11:45:08.815Z"
   },
   {
    "duration": 14,
    "start_time": "2023-01-31T11:46:34.359Z"
   },
   {
    "duration": 15,
    "start_time": "2023-01-31T11:46:41.877Z"
   },
   {
    "duration": 2324,
    "start_time": "2023-01-31T11:46:46.163Z"
   },
   {
    "duration": 4,
    "start_time": "2023-01-31T11:46:48.490Z"
   },
   {
    "duration": 22,
    "start_time": "2023-01-31T11:46:48.497Z"
   },
   {
    "duration": 94,
    "start_time": "2023-01-31T11:46:48.522Z"
   },
   {
    "duration": 132,
    "start_time": "2023-01-31T11:46:48.618Z"
   },
   {
    "duration": 16,
    "start_time": "2023-01-31T11:46:48.752Z"
   },
   {
    "duration": 25,
    "start_time": "2023-01-31T11:46:48.770Z"
   },
   {
    "duration": 24,
    "start_time": "2023-01-31T11:46:48.797Z"
   },
   {
    "duration": 9,
    "start_time": "2023-01-31T11:46:48.823Z"
   },
   {
    "duration": 17,
    "start_time": "2023-01-31T11:46:48.835Z"
   },
   {
    "duration": 372,
    "start_time": "2023-01-31T11:46:48.854Z"
   },
   {
    "duration": 11,
    "start_time": "2023-01-31T11:46:49.229Z"
   },
   {
    "duration": 334,
    "start_time": "2023-01-31T11:46:49.242Z"
   },
   {
    "duration": 37,
    "start_time": "2023-01-31T11:46:49.584Z"
   },
   {
    "duration": 14,
    "start_time": "2023-01-31T11:46:49.624Z"
   },
   {
    "duration": 330,
    "start_time": "2023-01-31T11:46:49.640Z"
   },
   {
    "duration": 17,
    "start_time": "2023-01-31T11:46:49.972Z"
   },
   {
    "duration": 764,
    "start_time": "2023-01-31T11:46:49.991Z"
   },
   {
    "duration": 4,
    "start_time": "2023-01-31T11:46:50.757Z"
   },
   {
    "duration": 23,
    "start_time": "2023-01-31T11:46:50.763Z"
   },
   {
    "duration": 16,
    "start_time": "2023-01-31T11:46:50.788Z"
   },
   {
    "duration": 386,
    "start_time": "2023-01-31T11:46:50.806Z"
   },
   {
    "duration": 40,
    "start_time": "2023-01-31T11:46:51.194Z"
   },
   {
    "duration": 9,
    "start_time": "2023-01-31T11:46:51.236Z"
   },
   {
    "duration": 4544,
    "start_time": "2023-01-31T11:46:51.247Z"
   },
   {
    "duration": 19,
    "start_time": "2023-01-31T11:46:55.793Z"
   },
   {
    "duration": 4,
    "start_time": "2023-01-31T11:46:55.814Z"
   },
   {
    "duration": 21,
    "start_time": "2023-01-31T11:46:55.821Z"
   },
   {
    "duration": 45,
    "start_time": "2023-01-31T11:46:55.845Z"
   },
   {
    "duration": 27,
    "start_time": "2023-01-31T11:46:55.892Z"
   },
   {
    "duration": 68,
    "start_time": "2023-01-31T11:46:55.921Z"
   },
   {
    "duration": 10,
    "start_time": "2023-01-31T11:46:55.991Z"
   },
   {
    "duration": 18,
    "start_time": "2023-01-31T11:47:36.651Z"
   },
   {
    "duration": 37,
    "start_time": "2023-01-31T11:47:38.232Z"
   },
   {
    "duration": 42,
    "start_time": "2023-01-31T11:52:48.815Z"
   },
   {
    "duration": 2287,
    "start_time": "2023-01-31T11:52:52.030Z"
   },
   {
    "duration": 4,
    "start_time": "2023-01-31T11:52:54.319Z"
   },
   {
    "duration": 8,
    "start_time": "2023-01-31T11:52:54.324Z"
   },
   {
    "duration": 73,
    "start_time": "2023-01-31T11:52:54.334Z"
   },
   {
    "duration": 138,
    "start_time": "2023-01-31T11:52:54.409Z"
   },
   {
    "duration": 17,
    "start_time": "2023-01-31T11:52:54.549Z"
   },
   {
    "duration": 23,
    "start_time": "2023-01-31T11:52:54.567Z"
   },
   {
    "duration": 15,
    "start_time": "2023-01-31T11:52:54.592Z"
   },
   {
    "duration": 10,
    "start_time": "2023-01-31T11:52:54.609Z"
   },
   {
    "duration": 12,
    "start_time": "2023-01-31T11:52:54.621Z"
   },
   {
    "duration": 373,
    "start_time": "2023-01-31T11:52:54.634Z"
   },
   {
    "duration": 10,
    "start_time": "2023-01-31T11:52:55.009Z"
   },
   {
    "duration": 324,
    "start_time": "2023-01-31T11:52:55.021Z"
   },
   {
    "duration": 52,
    "start_time": "2023-01-31T11:52:55.347Z"
   },
   {
    "duration": 11,
    "start_time": "2023-01-31T11:52:55.401Z"
   },
   {
    "duration": 325,
    "start_time": "2023-01-31T11:52:55.413Z"
   },
   {
    "duration": 7,
    "start_time": "2023-01-31T11:52:55.740Z"
   },
   {
    "duration": 300,
    "start_time": "2023-01-31T11:52:55.749Z"
   },
   {
    "duration": 5,
    "start_time": "2023-01-31T11:52:56.050Z"
   },
   {
    "duration": 15,
    "start_time": "2023-01-31T11:52:56.057Z"
   },
   {
    "duration": 26,
    "start_time": "2023-01-31T11:52:56.074Z"
   },
   {
    "duration": 363,
    "start_time": "2023-01-31T11:52:56.103Z"
   },
   {
    "duration": 54,
    "start_time": "2023-01-31T11:52:56.468Z"
   },
   {
    "duration": 10,
    "start_time": "2023-01-31T11:52:56.524Z"
   },
   {
    "duration": 4608,
    "start_time": "2023-01-31T11:52:56.536Z"
   },
   {
    "duration": 20,
    "start_time": "2023-01-31T11:53:01.146Z"
   },
   {
    "duration": 48,
    "start_time": "2023-01-31T11:53:01.167Z"
   },
   {
    "duration": 46,
    "start_time": "2023-01-31T11:53:01.219Z"
   },
   {
    "duration": 27,
    "start_time": "2023-01-31T11:53:01.267Z"
   },
   {
    "duration": 64,
    "start_time": "2023-01-31T11:53:01.297Z"
   },
   {
    "duration": 97,
    "start_time": "2023-01-31T11:53:01.363Z"
   },
   {
    "duration": 62,
    "start_time": "2023-01-31T11:53:01.461Z"
   },
   {
    "duration": 52,
    "start_time": "2023-01-31T11:53:01.525Z"
   },
   {
    "duration": 56,
    "start_time": "2023-01-31T11:53:01.579Z"
   },
   {
    "duration": 2349,
    "start_time": "2023-01-31T11:53:16.205Z"
   },
   {
    "duration": 3,
    "start_time": "2023-01-31T11:53:18.557Z"
   },
   {
    "duration": 10,
    "start_time": "2023-01-31T11:53:18.562Z"
   },
   {
    "duration": 81,
    "start_time": "2023-01-31T11:53:18.575Z"
   },
   {
    "duration": 118,
    "start_time": "2023-01-31T11:53:18.658Z"
   },
   {
    "duration": 14,
    "start_time": "2023-01-31T11:53:18.778Z"
   },
   {
    "duration": 14,
    "start_time": "2023-01-31T11:53:18.793Z"
   },
   {
    "duration": 28,
    "start_time": "2023-01-31T11:53:18.808Z"
   },
   {
    "duration": 8,
    "start_time": "2023-01-31T11:53:18.838Z"
   },
   {
    "duration": 12,
    "start_time": "2023-01-31T11:53:18.849Z"
   },
   {
    "duration": 382,
    "start_time": "2023-01-31T11:53:18.883Z"
   },
   {
    "duration": 18,
    "start_time": "2023-01-31T11:53:19.267Z"
   },
   {
    "duration": 336,
    "start_time": "2023-01-31T11:53:19.287Z"
   },
   {
    "duration": 38,
    "start_time": "2023-01-31T11:53:19.625Z"
   },
   {
    "duration": 29,
    "start_time": "2023-01-31T11:53:19.665Z"
   },
   {
    "duration": 365,
    "start_time": "2023-01-31T11:53:19.697Z"
   },
   {
    "duration": 8,
    "start_time": "2023-01-31T11:53:20.064Z"
   },
   {
    "duration": 346,
    "start_time": "2023-01-31T11:53:20.084Z"
   },
   {
    "duration": 5,
    "start_time": "2023-01-31T11:53:20.432Z"
   },
   {
    "duration": 18,
    "start_time": "2023-01-31T11:53:20.438Z"
   },
   {
    "duration": 31,
    "start_time": "2023-01-31T11:53:20.457Z"
   },
   {
    "duration": 367,
    "start_time": "2023-01-31T11:53:20.490Z"
   },
   {
    "duration": 51,
    "start_time": "2023-01-31T11:53:20.858Z"
   },
   {
    "duration": 9,
    "start_time": "2023-01-31T11:53:20.911Z"
   },
   {
    "duration": 4872,
    "start_time": "2023-01-31T11:53:20.922Z"
   },
   {
    "duration": 20,
    "start_time": "2023-01-31T11:53:25.796Z"
   },
   {
    "duration": 15,
    "start_time": "2023-01-31T11:53:25.818Z"
   },
   {
    "duration": 28,
    "start_time": "2023-01-31T11:53:25.837Z"
   },
   {
    "duration": 34,
    "start_time": "2023-01-31T11:53:25.867Z"
   },
   {
    "duration": 32,
    "start_time": "2023-01-31T11:53:25.902Z"
   },
   {
    "duration": 66,
    "start_time": "2023-01-31T11:53:25.935Z"
   },
   {
    "duration": 10,
    "start_time": "2023-01-31T11:53:26.003Z"
   },
   {
    "duration": 18,
    "start_time": "2023-01-31T11:53:26.015Z"
   },
   {
    "duration": 34,
    "start_time": "2023-01-31T11:53:26.034Z"
   },
   {
    "duration": 25,
    "start_time": "2023-01-31T11:53:40.429Z"
   },
   {
    "duration": 2665,
    "start_time": "2023-01-31T12:41:42.303Z"
   },
   {
    "duration": 2052,
    "start_time": "2023-02-01T08:09:22.895Z"
   },
   {
    "duration": 3,
    "start_time": "2023-02-01T08:09:24.950Z"
   },
   {
    "duration": 12385,
    "start_time": "2023-02-01T08:09:24.955Z"
   },
   {
    "duration": 392,
    "start_time": "2023-02-01T08:09:37.342Z"
   },
   {
    "duration": 355,
    "start_time": "2023-02-01T08:09:37.735Z"
   },
   {
    "duration": 13,
    "start_time": "2023-02-01T08:09:38.092Z"
   },
   {
    "duration": 22,
    "start_time": "2023-02-01T08:09:38.107Z"
   },
   {
    "duration": 27,
    "start_time": "2023-02-01T08:09:38.130Z"
   },
   {
    "duration": 8,
    "start_time": "2023-02-01T08:09:38.160Z"
   },
   {
    "duration": 16,
    "start_time": "2023-02-01T08:09:38.169Z"
   },
   {
    "duration": 393,
    "start_time": "2023-02-01T08:09:38.187Z"
   },
   {
    "duration": 11,
    "start_time": "2023-02-01T08:09:38.582Z"
   },
   {
    "duration": 305,
    "start_time": "2023-02-01T08:09:38.595Z"
   },
   {
    "duration": 38,
    "start_time": "2023-02-01T08:09:38.902Z"
   },
   {
    "duration": 8,
    "start_time": "2023-02-01T08:09:38.942Z"
   },
   {
    "duration": 317,
    "start_time": "2023-02-01T08:09:38.952Z"
   },
   {
    "duration": 312,
    "start_time": "2023-02-01T08:09:39.272Z"
   },
   {
    "duration": 4,
    "start_time": "2023-02-01T08:09:39.587Z"
   },
   {
    "duration": 7,
    "start_time": "2023-02-01T08:09:39.593Z"
   },
   {
    "duration": 10,
    "start_time": "2023-02-01T08:09:39.601Z"
   },
   {
    "duration": 434,
    "start_time": "2023-02-01T08:09:39.613Z"
   },
   {
    "duration": 32,
    "start_time": "2023-02-01T08:09:40.049Z"
   },
   {
    "duration": 8,
    "start_time": "2023-02-01T08:09:40.083Z"
   },
   {
    "duration": 4251,
    "start_time": "2023-02-01T08:09:40.092Z"
   },
   {
    "duration": 16,
    "start_time": "2023-02-01T08:09:44.345Z"
   },
   {
    "duration": 3,
    "start_time": "2023-02-01T08:09:44.363Z"
   },
   {
    "duration": 9,
    "start_time": "2023-02-01T08:09:44.369Z"
   },
   {
    "duration": 78,
    "start_time": "2023-02-01T08:09:44.379Z"
   },
   {
    "duration": 21,
    "start_time": "2023-02-01T08:09:44.459Z"
   },
   {
    "duration": 23,
    "start_time": "2023-02-01T08:09:44.481Z"
   },
   {
    "duration": 237,
    "start_time": "2023-02-01T08:09:44.506Z"
   },
   {
    "duration": 36,
    "start_time": "2023-02-01T08:10:06.108Z"
   },
   {
    "duration": 31,
    "start_time": "2023-02-01T08:10:20.863Z"
   },
   {
    "duration": 22,
    "start_time": "2023-02-01T08:10:31.938Z"
   },
   {
    "duration": 12,
    "start_time": "2023-02-01T08:10:41.134Z"
   },
   {
    "duration": 5,
    "start_time": "2023-02-01T08:10:58.466Z"
   },
   {
    "duration": 7,
    "start_time": "2023-02-01T08:11:03.652Z"
   },
   {
    "duration": 24,
    "start_time": "2023-02-01T08:11:09.994Z"
   },
   {
    "duration": 18,
    "start_time": "2023-02-01T08:11:48.977Z"
   },
   {
    "duration": 2062,
    "start_time": "2023-02-01T08:11:51.053Z"
   },
   {
    "duration": 4,
    "start_time": "2023-02-01T08:11:53.118Z"
   },
   {
    "duration": 21,
    "start_time": "2023-02-01T08:11:53.124Z"
   },
   {
    "duration": 370,
    "start_time": "2023-02-01T08:11:53.148Z"
   },
   {
    "duration": 284,
    "start_time": "2023-02-01T08:11:53.520Z"
   },
   {
    "duration": 13,
    "start_time": "2023-02-01T08:11:53.806Z"
   },
   {
    "duration": 39,
    "start_time": "2023-02-01T08:11:53.821Z"
   },
   {
    "duration": 26,
    "start_time": "2023-02-01T08:11:53.862Z"
   },
   {
    "duration": 19,
    "start_time": "2023-02-01T08:11:53.890Z"
   },
   {
    "duration": 29,
    "start_time": "2023-02-01T08:11:53.911Z"
   },
   {
    "duration": 507,
    "start_time": "2023-02-01T08:11:53.941Z"
   },
   {
    "duration": 13,
    "start_time": "2023-02-01T08:11:54.450Z"
   },
   {
    "duration": 344,
    "start_time": "2023-02-01T08:11:54.465Z"
   },
   {
    "duration": 37,
    "start_time": "2023-02-01T08:11:54.811Z"
   },
   {
    "duration": 16,
    "start_time": "2023-02-01T08:11:54.850Z"
   },
   {
    "duration": 311,
    "start_time": "2023-02-01T08:11:54.868Z"
   },
   {
    "duration": 311,
    "start_time": "2023-02-01T08:11:55.181Z"
   },
   {
    "duration": 5,
    "start_time": "2023-02-01T08:11:55.493Z"
   },
   {
    "duration": 28,
    "start_time": "2023-02-01T08:11:55.499Z"
   },
   {
    "duration": 35,
    "start_time": "2023-02-01T08:11:55.528Z"
   },
   {
    "duration": 342,
    "start_time": "2023-02-01T08:11:55.564Z"
   },
   {
    "duration": 43,
    "start_time": "2023-02-01T08:11:55.908Z"
   },
   {
    "duration": 20,
    "start_time": "2023-02-01T08:11:55.953Z"
   },
   {
    "duration": 3878,
    "start_time": "2023-02-01T08:11:55.975Z"
   },
   {
    "duration": 16,
    "start_time": "2023-02-01T08:11:59.855Z"
   },
   {
    "duration": 23,
    "start_time": "2023-02-01T08:11:59.873Z"
   },
   {
    "duration": 37,
    "start_time": "2023-02-01T08:11:59.898Z"
   },
   {
    "duration": 66,
    "start_time": "2023-02-01T08:11:59.939Z"
   },
   {
    "duration": 33,
    "start_time": "2023-02-01T08:12:00.007Z"
   },
   {
    "duration": 0,
    "start_time": "2023-02-01T08:12:00.042Z"
   },
   {
    "duration": 0,
    "start_time": "2023-02-01T08:12:00.043Z"
   },
   {
    "duration": 0,
    "start_time": "2023-02-01T08:12:00.044Z"
   },
   {
    "duration": 2150,
    "start_time": "2023-02-01T08:12:16.106Z"
   },
   {
    "duration": 4,
    "start_time": "2023-02-01T08:12:18.259Z"
   },
   {
    "duration": 8,
    "start_time": "2023-02-01T08:12:18.264Z"
   },
   {
    "duration": 374,
    "start_time": "2023-02-01T08:12:18.274Z"
   },
   {
    "duration": 421,
    "start_time": "2023-02-01T08:12:18.650Z"
   },
   {
    "duration": 14,
    "start_time": "2023-02-01T08:12:19.073Z"
   },
   {
    "duration": 17,
    "start_time": "2023-02-01T08:12:19.088Z"
   },
   {
    "duration": 17,
    "start_time": "2023-02-01T08:12:19.107Z"
   },
   {
    "duration": 7,
    "start_time": "2023-02-01T08:12:19.126Z"
   },
   {
    "duration": 12,
    "start_time": "2023-02-01T08:12:19.136Z"
   },
   {
    "duration": 370,
    "start_time": "2023-02-01T08:12:19.150Z"
   },
   {
    "duration": 20,
    "start_time": "2023-02-01T08:12:19.522Z"
   },
   {
    "duration": 313,
    "start_time": "2023-02-01T08:12:19.544Z"
   },
   {
    "duration": 27,
    "start_time": "2023-02-01T08:12:19.859Z"
   },
   {
    "duration": 9,
    "start_time": "2023-02-01T08:12:19.888Z"
   },
   {
    "duration": 294,
    "start_time": "2023-02-01T08:12:19.898Z"
   },
   {
    "duration": 302,
    "start_time": "2023-02-01T08:12:20.195Z"
   },
   {
    "duration": 4,
    "start_time": "2023-02-01T08:12:20.499Z"
   },
   {
    "duration": 7,
    "start_time": "2023-02-01T08:12:20.505Z"
   },
   {
    "duration": 23,
    "start_time": "2023-02-01T08:12:20.514Z"
   },
   {
    "duration": 364,
    "start_time": "2023-02-01T08:12:20.539Z"
   },
   {
    "duration": 49,
    "start_time": "2023-02-01T08:12:20.905Z"
   },
   {
    "duration": 9,
    "start_time": "2023-02-01T08:12:20.956Z"
   },
   {
    "duration": 3843,
    "start_time": "2023-02-01T08:12:20.966Z"
   },
   {
    "duration": 28,
    "start_time": "2023-02-01T08:12:24.811Z"
   },
   {
    "duration": 3,
    "start_time": "2023-02-01T08:12:24.841Z"
   },
   {
    "duration": 12,
    "start_time": "2023-02-01T08:12:24.846Z"
   },
   {
    "duration": 51,
    "start_time": "2023-02-01T08:12:24.861Z"
   },
   {
    "duration": 29,
    "start_time": "2023-02-01T08:12:24.914Z"
   },
   {
    "duration": 20,
    "start_time": "2023-02-01T08:12:24.945Z"
   },
   {
    "duration": 218,
    "start_time": "2023-02-01T08:12:24.967Z"
   },
   {
    "duration": 468,
    "start_time": "2023-02-01T08:15:48.614Z"
   },
   {
    "duration": 432,
    "start_time": "2023-02-01T08:16:04.338Z"
   },
   {
    "duration": 394,
    "start_time": "2023-02-01T08:16:18.849Z"
   },
   {
    "duration": 1478,
    "start_time": "2023-02-01T08:16:26.919Z"
   },
   {
    "duration": 405,
    "start_time": "2023-02-01T08:16:37.495Z"
   },
   {
    "duration": 213,
    "start_time": "2023-02-01T08:16:45.168Z"
   },
   {
    "duration": 395,
    "start_time": "2023-02-01T08:16:47.804Z"
   },
   {
    "duration": 404,
    "start_time": "2023-02-01T08:17:56.584Z"
   },
   {
    "duration": 441,
    "start_time": "2023-02-01T08:18:04.123Z"
   },
   {
    "duration": 381,
    "start_time": "2023-02-01T08:18:12.471Z"
   },
   {
    "duration": 377,
    "start_time": "2023-02-01T08:18:15.524Z"
   },
   {
    "duration": 400,
    "start_time": "2023-02-01T08:18:26.230Z"
   },
   {
    "duration": 397,
    "start_time": "2023-02-01T08:18:41.806Z"
   },
   {
    "duration": 2140,
    "start_time": "2023-02-01T08:19:11.788Z"
   },
   {
    "duration": 2121,
    "start_time": "2023-02-01T08:28:19.974Z"
   },
   {
    "duration": 3,
    "start_time": "2023-02-01T08:28:22.098Z"
   },
   {
    "duration": 9,
    "start_time": "2023-02-01T08:28:22.103Z"
   },
   {
    "duration": 359,
    "start_time": "2023-02-01T08:28:22.114Z"
   },
   {
    "duration": 421,
    "start_time": "2023-02-01T08:28:22.475Z"
   },
   {
    "duration": 14,
    "start_time": "2023-02-01T08:28:22.898Z"
   },
   {
    "duration": 13,
    "start_time": "2023-02-01T08:28:22.914Z"
   },
   {
    "duration": 18,
    "start_time": "2023-02-01T08:28:22.929Z"
   },
   {
    "duration": 7,
    "start_time": "2023-02-01T08:28:22.949Z"
   },
   {
    "duration": 12,
    "start_time": "2023-02-01T08:28:22.959Z"
   },
   {
    "duration": 363,
    "start_time": "2023-02-01T08:28:22.973Z"
   },
   {
    "duration": 12,
    "start_time": "2023-02-01T08:28:23.338Z"
   },
   {
    "duration": 340,
    "start_time": "2023-02-01T08:28:23.352Z"
   },
   {
    "duration": 29,
    "start_time": "2023-02-01T08:28:23.693Z"
   },
   {
    "duration": 19,
    "start_time": "2023-02-01T08:28:23.724Z"
   },
   {
    "duration": 332,
    "start_time": "2023-02-01T08:28:23.745Z"
   },
   {
    "duration": 310,
    "start_time": "2023-02-01T08:28:24.079Z"
   },
   {
    "duration": 5,
    "start_time": "2023-02-01T08:28:24.392Z"
   },
   {
    "duration": 16,
    "start_time": "2023-02-01T08:28:24.398Z"
   },
   {
    "duration": 22,
    "start_time": "2023-02-01T08:28:24.416Z"
   },
   {
    "duration": 364,
    "start_time": "2023-02-01T08:28:24.440Z"
   },
   {
    "duration": 48,
    "start_time": "2023-02-01T08:28:24.806Z"
   },
   {
    "duration": 9,
    "start_time": "2023-02-01T08:28:24.855Z"
   },
   {
    "duration": 4128,
    "start_time": "2023-02-01T08:28:24.866Z"
   },
   {
    "duration": 15,
    "start_time": "2023-02-01T08:28:28.996Z"
   },
   {
    "duration": 6,
    "start_time": "2023-02-01T08:28:29.013Z"
   },
   {
    "duration": 24,
    "start_time": "2023-02-01T08:28:29.020Z"
   },
   {
    "duration": 69,
    "start_time": "2023-02-01T08:28:29.047Z"
   },
   {
    "duration": 29,
    "start_time": "2023-02-01T08:28:29.118Z"
   },
   {
    "duration": 20,
    "start_time": "2023-02-01T08:28:29.149Z"
   },
   {
    "duration": 439,
    "start_time": "2023-02-01T08:28:29.171Z"
   },
   {
    "duration": 2325,
    "start_time": "2023-02-01T08:28:54.310Z"
   },
   {
    "duration": 4,
    "start_time": "2023-02-01T08:28:56.638Z"
   },
   {
    "duration": 22,
    "start_time": "2023-02-01T08:28:56.644Z"
   },
   {
    "duration": 385,
    "start_time": "2023-02-01T08:28:56.668Z"
   },
   {
    "duration": 306,
    "start_time": "2023-02-01T08:28:57.056Z"
   },
   {
    "duration": 17,
    "start_time": "2023-02-01T08:28:57.364Z"
   },
   {
    "duration": 14,
    "start_time": "2023-02-01T08:28:57.383Z"
   },
   {
    "duration": 14,
    "start_time": "2023-02-01T08:28:57.399Z"
   },
   {
    "duration": 21,
    "start_time": "2023-02-01T08:28:57.415Z"
   },
   {
    "duration": 11,
    "start_time": "2023-02-01T08:28:57.440Z"
   },
   {
    "duration": 372,
    "start_time": "2023-02-01T08:28:57.453Z"
   },
   {
    "duration": 11,
    "start_time": "2023-02-01T08:28:57.837Z"
   },
   {
    "duration": 353,
    "start_time": "2023-02-01T08:28:57.850Z"
   },
   {
    "duration": 51,
    "start_time": "2023-02-01T08:28:58.205Z"
   },
   {
    "duration": 10,
    "start_time": "2023-02-01T08:28:58.258Z"
   },
   {
    "duration": 479,
    "start_time": "2023-02-01T08:28:58.270Z"
   },
   {
    "duration": 322,
    "start_time": "2023-02-01T08:28:58.751Z"
   },
   {
    "duration": 5,
    "start_time": "2023-02-01T08:28:59.076Z"
   },
   {
    "duration": 5,
    "start_time": "2023-02-01T08:28:59.083Z"
   },
   {
    "duration": 12,
    "start_time": "2023-02-01T08:28:59.090Z"
   },
   {
    "duration": 368,
    "start_time": "2023-02-01T08:28:59.104Z"
   },
   {
    "duration": 39,
    "start_time": "2023-02-01T08:28:59.474Z"
   },
   {
    "duration": 25,
    "start_time": "2023-02-01T08:28:59.514Z"
   },
   {
    "duration": 4093,
    "start_time": "2023-02-01T08:28:59.541Z"
   },
   {
    "duration": 16,
    "start_time": "2023-02-01T08:29:03.636Z"
   },
   {
    "duration": 18,
    "start_time": "2023-02-01T08:29:03.654Z"
   },
   {
    "duration": 27,
    "start_time": "2023-02-01T08:29:03.674Z"
   },
   {
    "duration": 69,
    "start_time": "2023-02-01T08:29:03.704Z"
   },
   {
    "duration": 14,
    "start_time": "2023-02-01T08:29:03.775Z"
   },
   {
    "duration": 30,
    "start_time": "2023-02-01T08:29:03.791Z"
   },
   {
    "duration": 439,
    "start_time": "2023-02-01T08:29:03.822Z"
   },
   {
    "duration": 26,
    "start_time": "2023-02-01T08:31:14.628Z"
   },
   {
    "duration": 66,
    "start_time": "2023-02-01T08:32:25.691Z"
   },
   {
    "duration": 1434,
    "start_time": "2023-02-01T08:33:45.548Z"
   },
   {
    "duration": 51,
    "start_time": "2023-02-01T08:33:56.534Z"
   },
   {
    "duration": 59,
    "start_time": "2023-02-01T08:34:22.627Z"
   },
   {
    "duration": 63,
    "start_time": "2023-02-01T08:34:44.352Z"
   },
   {
    "duration": 13566,
    "start_time": "2023-02-01T08:36:28.208Z"
   },
   {
    "duration": 13902,
    "start_time": "2023-02-01T08:37:03.733Z"
   },
   {
    "duration": 13661,
    "start_time": "2023-02-01T08:37:28.989Z"
   },
   {
    "duration": 13387,
    "start_time": "2023-02-01T08:38:30.676Z"
   },
   {
    "duration": 716,
    "start_time": "2023-02-01T08:39:47.943Z"
   },
   {
    "duration": 30571,
    "start_time": "2023-02-01T08:41:38.830Z"
   },
   {
    "duration": 30806,
    "start_time": "2023-02-01T08:43:02.627Z"
   },
   {
    "duration": 13438,
    "start_time": "2023-02-01T08:43:46.268Z"
   },
   {
    "duration": 97,
    "start_time": "2023-02-01T08:44:10.787Z"
   },
   {
    "duration": 5,
    "start_time": "2023-02-01T08:44:13.483Z"
   },
   {
    "duration": 13895,
    "start_time": "2023-02-01T08:44:57.659Z"
   },
   {
    "duration": 3977,
    "start_time": "2023-02-01T08:57:50.364Z"
   },
   {
    "duration": 671,
    "start_time": "2023-02-01T08:58:22.834Z"
   },
   {
    "duration": 196,
    "start_time": "2023-02-01T09:02:03.289Z"
   },
   {
    "duration": 21,
    "start_time": "2023-02-01T09:02:27.716Z"
   },
   {
    "duration": 74,
    "start_time": "2023-02-01T09:02:48.755Z"
   },
   {
    "duration": 26,
    "start_time": "2023-02-01T09:02:53.529Z"
   },
   {
    "duration": 22,
    "start_time": "2023-02-01T09:02:59.255Z"
   },
   {
    "duration": 4,
    "start_time": "2023-02-01T09:03:21.080Z"
   },
   {
    "duration": 9,
    "start_time": "2023-02-01T09:03:24.392Z"
   },
   {
    "duration": 2,
    "start_time": "2023-02-01T09:10:16.703Z"
   },
   {
    "duration": 2156,
    "start_time": "2023-02-01T09:12:07.030Z"
   },
   {
    "duration": 115,
    "start_time": "2023-02-01T09:19:51.032Z"
   },
   {
    "duration": 8,
    "start_time": "2023-02-01T09:19:57.028Z"
   },
   {
    "duration": 102,
    "start_time": "2023-02-01T09:20:44.397Z"
   },
   {
    "duration": 2288,
    "start_time": "2023-02-01T09:21:07.102Z"
   },
   {
    "duration": 8,
    "start_time": "2023-02-01T09:23:20.649Z"
   },
   {
    "duration": 3681,
    "start_time": "2023-02-01T09:23:40.084Z"
   },
   {
    "duration": 2184,
    "start_time": "2023-02-01T09:24:06.986Z"
   },
   {
    "duration": 3374,
    "start_time": "2023-02-01T09:24:12.239Z"
   },
   {
    "duration": 3429,
    "start_time": "2023-02-01T09:24:52.048Z"
   },
   {
    "duration": 1885,
    "start_time": "2023-02-01T09:26:19.816Z"
   },
   {
    "duration": 3892,
    "start_time": "2023-02-01T09:27:42.333Z"
   },
   {
    "duration": 73,
    "start_time": "2023-02-01T09:28:14.610Z"
   },
   {
    "duration": 3332,
    "start_time": "2023-02-01T09:28:19.383Z"
   },
   {
    "duration": 4052,
    "start_time": "2023-02-01T09:28:49.151Z"
   },
   {
    "duration": 19541,
    "start_time": "2023-02-01T09:30:55.236Z"
   },
   {
    "duration": 16828,
    "start_time": "2023-02-01T09:31:53.567Z"
   },
   {
    "duration": 9832,
    "start_time": "2023-02-01T09:32:30.849Z"
   },
   {
    "duration": 7131,
    "start_time": "2023-02-01T09:32:49.235Z"
   },
   {
    "duration": 4529,
    "start_time": "2023-02-01T09:33:13.804Z"
   },
   {
    "duration": 6908,
    "start_time": "2023-02-01T09:33:35.431Z"
   },
   {
    "duration": 94696,
    "start_time": "2023-02-01T09:33:49.702Z"
   },
   {
    "duration": 7428,
    "start_time": "2023-02-01T09:35:25.011Z"
   },
   {
    "duration": 21441,
    "start_time": "2023-02-01T09:35:40.842Z"
   },
   {
    "duration": 77,
    "start_time": "2023-02-01T09:36:04.870Z"
   },
   {
    "duration": 10023,
    "start_time": "2023-02-01T09:36:08.786Z"
   },
   {
    "duration": 9505,
    "start_time": "2023-02-01T09:36:19.503Z"
   },
   {
    "duration": 18943,
    "start_time": "2023-02-01T09:36:29.652Z"
   },
   {
    "duration": 192693,
    "start_time": "2023-02-01T09:36:49.869Z"
   },
   {
    "duration": 24,
    "start_time": "2023-02-01T09:41:18.592Z"
   },
   {
    "duration": 18,
    "start_time": "2023-02-01T09:41:27.874Z"
   },
   {
    "duration": 21,
    "start_time": "2023-02-01T09:41:31.583Z"
   },
   {
    "duration": 5,
    "start_time": "2023-02-01T09:41:39.056Z"
   },
   {
    "duration": 5,
    "start_time": "2023-02-01T09:42:17.033Z"
   },
   {
    "duration": 9557,
    "start_time": "2023-02-01T09:42:36.622Z"
   },
   {
    "duration": 460184,
    "start_time": "2023-02-01T09:42:55.855Z"
   },
   {
    "duration": 0,
    "start_time": "2023-02-01T09:50:36.041Z"
   },
   {
    "duration": 1324585,
    "start_time": "2023-02-01T09:50:40.267Z"
   },
   {
    "duration": 167,
    "start_time": "2023-02-01T10:39:21.890Z"
   },
   {
    "duration": 9,
    "start_time": "2023-02-01T10:41:33.016Z"
   },
   {
    "duration": 8,
    "start_time": "2023-02-01T10:41:57.390Z"
   },
   {
    "duration": 231,
    "start_time": "2023-02-01T10:43:17.147Z"
   },
   {
    "duration": 96,
    "start_time": "2023-02-01T10:43:34.548Z"
   },
   {
    "duration": 20,
    "start_time": "2023-02-01T10:44:07.394Z"
   },
   {
    "duration": 96,
    "start_time": "2023-02-01T10:44:38.094Z"
   },
   {
    "duration": 2319,
    "start_time": "2023-02-01T10:44:45.393Z"
   },
   {
    "duration": 9,
    "start_time": "2023-02-01T10:45:01.138Z"
   },
   {
    "duration": 9,
    "start_time": "2023-02-01T10:45:53.922Z"
   },
   {
    "duration": 8,
    "start_time": "2023-02-01T10:46:28.492Z"
   },
   {
    "duration": 245,
    "start_time": "2023-02-01T10:57:54.223Z"
   },
   {
    "duration": 70,
    "start_time": "2023-02-01T11:06:18.691Z"
   },
   {
    "duration": 22,
    "start_time": "2023-02-01T11:09:01.642Z"
   },
   {
    "duration": 29,
    "start_time": "2023-02-01T11:09:31.357Z"
   },
   {
    "duration": 33,
    "start_time": "2023-02-01T11:09:37.568Z"
   },
   {
    "duration": 285,
    "start_time": "2023-02-01T11:09:54.953Z"
   },
   {
    "duration": 10,
    "start_time": "2023-02-01T11:10:10.620Z"
   },
   {
    "duration": 192,
    "start_time": "2023-02-01T11:11:59.544Z"
   },
   {
    "duration": 703,
    "start_time": "2023-02-01T11:14:00.999Z"
   },
   {
    "duration": 9,
    "start_time": "2023-02-01T11:14:06.346Z"
   },
   {
    "duration": 70,
    "start_time": "2023-02-01T11:23:24.389Z"
   },
   {
    "duration": 5659,
    "start_time": "2023-02-01T11:31:15.000Z"
   },
   {
    "duration": 3,
    "start_time": "2023-02-01T11:31:20.661Z"
   },
   {
    "duration": 8592,
    "start_time": "2023-02-01T11:31:20.665Z"
   },
   {
    "duration": 378,
    "start_time": "2023-02-01T11:31:29.259Z"
   },
   {
    "duration": 294,
    "start_time": "2023-02-01T11:31:29.639Z"
   },
   {
    "duration": 13,
    "start_time": "2023-02-01T11:31:29.934Z"
   },
   {
    "duration": 299,
    "start_time": "2023-02-01T11:31:29.949Z"
   },
   {
    "duration": 20,
    "start_time": "2023-02-01T11:31:30.250Z"
   },
   {
    "duration": 8,
    "start_time": "2023-02-01T11:31:30.272Z"
   },
   {
    "duration": 35,
    "start_time": "2023-02-01T11:31:30.282Z"
   },
   {
    "duration": 390,
    "start_time": "2023-02-01T11:31:30.319Z"
   },
   {
    "duration": 10,
    "start_time": "2023-02-01T11:31:30.711Z"
   },
   {
    "duration": 365,
    "start_time": "2023-02-01T11:31:30.737Z"
   },
   {
    "duration": 38,
    "start_time": "2023-02-01T11:31:31.106Z"
   },
   {
    "duration": 9,
    "start_time": "2023-02-01T11:31:31.146Z"
   },
   {
    "duration": 329,
    "start_time": "2023-02-01T11:31:31.157Z"
   },
   {
    "duration": 498,
    "start_time": "2023-02-01T11:31:31.488Z"
   },
   {
    "duration": 5,
    "start_time": "2023-02-01T11:31:31.988Z"
   },
   {
    "duration": 19,
    "start_time": "2023-02-01T11:31:31.995Z"
   },
   {
    "duration": 21,
    "start_time": "2023-02-01T11:31:32.015Z"
   },
   {
    "duration": 417,
    "start_time": "2023-02-01T11:31:32.038Z"
   },
   {
    "duration": 34,
    "start_time": "2023-02-01T11:31:32.457Z"
   },
   {
    "duration": 9,
    "start_time": "2023-02-01T11:31:32.492Z"
   },
   {
    "duration": 4248,
    "start_time": "2023-02-01T11:31:32.504Z"
   },
   {
    "duration": 14,
    "start_time": "2023-02-01T11:31:36.754Z"
   },
   {
    "duration": 5,
    "start_time": "2023-02-01T11:31:36.770Z"
   },
   {
    "duration": 20,
    "start_time": "2023-02-01T11:31:36.776Z"
   },
   {
    "duration": 58,
    "start_time": "2023-02-01T11:31:36.798Z"
   },
   {
    "duration": 12,
    "start_time": "2023-02-01T11:31:36.858Z"
   },
   {
    "duration": 20,
    "start_time": "2023-02-01T11:31:36.872Z"
   },
   {
    "duration": 442,
    "start_time": "2023-02-01T11:31:36.895Z"
   },
   {
    "duration": 54,
    "start_time": "2023-02-01T11:31:37.339Z"
   },
   {
    "duration": 9991,
    "start_time": "2023-02-01T11:31:37.394Z"
   },
   {
    "duration": 0,
    "start_time": "2023-02-01T11:31:47.387Z"
   },
   {
    "duration": 0,
    "start_time": "2023-02-01T11:31:47.389Z"
   },
   {
    "duration": 0,
    "start_time": "2023-02-01T11:31:47.390Z"
   },
   {
    "duration": 0,
    "start_time": "2023-02-01T11:31:47.391Z"
   },
   {
    "duration": 0,
    "start_time": "2023-02-01T11:31:47.392Z"
   },
   {
    "duration": 6420,
    "start_time": "2023-02-01T11:32:19.963Z"
   },
   {
    "duration": 3,
    "start_time": "2023-02-01T11:32:26.385Z"
   },
   {
    "duration": 9588,
    "start_time": "2023-02-01T11:32:26.390Z"
   },
   {
    "duration": 374,
    "start_time": "2023-02-01T11:32:35.980Z"
   },
   {
    "duration": 287,
    "start_time": "2023-02-01T11:32:36.356Z"
   },
   {
    "duration": 16,
    "start_time": "2023-02-01T11:32:36.645Z"
   },
   {
    "duration": 14,
    "start_time": "2023-02-01T11:32:36.663Z"
   },
   {
    "duration": 15,
    "start_time": "2023-02-01T11:32:36.679Z"
   },
   {
    "duration": 10,
    "start_time": "2023-02-01T11:32:36.696Z"
   },
   {
    "duration": 44,
    "start_time": "2023-02-01T11:32:36.708Z"
   },
   {
    "duration": 402,
    "start_time": "2023-02-01T11:32:36.754Z"
   },
   {
    "duration": 10,
    "start_time": "2023-02-01T11:32:37.158Z"
   },
   {
    "duration": 333,
    "start_time": "2023-02-01T11:32:37.169Z"
   },
   {
    "duration": 38,
    "start_time": "2023-02-01T11:32:37.505Z"
   },
   {
    "duration": 10,
    "start_time": "2023-02-01T11:32:37.545Z"
   },
   {
    "duration": 333,
    "start_time": "2023-02-01T11:32:37.557Z"
   },
   {
    "duration": 499,
    "start_time": "2023-02-01T11:32:37.892Z"
   },
   {
    "duration": 4,
    "start_time": "2023-02-01T11:32:38.393Z"
   },
   {
    "duration": 9,
    "start_time": "2023-02-01T11:32:38.399Z"
   },
   {
    "duration": 26,
    "start_time": "2023-02-01T11:32:38.410Z"
   },
   {
    "duration": 423,
    "start_time": "2023-02-01T11:32:38.440Z"
   },
   {
    "duration": 34,
    "start_time": "2023-02-01T11:32:38.865Z"
   },
   {
    "duration": 7,
    "start_time": "2023-02-01T11:32:38.901Z"
   },
   {
    "duration": 4278,
    "start_time": "2023-02-01T11:32:38.910Z"
   },
   {
    "duration": 19,
    "start_time": "2023-02-01T11:32:43.194Z"
   },
   {
    "duration": 9,
    "start_time": "2023-02-01T11:32:43.215Z"
   },
   {
    "duration": 35,
    "start_time": "2023-02-01T11:32:43.227Z"
   },
   {
    "duration": 56,
    "start_time": "2023-02-01T11:32:43.264Z"
   },
   {
    "duration": 19,
    "start_time": "2023-02-01T11:32:43.322Z"
   },
   {
    "duration": 50,
    "start_time": "2023-02-01T11:32:43.349Z"
   },
   {
    "duration": 490,
    "start_time": "2023-02-01T11:32:43.402Z"
   },
   {
    "duration": 69,
    "start_time": "2023-02-01T11:32:43.894Z"
   },
   {
    "duration": 15708,
    "start_time": "2023-02-01T11:32:43.965Z"
   },
   {
    "duration": 1356375,
    "start_time": "2023-02-01T11:32:59.675Z"
   },
   {
    "duration": 11,
    "start_time": "2023-02-01T11:55:36.056Z"
   },
   {
    "duration": 186,
    "start_time": "2023-02-01T11:55:36.068Z"
   },
   {
    "duration": 248,
    "start_time": "2023-02-01T11:55:36.256Z"
   },
   {
    "duration": 194,
    "start_time": "2023-02-01T11:55:36.506Z"
   },
   {
    "duration": 18,
    "start_time": "2023-02-01T17:54:19.987Z"
   },
   {
    "duration": 12,
    "start_time": "2023-02-02T09:23:46.077Z"
   },
   {
    "duration": 12,
    "start_time": "2023-02-02T09:23:46.568Z"
   },
   {
    "duration": 11,
    "start_time": "2023-02-02T09:23:47.121Z"
   },
   {
    "duration": 10,
    "start_time": "2023-02-02T09:24:16.586Z"
   },
   {
    "duration": 17,
    "start_time": "2023-02-02T09:24:55.267Z"
   },
   {
    "duration": 6473,
    "start_time": "2023-02-02T14:42:51.757Z"
   },
   {
    "duration": 3,
    "start_time": "2023-02-02T14:42:58.232Z"
   },
   {
    "duration": 5050,
    "start_time": "2023-02-02T14:42:58.236Z"
   },
   {
    "duration": 74,
    "start_time": "2023-02-02T14:43:03.288Z"
   },
   {
    "duration": 134,
    "start_time": "2023-02-02T14:43:03.363Z"
   },
   {
    "duration": 12,
    "start_time": "2023-02-02T14:43:03.499Z"
   },
   {
    "duration": 25,
    "start_time": "2023-02-02T14:43:03.513Z"
   },
   {
    "duration": 21,
    "start_time": "2023-02-02T14:43:03.540Z"
   },
   {
    "duration": 7,
    "start_time": "2023-02-02T14:43:03.563Z"
   },
   {
    "duration": 22,
    "start_time": "2023-02-02T14:43:03.573Z"
   },
   {
    "duration": 404,
    "start_time": "2023-02-02T14:43:03.597Z"
   },
   {
    "duration": 11,
    "start_time": "2023-02-02T14:43:04.004Z"
   },
   {
    "duration": 369,
    "start_time": "2023-02-02T14:43:04.017Z"
   },
   {
    "duration": 24,
    "start_time": "2023-02-02T14:43:04.393Z"
   },
   {
    "duration": 7,
    "start_time": "2023-02-02T14:43:04.419Z"
   },
   {
    "duration": 407,
    "start_time": "2023-02-02T14:43:04.428Z"
   },
   {
    "duration": 300,
    "start_time": "2023-02-02T14:43:04.837Z"
   },
   {
    "duration": 4,
    "start_time": "2023-02-02T14:43:05.139Z"
   },
   {
    "duration": 36,
    "start_time": "2023-02-02T14:43:05.144Z"
   },
   {
    "duration": 19,
    "start_time": "2023-02-02T14:43:05.181Z"
   },
   {
    "duration": 370,
    "start_time": "2023-02-02T14:43:05.202Z"
   },
   {
    "duration": 39,
    "start_time": "2023-02-02T14:43:05.574Z"
   },
   {
    "duration": 33,
    "start_time": "2023-02-02T14:43:05.615Z"
   },
   {
    "duration": 24,
    "start_time": "2023-02-02T14:43:10.465Z"
   },
   {
    "duration": 32,
    "start_time": "2023-02-02T14:43:49.327Z"
   },
   {
    "duration": 31,
    "start_time": "2023-02-02T14:43:56.949Z"
   },
   {
    "duration": 268,
    "start_time": "2023-02-02T14:44:09.761Z"
   },
   {
    "duration": 24,
    "start_time": "2023-02-02T14:44:14.487Z"
   },
   {
    "duration": 31,
    "start_time": "2023-02-02T14:48:02.963Z"
   },
   {
    "duration": 38,
    "start_time": "2023-02-02T14:48:03.128Z"
   },
   {
    "duration": 18,
    "start_time": "2023-02-02T14:50:21.005Z"
   },
   {
    "duration": 7,
    "start_time": "2023-02-02T14:54:36.986Z"
   },
   {
    "duration": 5,
    "start_time": "2023-02-02T14:55:23.402Z"
   },
   {
    "duration": 5,
    "start_time": "2023-02-02T14:55:50.931Z"
   },
   {
    "duration": 5,
    "start_time": "2023-02-02T14:55:58.883Z"
   },
   {
    "duration": 7,
    "start_time": "2023-02-02T14:56:03.825Z"
   },
   {
    "duration": 6,
    "start_time": "2023-02-02T14:56:10.211Z"
   },
   {
    "duration": 6284,
    "start_time": "2023-02-02T17:07:50.718Z"
   },
   {
    "duration": 3,
    "start_time": "2023-02-02T17:07:57.004Z"
   },
   {
    "duration": 9511,
    "start_time": "2023-02-02T17:07:57.009Z"
   },
   {
    "duration": 351,
    "start_time": "2023-02-02T17:08:06.522Z"
   },
   {
    "duration": 275,
    "start_time": "2023-02-02T17:08:06.874Z"
   },
   {
    "duration": 14,
    "start_time": "2023-02-02T17:08:07.150Z"
   },
   {
    "duration": 20,
    "start_time": "2023-02-02T17:08:07.165Z"
   },
   {
    "duration": 14,
    "start_time": "2023-02-02T17:08:07.187Z"
   },
   {
    "duration": 7,
    "start_time": "2023-02-02T17:08:07.202Z"
   },
   {
    "duration": 23,
    "start_time": "2023-02-02T17:08:07.211Z"
   },
   {
    "duration": 383,
    "start_time": "2023-02-02T17:08:07.236Z"
   },
   {
    "duration": 21,
    "start_time": "2023-02-02T17:08:07.621Z"
   },
   {
    "duration": 346,
    "start_time": "2023-02-02T17:08:07.644Z"
   },
   {
    "duration": 40,
    "start_time": "2023-02-02T17:08:07.992Z"
   },
   {
    "duration": 14,
    "start_time": "2023-02-02T17:08:08.034Z"
   },
   {
    "duration": 450,
    "start_time": "2023-02-02T17:08:08.050Z"
   },
   {
    "duration": 303,
    "start_time": "2023-02-02T17:08:08.501Z"
   },
   {
    "duration": 4,
    "start_time": "2023-02-02T17:08:08.806Z"
   },
   {
    "duration": 19,
    "start_time": "2023-02-02T17:08:08.811Z"
   },
   {
    "duration": 30,
    "start_time": "2023-02-02T17:08:08.832Z"
   },
   {
    "duration": 353,
    "start_time": "2023-02-02T17:08:08.863Z"
   },
   {
    "duration": 50,
    "start_time": "2023-02-02T17:08:09.218Z"
   },
   {
    "duration": 57,
    "start_time": "2023-02-02T17:08:50.366Z"
   },
   {
    "duration": 16,
    "start_time": "2023-02-02T17:09:22.132Z"
   },
   {
    "duration": 0,
    "start_time": "2023-02-02T17:10:10.551Z"
   },
   {
    "duration": 0,
    "start_time": "2023-02-02T17:10:10.552Z"
   },
   {
    "duration": 0,
    "start_time": "2023-02-02T17:10:10.553Z"
   },
   {
    "duration": 0,
    "start_time": "2023-02-02T17:10:10.554Z"
   },
   {
    "duration": 0,
    "start_time": "2023-02-02T17:10:10.555Z"
   },
   {
    "duration": 0,
    "start_time": "2023-02-02T17:10:10.556Z"
   },
   {
    "duration": 0,
    "start_time": "2023-02-02T17:10:10.557Z"
   },
   {
    "duration": 0,
    "start_time": "2023-02-02T17:10:10.558Z"
   },
   {
    "duration": 0,
    "start_time": "2023-02-02T17:10:10.559Z"
   },
   {
    "duration": 0,
    "start_time": "2023-02-02T17:10:10.560Z"
   },
   {
    "duration": 0,
    "start_time": "2023-02-02T17:10:10.561Z"
   },
   {
    "duration": 0,
    "start_time": "2023-02-02T17:10:10.562Z"
   },
   {
    "duration": 0,
    "start_time": "2023-02-02T17:10:10.563Z"
   },
   {
    "duration": 0,
    "start_time": "2023-02-02T17:10:10.564Z"
   },
   {
    "duration": 0,
    "start_time": "2023-02-02T17:10:10.565Z"
   },
   {
    "duration": 0,
    "start_time": "2023-02-02T17:10:10.566Z"
   },
   {
    "duration": 0,
    "start_time": "2023-02-02T17:10:10.567Z"
   },
   {
    "duration": 0,
    "start_time": "2023-02-02T17:10:10.568Z"
   },
   {
    "duration": 0,
    "start_time": "2023-02-02T17:10:10.569Z"
   },
   {
    "duration": 0,
    "start_time": "2023-02-02T17:10:10.570Z"
   },
   {
    "duration": 0,
    "start_time": "2023-02-02T17:10:10.571Z"
   },
   {
    "duration": 0,
    "start_time": "2023-02-02T17:10:10.571Z"
   },
   {
    "duration": 0,
    "start_time": "2023-02-02T17:10:10.572Z"
   },
   {
    "duration": 0,
    "start_time": "2023-02-02T17:10:10.573Z"
   },
   {
    "duration": 0,
    "start_time": "2023-02-02T17:10:10.574Z"
   },
   {
    "duration": 0,
    "start_time": "2023-02-02T17:10:10.575Z"
   },
   {
    "duration": 0,
    "start_time": "2023-02-02T17:10:10.576Z"
   },
   {
    "duration": 0,
    "start_time": "2023-02-02T17:10:10.577Z"
   },
   {
    "duration": 0,
    "start_time": "2023-02-02T17:10:10.578Z"
   },
   {
    "duration": 0,
    "start_time": "2023-02-02T17:10:10.579Z"
   },
   {
    "duration": 0,
    "start_time": "2023-02-02T17:10:10.628Z"
   },
   {
    "duration": 0,
    "start_time": "2023-02-02T17:10:10.629Z"
   },
   {
    "duration": 0,
    "start_time": "2023-02-02T17:10:10.630Z"
   },
   {
    "duration": 0,
    "start_time": "2023-02-02T17:10:10.631Z"
   },
   {
    "duration": 0,
    "start_time": "2023-02-02T17:10:10.632Z"
   },
   {
    "duration": 0,
    "start_time": "2023-02-02T17:10:10.633Z"
   },
   {
    "duration": 0,
    "start_time": "2023-02-02T17:10:10.634Z"
   },
   {
    "duration": 0,
    "start_time": "2023-02-02T17:10:10.634Z"
   },
   {
    "duration": 0,
    "start_time": "2023-02-02T17:10:10.635Z"
   },
   {
    "duration": 0,
    "start_time": "2023-02-02T17:10:10.637Z"
   },
   {
    "duration": 2026,
    "start_time": "2023-02-02T17:10:20.606Z"
   },
   {
    "duration": 4,
    "start_time": "2023-02-02T17:10:22.635Z"
   },
   {
    "duration": 13,
    "start_time": "2023-02-02T17:10:22.641Z"
   },
   {
    "duration": 339,
    "start_time": "2023-02-02T17:10:22.656Z"
   },
   {
    "duration": 263,
    "start_time": "2023-02-02T17:10:22.996Z"
   },
   {
    "duration": 12,
    "start_time": "2023-02-02T17:10:23.260Z"
   },
   {
    "duration": 13,
    "start_time": "2023-02-02T17:10:23.273Z"
   },
   {
    "duration": 11,
    "start_time": "2023-02-02T17:10:23.287Z"
   },
   {
    "duration": 6,
    "start_time": "2023-02-02T17:10:23.299Z"
   },
   {
    "duration": 8,
    "start_time": "2023-02-02T17:10:23.307Z"
   },
   {
    "duration": 287,
    "start_time": "2023-02-02T17:10:23.316Z"
   },
   {
    "duration": 25,
    "start_time": "2023-02-02T17:10:23.605Z"
   },
   {
    "duration": 271,
    "start_time": "2023-02-02T17:10:23.634Z"
   },
   {
    "duration": 46,
    "start_time": "2023-02-02T17:10:23.906Z"
   },
   {
    "duration": 6,
    "start_time": "2023-02-02T17:10:23.954Z"
   },
   {
    "duration": 310,
    "start_time": "2023-02-02T17:10:23.961Z"
   },
   {
    "duration": 306,
    "start_time": "2023-02-02T17:10:24.272Z"
   },
   {
    "duration": 4,
    "start_time": "2023-02-02T17:10:24.580Z"
   },
   {
    "duration": 8,
    "start_time": "2023-02-02T17:10:24.585Z"
   },
   {
    "duration": 9,
    "start_time": "2023-02-02T17:10:24.595Z"
   },
   {
    "duration": 351,
    "start_time": "2023-02-02T17:10:24.605Z"
   },
   {
    "duration": 28,
    "start_time": "2023-02-02T17:10:24.958Z"
   },
   {
    "duration": 37,
    "start_time": "2023-02-02T17:10:24.987Z"
   },
   {
    "duration": 24,
    "start_time": "2023-02-02T17:10:25.026Z"
   },
   {
    "duration": 8,
    "start_time": "2023-02-02T17:10:25.052Z"
   },
   {
    "duration": 3855,
    "start_time": "2023-02-02T17:10:25.061Z"
   },
   {
    "duration": 22,
    "start_time": "2023-02-02T17:10:28.917Z"
   },
   {
    "duration": 4,
    "start_time": "2023-02-02T17:10:28.943Z"
   },
   {
    "duration": 14,
    "start_time": "2023-02-02T17:10:28.948Z"
   },
   {
    "duration": 71,
    "start_time": "2023-02-02T17:10:28.963Z"
   },
   {
    "duration": 15,
    "start_time": "2023-02-02T17:10:29.036Z"
   },
   {
    "duration": 20,
    "start_time": "2023-02-02T17:10:29.053Z"
   },
   {
    "duration": 476,
    "start_time": "2023-02-02T17:10:29.074Z"
   },
   {
    "duration": 48,
    "start_time": "2023-02-02T17:10:29.552Z"
   },
   {
    "duration": 16251,
    "start_time": "2023-02-02T17:10:29.602Z"
   },
   {
    "duration": 1571520,
    "start_time": "2023-02-02T17:10:45.854Z"
   },
   {
    "duration": 11,
    "start_time": "2023-02-02T17:36:57.376Z"
   },
   {
    "duration": 190,
    "start_time": "2023-02-02T17:36:57.389Z"
   },
   {
    "duration": 220,
    "start_time": "2023-02-02T17:36:57.581Z"
   },
   {
    "duration": 163,
    "start_time": "2023-02-02T17:36:57.802Z"
   },
   {
    "duration": 40,
    "start_time": "2023-02-02T17:46:36.008Z"
   },
   {
    "duration": 8,
    "start_time": "2023-02-02T17:46:57.712Z"
   },
   {
    "duration": 36,
    "start_time": "2023-02-02T17:47:04.401Z"
   },
   {
    "duration": 5,
    "start_time": "2023-02-02T17:47:52.456Z"
   },
   {
    "duration": 7,
    "start_time": "2023-02-02T17:48:03.465Z"
   },
   {
    "duration": 7,
    "start_time": "2023-02-02T17:51:45.425Z"
   },
   {
    "duration": 9,
    "start_time": "2023-02-02T17:51:53.949Z"
   }
  ],
  "kernelspec": {
   "display_name": "Python 3 (ipykernel)",
   "language": "python",
   "name": "python3"
  },
  "language_info": {
   "codemirror_mode": {
    "name": "ipython",
    "version": 3
   },
   "file_extension": ".py",
   "mimetype": "text/x-python",
   "name": "python",
   "nbconvert_exporter": "python",
   "pygments_lexer": "ipython3",
   "version": "3.9.0"
  },
  "toc": {
   "base_numbering": 1,
   "nav_menu": {},
   "number_sections": true,
   "sideBar": true,
   "skip_h1_title": true,
   "title_cell": "Table of Contents",
   "title_sidebar": "Contents",
   "toc_cell": false,
   "toc_position": {
    "height": "calc(100% - 180px)",
    "left": "10px",
    "top": "150px",
    "width": "165px"
   },
   "toc_section_display": true,
   "toc_window_display": true
  }
 },
 "nbformat": 4,
 "nbformat_minor": 2
}
